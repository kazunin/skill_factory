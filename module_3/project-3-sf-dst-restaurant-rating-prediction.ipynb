{
 "cells": [
  {
   "cell_type": "code",
   "execution_count": 1,
   "id": "green-upgrade",
   "metadata": {
    "_cell_guid": "b1076dfc-b9ad-4769-8c92-a6c4dae69d19",
    "_uuid": "8f2839f25d086af736a60e9eeb907d3b93b6e0e5",
    "execution": {
     "iopub.execute_input": "2021-04-11T15:16:00.088624Z",
     "iopub.status.busy": "2021-04-11T15:16:00.069522Z",
     "iopub.status.idle": "2021-04-11T15:16:08.846145Z",
     "shell.execute_reply": "2021-04-11T15:16:08.844663Z"
    },
    "papermill": {
     "duration": 8.831859,
     "end_time": "2021-04-11T15:16:08.846345",
     "exception": false,
     "start_time": "2021-04-11T15:16:00.014486",
     "status": "completed"
    },
    "tags": []
   },
   "outputs": [
    {
     "name": "stdout",
     "output_type": "stream",
     "text": [
      "/kaggle/input/sf-dst-restaurant-rating/sample_submission.csv\n",
      "/kaggle/input/sf-dst-restaurant-rating/main_task.csv\n",
      "/kaggle/input/sf-dst-restaurant-rating/kaggle_task.csv\n"
     ]
    }
   ],
   "source": [
    "import numpy as np \n",
    "import pandas as pd\n",
    "import re\n",
    "from datetime import datetime, timedelta\n",
    "import matplotlib.pyplot as plt\n",
    "import seaborn as sns \n",
    "%matplotlib inline\n",
    "from sklearn.model_selection import train_test_split\n",
    "import os\n",
    "for dirname, _, filenames in os.walk('/kaggle/input'):\n",
    "    for filename in filenames:\n",
    "        print(os.path.join(dirname, filename))\n",
    "\n",
    "# фиксируем, чтобы наши эксперименты были воспроизводимы!\n",
    "RANDOM_SEED = 42\n",
    "# зафиксируем версию пакетов, чтобы эксперименты были воспроизводимы:\n",
    "!pip freeze > requirements.txt\n",
    "\n",
    "DATA_DIR = '/kaggle/input/sf-dst-restaurant-rating/'\n",
    "df_train = pd.read_csv(DATA_DIR+'main_task.csv')\n",
    "df_test = pd.read_csv(DATA_DIR+'kaggle_task.csv')\n",
    "sample_submission = pd.read_csv(DATA_DIR+'sample_submission.csv')\n",
    "\n",
    "# для корректной обработки признаков объединяем трейн и тест в один датасет\n",
    "df_train['sample'] = 1 # помечаем где у нас трейн\n",
    "df_test['sample'] = 0 # помечаем где у нас тест\n",
    "df_test['Rating'] = 0 # в тесте у нас нет значения Rating, мы его должны предсказать, по этому пока просто заполняем нулями\n",
    "\n",
    "df = df_test.append(df_train, sort=False).reset_index(drop=True) # объединяем\n",
    "\n",
    "# анализируем Number_of_Reviews\n",
    "# вытащим из столбца Reviews даты посещений и добавим 2 столбца посещений (да / нет), \n",
    "# перевод дат в реальные даты, добавление столбца с разницей дат результаты модели ухудшили, пришлось отказаться\n",
    "def isNaN(string):\n",
    "    return string != string\n",
    "def review_parser_date_1(string):\n",
    "    if isNaN(string) != True:\n",
    "        dates = re.findall(r'\\d\\d\\/\\d\\d\\/\\d{4}', string[1:-1])\n",
    "        if(len(dates) == 2):\n",
    "            return int(1)\n",
    "        elif(len(dates) == 1):\n",
    "            return int(1)\n",
    "def review_parser_date_2(string):\n",
    "    if isNaN(string) != True:\n",
    "        dates = re.findall(r'\\d\\d\\/\\d\\d\\/\\d{4}', string[1:-1])\n",
    "        if(len(dates) == 2):\n",
    "            return int(1)\n",
    "df['date_1'] = df['Reviews'].apply(review_parser_date_1)\n",
    "df['date_2'] = df['Reviews'].apply(review_parser_date_2)\n",
    "# заполним столбец посещений единицей при наличии даты посещения, если нет даты, заполним потом нулями\n",
    "def set_number_of_reviews(date):\n",
    "    if(date == date):\n",
    "        return 1\n",
    "df['Number of Reviews'].fillna(df['date_1'].apply(set_number_of_reviews), inplace=True)\n",
    "# добавляем столбец о наличии пропуска как отдельный признак\n",
    "df['Number of Reviews isNAN'] = pd.isna(df['Number of Reviews']).astype('uint8')\n",
    "# и заполняем нулями NaN\n",
    "df['Number of Reviews'].fillna(0, inplace=True)\n",
    "\n",
    "# добавляем столбец о наличии пропуска как отдельный признак\n",
    "df['Price Range isNAN'] = pd.isna(df['Price Range']).astype('uint8')\n",
    "# заполняем средним значением столбец Price Range\n",
    "df['Price Range'].fillna('$$ - $$$', inplace = True)\n",
    "# и закодируем признка как '$$ - $$$' - 50 '$$$$' - 100 '$' - 20\n",
    "def price_convert(price):\n",
    "    if price == '$$ - $$$':\n",
    "        return 50\n",
    "    elif price == '$$$$':\n",
    "        return 100\n",
    "    else:\n",
    "        return 20\n",
    "df['Price Range'] = df['Price Range'].apply(price_convert)\n",
    "# разберемся со столбцом City - можно было использовать pd.get_dummies, но для собственного понимая сделал в ручную\n",
    "def find_city(cell):\n",
    "    if city in cell:\n",
    "        return 1\n",
    "    else:\n",
    "        return 0\n",
    "city_set = set()\n",
    "for city in df['City']:\n",
    "    city_set.add(city)\n",
    "for city in city_set:\n",
    "    df[city] = df['City'].apply(find_city)\n",
    "# добавляем столбец о наличии пропуска как отдельный признак\n",
    "df['City isNAN'] = pd.isna(df['City']).astype('uint8')\n",
    "# и аналогично с Cuisine Style, только взял 100 наиболее популярных типов, для пустых взял наиболее популяиный тип European\n",
    "import ast\n",
    "# добавляем столбец о наличии пропуска как отдельный признак\n",
    "df['Cuisine Style isNAN'] = pd.isna(df['Cuisine Style']).astype('uint8')\n",
    "df['Cuisine Style'] = df['Cuisine Style'].fillna('[\\'European\\']')\n",
    "# создаем список типов \n",
    "styles = {}\n",
    "for elements in df['Cuisine Style']:\n",
    "    if elements == elements:\n",
    "        x = ast.literal_eval(elements)\n",
    "        arr = [n.strip() for n in x]\n",
    "        for elem in arr:\n",
    "            if styles.get(elem):\n",
    "                styles[elem] += 1\n",
    "            else:\n",
    "                styles.setdefault(elem)\n",
    "                styles[elem] = 1\n",
    "# отбираем наиболее популярные \n",
    "opt_styles = set()\n",
    "for style in styles:\n",
    "    if styles[style] > 100:\n",
    "        opt_styles.add(style)\n",
    "# создаем столбцы по типам и заполняем их данными о принадлежности им\n",
    "def find_cuisine(styles):\n",
    "    if style in styles:\n",
    "        return 1\n",
    "    else:\n",
    "        return 0\n",
    "for style in opt_styles:\n",
    "    df[style] = df['Cuisine Style'].apply(find_cuisine)\n",
    "\n",
    "# модель дает MAE: 0.20957, если добавить столбы о наличии пропуска как отдельный признак,\n",
    "# то модель дает MAE: 0.20933, осталяем. Наиболее важные признаки - Ranking и Number of Reviews"
   ]
  },
  {
   "cell_type": "code",
   "execution_count": null,
   "id": "appointed-kuwait",
   "metadata": {
    "papermill": {
     "duration": 0.017295,
     "end_time": "2021-04-11T15:16:08.882003",
     "exception": false,
     "start_time": "2021-04-11T15:16:08.864708",
     "status": "completed"
    },
    "tags": []
   },
   "outputs": [],
   "source": []
  },
  {
   "cell_type": "code",
   "execution_count": 2,
   "id": "otherwise-strengthening",
   "metadata": {
    "execution": {
     "iopub.execute_input": "2021-04-11T15:16:08.924313Z",
     "iopub.status.busy": "2021-04-11T15:16:08.923607Z",
     "iopub.status.idle": "2021-04-11T15:16:10.643847Z",
     "shell.execute_reply": "2021-04-11T15:16:10.643004Z"
    },
    "papermill": {
     "duration": 1.744605,
     "end_time": "2021-04-11T15:16:10.644003",
     "exception": false,
     "start_time": "2021-04-11T15:16:08.899398",
     "status": "completed"
    },
    "tags": []
   },
   "outputs": [
    {
     "name": "stderr",
     "output_type": "stream",
     "text": [
      "/opt/conda/lib/python3.7/site-packages/pandas/plotting/_matplotlib/tools.py:400: MatplotlibDeprecationWarning: \n",
      "The is_first_col function was deprecated in Matplotlib 3.4 and will be removed two minor releases later. Use ax.get_subplotspec().is_first_col() instead.\n",
      "  if ax.is_first_col():\n"
     ]
    },
    {
     "data": {
      "image/png": "[encoded data removed]",
      "text/plain": [
       "<Figure size 1440x720 with 4 Axes>"
      ]
     },
     "metadata": {
      "needs_background": "light"
     },
     "output_type": "display_data"
    }
   ],
   "source": [
    "df[['Ranking', 'Rating', 'Number of Reviews','Price Range']].hist(figsize=(20, 10), bins=100);\n",
    "plt.tight_layout()"
   ]
  },
  {
   "cell_type": "code",
   "execution_count": 3,
   "id": "abandoned-alarm",
   "metadata": {
    "execution": {
     "iopub.execute_input": "2021-04-11T15:16:10.688623Z",
     "iopub.status.busy": "2021-04-11T15:16:10.687971Z",
     "iopub.status.idle": "2021-04-11T15:16:11.065237Z",
     "shell.execute_reply": "2021-04-11T15:16:11.064508Z"
    },
    "papermill": {
     "duration": 0.40188,
     "end_time": "2021-04-11T15:16:11.065385",
     "exception": false,
     "start_time": "2021-04-11T15:16:10.663505",
     "status": "completed"
    },
    "tags": []
   },
   "outputs": [
    {
     "data": {
      "image/png": "[encoded data removed]",
      "text/plain": [
       "<Figure size 720x360 with 1 Axes>"
      ]
     },
     "metadata": {
      "needs_background": "light"
     },
     "output_type": "display_data"
    }
   ],
   "source": [
    "plt.rcParams['figure.figsize'] = (10,5)\n",
    "df[df['sample'] == 1]['Ranking'].hist(bins=100);"
   ]
  },
  {
   "cell_type": "code",
   "execution_count": 4,
   "id": "vulnerable-accommodation",
   "metadata": {
    "execution": {
     "iopub.execute_input": "2021-04-11T15:16:11.114265Z",
     "iopub.status.busy": "2021-04-11T15:16:11.113481Z",
     "iopub.status.idle": "2021-04-11T15:16:11.478600Z",
     "shell.execute_reply": "2021-04-11T15:16:11.479144Z"
    },
    "papermill": {
     "duration": 0.392523,
     "end_time": "2021-04-11T15:16:11.479337",
     "exception": false,
     "start_time": "2021-04-11T15:16:11.086814",
     "status": "completed"
    },
    "tags": []
   },
   "outputs": [
    {
     "data": {
      "image/png": "[encoded data removed]",
      "text/plain": [
       "<Figure size 720x360 with 1 Axes>"
      ]
     },
     "metadata": {
      "needs_background": "light"
     },
     "output_type": "display_data"
    }
   ],
   "source": [
    "plt.rcParams['figure.figsize'] = (10,5)\n",
    "df[df['sample'] == 1]['Rating'].hist(bins=100);"
   ]
  },
  {
   "cell_type": "code",
   "execution_count": 5,
   "id": "empty-toyota",
   "metadata": {
    "execution": {
     "iopub.execute_input": "2021-04-11T15:16:11.532535Z",
     "iopub.status.busy": "2021-04-11T15:16:11.531430Z",
     "iopub.status.idle": "2021-04-11T15:16:12.115518Z",
     "shell.execute_reply": "2021-04-11T15:16:12.114811Z"
    },
    "papermill": {
     "duration": 0.613592,
     "end_time": "2021-04-11T15:16:12.115665",
     "exception": false,
     "start_time": "2021-04-11T15:16:11.502073",
     "status": "completed"
    },
    "tags": []
   },
   "outputs": [
    {
     "data": {
      "image/png": "[encoded data removed]",
      "text/plain": [
       "<Figure size 720x720 with 2 Axes>"
      ]
     },
     "metadata": {
      "needs_background": "light"
     },
     "output_type": "display_data"
    }
   ],
   "source": [
    "df_tmp = df[df['sample'] == 1][['Ranking', 'Rating', 'Number of Reviews', 'Price Range', 'Number of Reviews isNAN', 'Cuisine Style isNAN']].copy()\n",
    "plt.rcParams['figure.figsize'] = (10, 10)\n",
    "sns.heatmap(df_tmp.corr(), square=True, annot=True, fmt=\".1f\", linewidths=0.2, cmap=\"RdGy\");\n",
    "plt.tight_layout()"
   ]
  },
  {
   "cell_type": "code",
   "execution_count": 6,
   "id": "parallel-nothing",
   "metadata": {
    "execution": {
     "iopub.execute_input": "2021-04-11T15:16:12.168157Z",
     "iopub.status.busy": "2021-04-11T15:16:12.166987Z",
     "iopub.status.idle": "2021-04-11T15:16:12.366410Z",
     "shell.execute_reply": "2021-04-11T15:16:12.365721Z"
    },
    "papermill": {
     "duration": 0.227749,
     "end_time": "2021-04-11T15:16:12.366552",
     "exception": false,
     "start_time": "2021-04-11T15:16:12.138803",
     "status": "completed"
    },
    "tags": []
   },
   "outputs": [
    {
     "data": {
      "text/plain": [
       "<AxesSubplot:>"
      ]
     },
     "execution_count": 6,
     "metadata": {},
     "output_type": "execute_result"
    },
    {
     "data": {
      "image/png": "[encoded data removed]",
      "text/plain": [
       "<Figure size 720x720 with 1 Axes>"
      ]
     },
     "metadata": {
      "needs_background": "light"
     },
     "output_type": "display_data"
    }
   ],
   "source": [
    "# посомотрим на столбецы повнимательнее\n",
    "df['Ranking'].describe()\n",
    "df['Ranking'].hist()"
   ]
  },
  {
   "cell_type": "code",
   "execution_count": 7,
   "id": "least-ceiling",
   "metadata": {
    "execution": {
     "iopub.execute_input": "2021-04-11T15:16:12.428327Z",
     "iopub.status.busy": "2021-04-11T15:16:12.422384Z",
     "iopub.status.idle": "2021-04-11T15:16:12.632946Z",
     "shell.execute_reply": "2021-04-11T15:16:12.633532Z"
    },
    "papermill": {
     "duration": 0.241853,
     "end_time": "2021-04-11T15:16:12.633705",
     "exception": false,
     "start_time": "2021-04-11T15:16:12.391852",
     "status": "completed"
    },
    "tags": []
   },
   "outputs": [
    {
     "data": {
      "text/plain": [
       "<AxesSubplot:>"
      ]
     },
     "execution_count": 7,
     "metadata": {},
     "output_type": "execute_result"
    },
    {
     "data": {
      "image/png": "[encoded data removed]",
      "text/plain": [
       "<Figure size 720x720 with 1 Axes>"
      ]
     },
     "metadata": {
      "needs_background": "light"
     },
     "output_type": "display_data"
    }
   ],
   "source": [
    "df.loc[df['Ranking'] > 10000]['Number of Reviews'].hist()"
   ]
  },
  {
   "cell_type": "code",
   "execution_count": 8,
   "id": "desirable-equipment",
   "metadata": {
    "execution": {
     "iopub.execute_input": "2021-04-11T15:16:12.716802Z",
     "iopub.status.busy": "2021-04-11T15:16:12.716118Z",
     "iopub.status.idle": "2021-04-11T15:16:13.035191Z",
     "shell.execute_reply": "2021-04-11T15:16:13.034261Z"
    },
    "papermill": {
     "duration": 0.376382,
     "end_time": "2021-04-11T15:16:13.035349",
     "exception": false,
     "start_time": "2021-04-11T15:16:12.658967",
     "status": "completed"
    },
    "tags": []
   },
   "outputs": [
    {
     "data": {
      "text/plain": [
       "count      50000\n",
       "unique        31\n",
       "top       London\n",
       "freq        7193\n",
       "Name: City, dtype: object"
      ]
     },
     "execution_count": 8,
     "metadata": {},
     "output_type": "execute_result"
    },
    {
     "data": {
      "image/png": "[encoded data removed]",
      "text/plain": [
       "<Figure size 720x720 with 1 Axes>"
      ]
     },
     "metadata": {
      "needs_background": "light"
     },
     "output_type": "display_data"
    }
   ],
   "source": [
    "df['City'].hist()\n",
    "df['City'].describe()"
   ]
  },
  {
   "cell_type": "code",
   "execution_count": 9,
   "id": "original-spectrum",
   "metadata": {
    "execution": {
     "iopub.execute_input": "2021-04-11T15:16:13.100208Z",
     "iopub.status.busy": "2021-04-11T15:16:13.098036Z",
     "iopub.status.idle": "2021-04-11T15:16:13.115085Z",
     "shell.execute_reply": "2021-04-11T15:16:13.114479Z"
    },
    "papermill": {
     "duration": 0.052897,
     "end_time": "2021-04-11T15:16:13.115244",
     "exception": false,
     "start_time": "2021-04-11T15:16:13.062347",
     "status": "completed"
    },
    "tags": []
   },
   "outputs": [],
   "source": [
    "# посмотрим сколько ресторанов в городе\n",
    "rest_in_city = df.groupby('City')['Ranking'].count().to_dict()\n",
    "df['Restaurants in City'] = df['City'].map(rest_in_city)\n",
    "# этот показатель дал MAE: 0.20759625, оставляем"
   ]
  },
  {
   "cell_type": "code",
   "execution_count": 10,
   "id": "careful-groove",
   "metadata": {
    "execution": {
     "iopub.execute_input": "2021-04-11T15:16:13.175339Z",
     "iopub.status.busy": "2021-04-11T15:16:13.174592Z",
     "iopub.status.idle": "2021-04-11T15:16:14.344378Z",
     "shell.execute_reply": "2021-04-11T15:16:14.343647Z"
    },
    "papermill": {
     "duration": 1.202255,
     "end_time": "2021-04-11T15:16:14.344529",
     "exception": false,
     "start_time": "2021-04-11T15:16:13.142274",
     "status": "completed"
    },
    "tags": []
   },
   "outputs": [],
   "source": [
    "# посмотрим на позицию ресторана отностительно всех ресторанов в городе\n",
    "df['Rest Rank in City'] = df.apply(lambda x: round(x['Ranking']/x['Restaurants in City'],2), axis=1)\n",
    "# этот показатель дал MAE: 0.206181875, оставляем"
   ]
  },
  {
   "cell_type": "code",
   "execution_count": 11,
   "id": "elder-primary",
   "metadata": {
    "execution": {
     "iopub.execute_input": "2021-04-11T15:16:14.410173Z",
     "iopub.status.busy": "2021-04-11T15:16:14.408041Z",
     "iopub.status.idle": "2021-04-11T15:17:10.773773Z",
     "shell.execute_reply": "2021-04-11T15:17:10.773115Z"
    },
    "papermill": {
     "duration": 56.40208,
     "end_time": "2021-04-11T15:17:10.773948",
     "exception": false,
     "start_time": "2021-04-11T15:16:14.371868",
     "status": "completed"
    },
    "tags": []
   },
   "outputs": [],
   "source": [
    "# и на позицию ресторана отностительно мин и макс рейтинга в городе\n",
    "def get_rank(row):\n",
    "    city_min = MinMax_Rank[MinMax_Rank['City'] == row.City ]['min'].iloc[0]\n",
    "    city_max = MinMax_Rank[MinMax_Rank['City'] == row.City ]['max'].iloc[0]\n",
    "    return round(1-(row['Ranking'] - city_min)/(city_max - city_min),2)\n",
    "MinMax_Rank = df.groupby('City')['Ranking'].agg([min,max]).reset_index()\n",
    "df['Min/Max Rank in City'] = df.apply(lambda x: get_rank(x), axis=1)\n",
    "# этот показатель дал MAE: 0.20615375, оставляем"
   ]
  },
  {
   "cell_type": "code",
   "execution_count": 12,
   "id": "young-portable",
   "metadata": {
    "execution": {
     "iopub.execute_input": "2021-04-11T15:17:10.841390Z",
     "iopub.status.busy": "2021-04-11T15:17:10.840155Z",
     "iopub.status.idle": "2021-04-11T15:17:12.343737Z",
     "shell.execute_reply": "2021-04-11T15:17:12.342997Z"
    },
    "papermill": {
     "duration": 1.542315,
     "end_time": "2021-04-11T15:17:12.343898",
     "exception": false,
     "start_time": "2021-04-11T15:17:10.801583",
     "status": "completed"
    },
    "tags": []
   },
   "outputs": [],
   "source": [
    "# столбцы date_1 и date_2 виде 0/1 не дали эффекта, попробуем заполнить реальными датами \n",
    "df.drop(['date_1', 'date_2'], axis = 1, inplace=True)\n",
    "def review_date_1(string):\n",
    "    if isNaN(string) != True:\n",
    "        dates = re.findall(r'\\d\\d\\/\\d\\d\\/\\d{4}', string[1:-1])\n",
    "        if(len(dates) == 2):\n",
    "            return datetime.strptime(dates[0], '%m/%d/%Y').timestamp()\n",
    "        elif(len(dates) == 1):\n",
    "            return datetime.strptime(dates[0], '%m/%d/%Y').timestamp()\n",
    "def review_date_2(string):\n",
    "    if isNaN(string) != True:\n",
    "        dates = re.findall(r'\\d\\d\\/\\d\\d\\/\\d{4}', string[1:-1])\n",
    "        if(len(dates) == 2):\n",
    "            return datetime.strptime(dates[1], '%m/%d/%Y').timestamp()\n",
    "df['date_1'] = df['Reviews'].apply(review_date_1)\n",
    "df['date_2'] = df['Reviews'].apply(review_date_2)\n",
    "df['date_1'] = df['date_1'].fillna(datetime.timestamp(datetime(1970,1,1)))\n",
    "df['date_2'] = df['date_2'].fillna(datetime.timestamp(datetime(1970,1,1)))\n",
    "\n",
    "df['date_btw_reviews'] = abs(df['date_1'] - df['date_2'])/60/60/24\n",
    "# этот показатель дал MAE: 0.204, а вот сами столбцы с датами в виде секунд не дали улучшения модели"
   ]
  },
  {
   "cell_type": "code",
   "execution_count": 13,
   "id": "social-connectivity",
   "metadata": {
    "execution": {
     "iopub.execute_input": "2021-04-11T15:17:12.410062Z",
     "iopub.status.busy": "2021-04-11T15:17:12.409265Z",
     "iopub.status.idle": "2021-04-11T15:17:12.441890Z",
     "shell.execute_reply": "2021-04-11T15:17:12.441238Z"
    },
    "papermill": {
     "duration": 0.068956,
     "end_time": "2021-04-11T15:17:12.442045",
     "exception": false,
     "start_time": "2021-04-11T15:17:12.373089",
     "status": "completed"
    },
    "tags": []
   },
   "outputs": [
    {
     "data": {
      "text/html": [
       "<div>\n",
       "<style scoped>\n",
       "    .dataframe tbody tr th:only-of-type {\n",
       "        vertical-align: middle;\n",
       "    }\n",
       "\n",
       "    .dataframe tbody tr th {\n",
       "        vertical-align: top;\n",
       "    }\n",
       "\n",
       "    .dataframe thead th {\n",
       "        text-align: right;\n",
       "    }\n",
       "</style>\n",
       "<table border=\"1\" class=\"dataframe\">\n",
       "  <thead>\n",
       "    <tr style=\"text-align: right;\">\n",
       "      <th></th>\n",
       "      <th>Restaurant_id</th>\n",
       "      <th>City</th>\n",
       "      <th>Cuisine Style</th>\n",
       "      <th>Ranking</th>\n",
       "      <th>Price Range</th>\n",
       "      <th>Number of Reviews</th>\n",
       "      <th>Reviews</th>\n",
       "      <th>URL_TA</th>\n",
       "      <th>ID_TA</th>\n",
       "      <th>sample</th>\n",
       "      <th>...</th>\n",
       "      <th>African</th>\n",
       "      <th>Austrian</th>\n",
       "      <th>Spanish</th>\n",
       "      <th>Healthy</th>\n",
       "      <th>Restaurants in City</th>\n",
       "      <th>Rest Rank in City</th>\n",
       "      <th>Min/Max Rank in City</th>\n",
       "      <th>date_1</th>\n",
       "      <th>date_2</th>\n",
       "      <th>date_btw_reviews</th>\n",
       "    </tr>\n",
       "  </thead>\n",
       "  <tbody>\n",
       "    <tr>\n",
       "      <th>0</th>\n",
       "      <td>id_0</td>\n",
       "      <td>Paris</td>\n",
       "      <td>['Bar', 'Pub']</td>\n",
       "      <td>12963.0</td>\n",
       "      <td>50</td>\n",
       "      <td>4.0</td>\n",
       "      <td>[[], []]</td>\n",
       "      <td>/Restaurant_Review-g187147-d10746918-Reviews-L...</td>\n",
       "      <td>d10746918</td>\n",
       "      <td>0</td>\n",
       "      <td>...</td>\n",
       "      <td>0</td>\n",
       "      <td>0</td>\n",
       "      <td>0</td>\n",
       "      <td>0</td>\n",
       "      <td>6108</td>\n",
       "      <td>2.12</td>\n",
       "      <td>0.07</td>\n",
       "      <td>0.000000e+00</td>\n",
       "      <td>0.000000e+00</td>\n",
       "      <td>0.0</td>\n",
       "    </tr>\n",
       "    <tr>\n",
       "      <th>1</th>\n",
       "      <td>id_1</td>\n",
       "      <td>Helsinki</td>\n",
       "      <td>['European', 'Scandinavian', 'Gluten Free Opti...</td>\n",
       "      <td>106.0</td>\n",
       "      <td>50</td>\n",
       "      <td>97.0</td>\n",
       "      <td>[['Very good reviews!', 'Fine dining in Hakani...</td>\n",
       "      <td>/Restaurant_Review-g189934-d6674944-Reviews-Ra...</td>\n",
       "      <td>d6674944</td>\n",
       "      <td>0</td>\n",
       "      <td>...</td>\n",
       "      <td>0</td>\n",
       "      <td>0</td>\n",
       "      <td>0</td>\n",
       "      <td>0</td>\n",
       "      <td>475</td>\n",
       "      <td>0.22</td>\n",
       "      <td>0.91</td>\n",
       "      <td>1.512432e+09</td>\n",
       "      <td>1.509235e+09</td>\n",
       "      <td>37.0</td>\n",
       "    </tr>\n",
       "    <tr>\n",
       "      <th>2</th>\n",
       "      <td>id_2</td>\n",
       "      <td>Edinburgh</td>\n",
       "      <td>['Vegetarian Friendly']</td>\n",
       "      <td>810.0</td>\n",
       "      <td>50</td>\n",
       "      <td>28.0</td>\n",
       "      <td>[['Better than the Links', 'Ivy Black'], ['12/...</td>\n",
       "      <td>/Restaurant_Review-g186525-d13129638-Reviews-B...</td>\n",
       "      <td>d13129638</td>\n",
       "      <td>0</td>\n",
       "      <td>...</td>\n",
       "      <td>0</td>\n",
       "      <td>0</td>\n",
       "      <td>0</td>\n",
       "      <td>0</td>\n",
       "      <td>745</td>\n",
       "      <td>1.09</td>\n",
       "      <td>0.54</td>\n",
       "      <td>1.514419e+09</td>\n",
       "      <td>1.512518e+09</td>\n",
       "      <td>22.0</td>\n",
       "    </tr>\n",
       "    <tr>\n",
       "      <th>3</th>\n",
       "      <td>id_3</td>\n",
       "      <td>London</td>\n",
       "      <td>['Italian', 'Mediterranean', 'European', 'Vege...</td>\n",
       "      <td>1669.0</td>\n",
       "      <td>100</td>\n",
       "      <td>202.0</td>\n",
       "      <td>[['Most exquisite', 'Delicious and authentic']...</td>\n",
       "      <td>/Restaurant_Review-g186338-d680417-Reviews-Qui...</td>\n",
       "      <td>d680417</td>\n",
       "      <td>0</td>\n",
       "      <td>...</td>\n",
       "      <td>0</td>\n",
       "      <td>0</td>\n",
       "      <td>0</td>\n",
       "      <td>0</td>\n",
       "      <td>7193</td>\n",
       "      <td>0.23</td>\n",
       "      <td>0.90</td>\n",
       "      <td>1.512518e+09</td>\n",
       "      <td>1.511309e+09</td>\n",
       "      <td>14.0</td>\n",
       "    </tr>\n",
       "    <tr>\n",
       "      <th>4</th>\n",
       "      <td>id_4</td>\n",
       "      <td>Bratislava</td>\n",
       "      <td>['Italian', 'Mediterranean', 'European', 'Seaf...</td>\n",
       "      <td>37.0</td>\n",
       "      <td>100</td>\n",
       "      <td>162.0</td>\n",
       "      <td>[['Always the best in bratislava', 'Very good ...</td>\n",
       "      <td>/Restaurant_Review-g274924-d1112354-Reviews-Ma...</td>\n",
       "      <td>d1112354</td>\n",
       "      <td>0</td>\n",
       "      <td>...</td>\n",
       "      <td>0</td>\n",
       "      <td>0</td>\n",
       "      <td>0</td>\n",
       "      <td>0</td>\n",
       "      <td>380</td>\n",
       "      <td>0.10</td>\n",
       "      <td>0.96</td>\n",
       "      <td>1.518048e+09</td>\n",
       "      <td>1.516752e+09</td>\n",
       "      <td>15.0</td>\n",
       "    </tr>\n",
       "  </tbody>\n",
       "</table>\n",
       "<p>5 rows × 124 columns</p>\n",
       "</div>"
      ],
      "text/plain": [
       "  Restaurant_id        City  \\\n",
       "0          id_0       Paris   \n",
       "1          id_1    Helsinki   \n",
       "2          id_2   Edinburgh   \n",
       "3          id_3      London   \n",
       "4          id_4  Bratislava   \n",
       "\n",
       "                                       Cuisine Style  Ranking  Price Range  \\\n",
       "0                                     ['Bar', 'Pub']  12963.0           50   \n",
       "1  ['European', 'Scandinavian', 'Gluten Free Opti...    106.0           50   \n",
       "2                            ['Vegetarian Friendly']    810.0           50   \n",
       "3  ['Italian', 'Mediterranean', 'European', 'Vege...   1669.0          100   \n",
       "4  ['Italian', 'Mediterranean', 'European', 'Seaf...     37.0          100   \n",
       "\n",
       "   Number of Reviews                                            Reviews  \\\n",
       "0                4.0                                           [[], []]   \n",
       "1               97.0  [['Very good reviews!', 'Fine dining in Hakani...   \n",
       "2               28.0  [['Better than the Links', 'Ivy Black'], ['12/...   \n",
       "3              202.0  [['Most exquisite', 'Delicious and authentic']...   \n",
       "4              162.0  [['Always the best in bratislava', 'Very good ...   \n",
       "\n",
       "                                              URL_TA      ID_TA  sample  ...  \\\n",
       "0  /Restaurant_Review-g187147-d10746918-Reviews-L...  d10746918       0  ...   \n",
       "1  /Restaurant_Review-g189934-d6674944-Reviews-Ra...   d6674944       0  ...   \n",
       "2  /Restaurant_Review-g186525-d13129638-Reviews-B...  d13129638       0  ...   \n",
       "3  /Restaurant_Review-g186338-d680417-Reviews-Qui...    d680417       0  ...   \n",
       "4  /Restaurant_Review-g274924-d1112354-Reviews-Ma...   d1112354       0  ...   \n",
       "\n",
       "   African  Austrian  Spanish  Healthy  Restaurants in City  \\\n",
       "0        0         0        0        0                 6108   \n",
       "1        0         0        0        0                  475   \n",
       "2        0         0        0        0                  745   \n",
       "3        0         0        0        0                 7193   \n",
       "4        0         0        0        0                  380   \n",
       "\n",
       "   Rest Rank in City  Min/Max Rank in City        date_1        date_2  \\\n",
       "0               2.12                  0.07  0.000000e+00  0.000000e+00   \n",
       "1               0.22                  0.91  1.512432e+09  1.509235e+09   \n",
       "2               1.09                  0.54  1.514419e+09  1.512518e+09   \n",
       "3               0.23                  0.90  1.512518e+09  1.511309e+09   \n",
       "4               0.10                  0.96  1.518048e+09  1.516752e+09   \n",
       "\n",
       "   date_btw_reviews  \n",
       "0               0.0  \n",
       "1              37.0  \n",
       "2              22.0  \n",
       "3              14.0  \n",
       "4              15.0  \n",
       "\n",
       "[5 rows x 124 columns]"
      ]
     },
     "execution_count": 13,
     "metadata": {},
     "output_type": "execute_result"
    }
   ],
   "source": [
    "df.head()\n",
    "# тут очень был бы кстати анализ отзывов на положительные и отрицательные ключевые слов"
   ]
  },
  {
   "cell_type": "code",
   "execution_count": 14,
   "id": "considerable-differential",
   "metadata": {
    "execution": {
     "iopub.execute_input": "2021-04-11T15:17:12.507964Z",
     "iopub.status.busy": "2021-04-11T15:17:12.506179Z",
     "iopub.status.idle": "2021-04-11T15:17:12.640419Z",
     "shell.execute_reply": "2021-04-11T15:17:12.639698Z"
    },
    "papermill": {
     "duration": 0.170527,
     "end_time": "2021-04-11T15:17:12.640569",
     "exception": false,
     "start_time": "2021-04-11T15:17:12.470042",
     "status": "completed"
    },
    "tags": []
   },
   "outputs": [],
   "source": [
    "# убираем не нужные для модели признаки\n",
    "df['date_1'].fillna(0, inplace=True) \n",
    "df['date_2'].fillna(0, inplace=True)\n",
    "df.drop(['Restaurant_id', 'City', 'Cuisine Style', 'Reviews', 'URL_TA', 'ID_TA', 'date_1', 'date_2'], axis = 1, inplace=True)\n",
    "# 'date_1', 'date_2' не дали улучшения модели, удалили\n",
    "# выделим тестовую часть\n",
    "train_data = df.query('sample == 1').drop(['sample'], axis=1)\n",
    "test_data = df.query('sample == 0').drop(['sample'], axis=1)\n",
    "\n",
    "y = train_data.Rating.values            # наш таргет\n",
    "X = train_data.drop(['Rating'], axis=1)\n",
    "\n",
    "# Воспользуемся специальной функцие train_test_split для разбивки тестовых данных\n",
    "# выделим 20% данных на валидацию (параметр test_size)\n",
    "X_train, X_test, y_train, y_test = train_test_split(X, y, test_size=0.2, random_state=RANDOM_SEED)"
   ]
  },
  {
   "cell_type": "code",
   "execution_count": 15,
   "id": "veterinary-parks",
   "metadata": {
    "execution": {
     "iopub.execute_input": "2021-04-11T15:17:12.703308Z",
     "iopub.status.busy": "2021-04-11T15:17:12.702387Z",
     "iopub.status.idle": "2021-04-11T15:17:12.706935Z",
     "shell.execute_reply": "2021-04-11T15:17:12.706357Z"
    },
    "papermill": {
     "duration": 0.038373,
     "end_time": "2021-04-11T15:17:12.707075",
     "exception": false,
     "start_time": "2021-04-11T15:17:12.668702",
     "status": "completed"
    },
    "tags": []
   },
   "outputs": [
    {
     "data": {
      "text/plain": [
       "((10000, 115), (40000, 115), (40000, 114), (32000, 114), (8000, 114))"
      ]
     },
     "execution_count": 15,
     "metadata": {},
     "output_type": "execute_result"
    }
   ],
   "source": [
    "# проверяем\n",
    "test_data.shape, train_data.shape, X.shape, X_train.shape, X_test.shape"
   ]
  },
  {
   "cell_type": "code",
   "execution_count": 16,
   "id": "familiar-cologne",
   "metadata": {
    "execution": {
     "iopub.execute_input": "2021-04-11T15:17:12.770865Z",
     "iopub.status.busy": "2021-04-11T15:17:12.770129Z",
     "iopub.status.idle": "2021-04-11T15:17:26.980577Z",
     "shell.execute_reply": "2021-04-11T15:17:26.980047Z"
    },
    "papermill": {
     "duration": 14.245146,
     "end_time": "2021-04-11T15:17:26.980722",
     "exception": false,
     "start_time": "2021-04-11T15:17:12.735576",
     "status": "completed"
    },
    "tags": []
   },
   "outputs": [
    {
     "name": "stderr",
     "output_type": "stream",
     "text": [
      "[Parallel(n_jobs=-1)]: Using backend ThreadingBackend with 4 concurrent workers.\n",
      "[Parallel(n_jobs=-1)]: Done  42 tasks      | elapsed:    6.0s\n",
      "[Parallel(n_jobs=-1)]: Done 100 out of 100 | elapsed:   13.6s finished\n",
      "[Parallel(n_jobs=4)]: Using backend ThreadingBackend with 4 concurrent workers.\n",
      "[Parallel(n_jobs=4)]: Done  42 tasks      | elapsed:    0.0s\n",
      "[Parallel(n_jobs=4)]: Done 100 out of 100 | elapsed:    0.1s finished\n"
     ]
    },
    {
     "name": "stdout",
     "output_type": "stream",
     "text": [
      "MAE: 0.204164375\n"
     ]
    }
   ],
   "source": [
    "# Импортируем необходимые библиотеки:\n",
    "from sklearn.ensemble import RandomForestRegressor # инструмент для создания и обучения модели\n",
    "from sklearn import metrics # инструменты для оценки точности модели\n",
    "# Создаём модель (НАСТРОЙКИ НЕ ТРОГАЕМ)\n",
    "model = RandomForestRegressor(n_estimators=100, verbose=1, n_jobs=-1, random_state=RANDOM_SEED)\n",
    "# Обучаем модель на тестовом наборе данных\n",
    "model.fit(X_train, y_train)\n",
    "\n",
    "# Используем обученную модель для предсказания рейтинга ресторанов в тестовой выборке.\n",
    "# Предсказанные значения записываем в переменную y_pred\n",
    "y_pred = model.predict(X_test)\n",
    "# Сравниваем предсказанные значения (y_pred) с реальными (y_test), и смотрим насколько они в среднем отличаются\n",
    "# Метрика называется Mean Absolute Error (MAE) и показывает среднее отклонение предсказанных значений от фактических.\n",
    "print('MAE:', metrics.mean_absolute_error(y_test, y_pred))"
   ]
  },
  {
   "cell_type": "code",
   "execution_count": 17,
   "id": "continued-major",
   "metadata": {
    "execution": {
     "iopub.execute_input": "2021-04-11T15:17:27.047825Z",
     "iopub.status.busy": "2021-04-11T15:17:27.047105Z",
     "iopub.status.idle": "2021-04-11T15:17:27.374314Z",
     "shell.execute_reply": "2021-04-11T15:17:27.374867Z"
    },
    "papermill": {
     "duration": 0.363329,
     "end_time": "2021-04-11T15:17:27.375054",
     "exception": false,
     "start_time": "2021-04-11T15:17:27.011725",
     "status": "completed"
    },
    "tags": []
   },
   "outputs": [
    {
     "data": {
      "text/plain": [
       "<AxesSubplot:>"
      ]
     },
     "execution_count": 17,
     "metadata": {},
     "output_type": "execute_result"
    },
    {
     "data": {
      "image/png": "[encoded data removed]",
      "text/plain": [
       "<Figure size 720x720 with 1 Axes>"
      ]
     },
     "metadata": {
      "needs_background": "light"
     },
     "output_type": "display_data"
    }
   ],
   "source": [
    "# в RandomForestRegressor есть возможность вывести самые важные признаки для модели\n",
    "plt.rcParams['figure.figsize'] = (10,10)\n",
    "feat_importances = pd.Series(model.feature_importances_, index=X.columns)\n",
    "feat_importances.nlargest(15).plot(kind='barh')"
   ]
  },
  {
   "cell_type": "code",
   "execution_count": 18,
   "id": "induced-scene",
   "metadata": {
    "execution": {
     "iopub.execute_input": "2021-04-11T15:17:27.469404Z",
     "iopub.status.busy": "2021-04-11T15:17:27.451956Z",
     "iopub.status.idle": "2021-04-11T15:17:27.474650Z",
     "shell.execute_reply": "2021-04-11T15:17:27.474024Z"
    },
    "papermill": {
     "duration": 0.068552,
     "end_time": "2021-04-11T15:17:27.474813",
     "exception": false,
     "start_time": "2021-04-11T15:17:27.406261",
     "status": "completed"
    },
    "tags": []
   },
   "outputs": [
    {
     "data": {
      "text/html": [
       "<div>\n",
       "<style scoped>\n",
       "    .dataframe tbody tr th:only-of-type {\n",
       "        vertical-align: middle;\n",
       "    }\n",
       "\n",
       "    .dataframe tbody tr th {\n",
       "        vertical-align: top;\n",
       "    }\n",
       "\n",
       "    .dataframe thead th {\n",
       "        text-align: right;\n",
       "    }\n",
       "</style>\n",
       "<table border=\"1\" class=\"dataframe\">\n",
       "  <thead>\n",
       "    <tr style=\"text-align: right;\">\n",
       "      <th></th>\n",
       "      <th>Ranking</th>\n",
       "      <th>Price Range</th>\n",
       "      <th>Number of Reviews</th>\n",
       "      <th>Rating</th>\n",
       "      <th>Number of Reviews isNAN</th>\n",
       "      <th>Price Range isNAN</th>\n",
       "      <th>Madrid</th>\n",
       "      <th>Berlin</th>\n",
       "      <th>London</th>\n",
       "      <th>Luxembourg</th>\n",
       "      <th>...</th>\n",
       "      <th>Korean</th>\n",
       "      <th>Pizza</th>\n",
       "      <th>African</th>\n",
       "      <th>Austrian</th>\n",
       "      <th>Spanish</th>\n",
       "      <th>Healthy</th>\n",
       "      <th>Restaurants in City</th>\n",
       "      <th>Rest Rank in City</th>\n",
       "      <th>Min/Max Rank in City</th>\n",
       "      <th>date_btw_reviews</th>\n",
       "    </tr>\n",
       "  </thead>\n",
       "  <tbody>\n",
       "    <tr>\n",
       "      <th>9355</th>\n",
       "      <td>5037.0</td>\n",
       "      <td>20</td>\n",
       "      <td>14.0</td>\n",
       "      <td>0.0</td>\n",
       "      <td>0</td>\n",
       "      <td>0</td>\n",
       "      <td>0</td>\n",
       "      <td>0</td>\n",
       "      <td>1</td>\n",
       "      <td>0</td>\n",
       "      <td>...</td>\n",
       "      <td>0</td>\n",
       "      <td>0</td>\n",
       "      <td>0</td>\n",
       "      <td>0</td>\n",
       "      <td>0</td>\n",
       "      <td>0</td>\n",
       "      <td>7193</td>\n",
       "      <td>0.70</td>\n",
       "      <td>0.69</td>\n",
       "      <td>11.0</td>\n",
       "    </tr>\n",
       "    <tr>\n",
       "      <th>6186</th>\n",
       "      <td>4832.0</td>\n",
       "      <td>50</td>\n",
       "      <td>38.0</td>\n",
       "      <td>0.0</td>\n",
       "      <td>0</td>\n",
       "      <td>0</td>\n",
       "      <td>0</td>\n",
       "      <td>0</td>\n",
       "      <td>0</td>\n",
       "      <td>0</td>\n",
       "      <td>...</td>\n",
       "      <td>0</td>\n",
       "      <td>1</td>\n",
       "      <td>0</td>\n",
       "      <td>0</td>\n",
       "      <td>0</td>\n",
       "      <td>0</td>\n",
       "      <td>2589</td>\n",
       "      <td>1.87</td>\n",
       "      <td>0.19</td>\n",
       "      <td>8.0</td>\n",
       "    </tr>\n",
       "    <tr>\n",
       "      <th>2528</th>\n",
       "      <td>3867.0</td>\n",
       "      <td>50</td>\n",
       "      <td>90.0</td>\n",
       "      <td>0.0</td>\n",
       "      <td>0</td>\n",
       "      <td>0</td>\n",
       "      <td>0</td>\n",
       "      <td>0</td>\n",
       "      <td>0</td>\n",
       "      <td>0</td>\n",
       "      <td>...</td>\n",
       "      <td>0</td>\n",
       "      <td>0</td>\n",
       "      <td>0</td>\n",
       "      <td>0</td>\n",
       "      <td>0</td>\n",
       "      <td>0</td>\n",
       "      <td>6108</td>\n",
       "      <td>0.63</td>\n",
       "      <td>0.72</td>\n",
       "      <td>334.0</td>\n",
       "    </tr>\n",
       "    <tr>\n",
       "      <th>4302</th>\n",
       "      <td>9320.0</td>\n",
       "      <td>50</td>\n",
       "      <td>2.0</td>\n",
       "      <td>0.0</td>\n",
       "      <td>0</td>\n",
       "      <td>1</td>\n",
       "      <td>0</td>\n",
       "      <td>0</td>\n",
       "      <td>0</td>\n",
       "      <td>0</td>\n",
       "      <td>...</td>\n",
       "      <td>0</td>\n",
       "      <td>0</td>\n",
       "      <td>0</td>\n",
       "      <td>0</td>\n",
       "      <td>0</td>\n",
       "      <td>0</td>\n",
       "      <td>6108</td>\n",
       "      <td>1.53</td>\n",
       "      <td>0.33</td>\n",
       "      <td>14145.0</td>\n",
       "    </tr>\n",
       "    <tr>\n",
       "      <th>2882</th>\n",
       "      <td>808.0</td>\n",
       "      <td>50</td>\n",
       "      <td>8.0</td>\n",
       "      <td>0.0</td>\n",
       "      <td>0</td>\n",
       "      <td>0</td>\n",
       "      <td>0</td>\n",
       "      <td>0</td>\n",
       "      <td>0</td>\n",
       "      <td>0</td>\n",
       "      <td>...</td>\n",
       "      <td>0</td>\n",
       "      <td>0</td>\n",
       "      <td>0</td>\n",
       "      <td>0</td>\n",
       "      <td>0</td>\n",
       "      <td>0</td>\n",
       "      <td>590</td>\n",
       "      <td>1.37</td>\n",
       "      <td>0.43</td>\n",
       "      <td>124.0</td>\n",
       "    </tr>\n",
       "    <tr>\n",
       "      <th>6615</th>\n",
       "      <td>4585.0</td>\n",
       "      <td>50</td>\n",
       "      <td>20.0</td>\n",
       "      <td>0.0</td>\n",
       "      <td>0</td>\n",
       "      <td>0</td>\n",
       "      <td>0</td>\n",
       "      <td>0</td>\n",
       "      <td>0</td>\n",
       "      <td>0</td>\n",
       "      <td>...</td>\n",
       "      <td>0</td>\n",
       "      <td>0</td>\n",
       "      <td>0</td>\n",
       "      <td>0</td>\n",
       "      <td>0</td>\n",
       "      <td>0</td>\n",
       "      <td>6108</td>\n",
       "      <td>0.75</td>\n",
       "      <td>0.67</td>\n",
       "      <td>252.0</td>\n",
       "    </tr>\n",
       "    <tr>\n",
       "      <th>5007</th>\n",
       "      <td>2067.0</td>\n",
       "      <td>50</td>\n",
       "      <td>6.0</td>\n",
       "      <td>0.0</td>\n",
       "      <td>0</td>\n",
       "      <td>1</td>\n",
       "      <td>0</td>\n",
       "      <td>0</td>\n",
       "      <td>0</td>\n",
       "      <td>0</td>\n",
       "      <td>...</td>\n",
       "      <td>0</td>\n",
       "      <td>0</td>\n",
       "      <td>0</td>\n",
       "      <td>0</td>\n",
       "      <td>0</td>\n",
       "      <td>0</td>\n",
       "      <td>1033</td>\n",
       "      <td>2.00</td>\n",
       "      <td>0.16</td>\n",
       "      <td>223.0</td>\n",
       "    </tr>\n",
       "    <tr>\n",
       "      <th>9992</th>\n",
       "      <td>4425.0</td>\n",
       "      <td>50</td>\n",
       "      <td>53.0</td>\n",
       "      <td>0.0</td>\n",
       "      <td>0</td>\n",
       "      <td>0</td>\n",
       "      <td>0</td>\n",
       "      <td>0</td>\n",
       "      <td>1</td>\n",
       "      <td>0</td>\n",
       "      <td>...</td>\n",
       "      <td>0</td>\n",
       "      <td>0</td>\n",
       "      <td>0</td>\n",
       "      <td>0</td>\n",
       "      <td>0</td>\n",
       "      <td>0</td>\n",
       "      <td>7193</td>\n",
       "      <td>0.62</td>\n",
       "      <td>0.73</td>\n",
       "      <td>5.0</td>\n",
       "    </tr>\n",
       "    <tr>\n",
       "      <th>9651</th>\n",
       "      <td>2053.0</td>\n",
       "      <td>50</td>\n",
       "      <td>0.0</td>\n",
       "      <td>0.0</td>\n",
       "      <td>1</td>\n",
       "      <td>1</td>\n",
       "      <td>0</td>\n",
       "      <td>0</td>\n",
       "      <td>0</td>\n",
       "      <td>0</td>\n",
       "      <td>...</td>\n",
       "      <td>0</td>\n",
       "      <td>0</td>\n",
       "      <td>0</td>\n",
       "      <td>0</td>\n",
       "      <td>0</td>\n",
       "      <td>0</td>\n",
       "      <td>1186</td>\n",
       "      <td>1.73</td>\n",
       "      <td>0.25</td>\n",
       "      <td>0.0</td>\n",
       "    </tr>\n",
       "    <tr>\n",
       "      <th>8389</th>\n",
       "      <td>5161.0</td>\n",
       "      <td>50</td>\n",
       "      <td>16.0</td>\n",
       "      <td>0.0</td>\n",
       "      <td>0</td>\n",
       "      <td>0</td>\n",
       "      <td>0</td>\n",
       "      <td>0</td>\n",
       "      <td>1</td>\n",
       "      <td>0</td>\n",
       "      <td>...</td>\n",
       "      <td>0</td>\n",
       "      <td>0</td>\n",
       "      <td>0</td>\n",
       "      <td>0</td>\n",
       "      <td>0</td>\n",
       "      <td>0</td>\n",
       "      <td>7193</td>\n",
       "      <td>0.72</td>\n",
       "      <td>0.69</td>\n",
       "      <td>165.0</td>\n",
       "    </tr>\n",
       "  </tbody>\n",
       "</table>\n",
       "<p>10 rows × 115 columns</p>\n",
       "</div>"
      ],
      "text/plain": [
       "      Ranking  Price Range  Number of Reviews  Rating  \\\n",
       "9355   5037.0           20               14.0     0.0   \n",
       "6186   4832.0           50               38.0     0.0   \n",
       "2528   3867.0           50               90.0     0.0   \n",
       "4302   9320.0           50                2.0     0.0   \n",
       "2882    808.0           50                8.0     0.0   \n",
       "6615   4585.0           50               20.0     0.0   \n",
       "5007   2067.0           50                6.0     0.0   \n",
       "9992   4425.0           50               53.0     0.0   \n",
       "9651   2053.0           50                0.0     0.0   \n",
       "8389   5161.0           50               16.0     0.0   \n",
       "\n",
       "      Number of Reviews isNAN  Price Range isNAN  Madrid  Berlin  London  \\\n",
       "9355                        0                  0       0       0       1   \n",
       "6186                        0                  0       0       0       0   \n",
       "2528                        0                  0       0       0       0   \n",
       "4302                        0                  1       0       0       0   \n",
       "2882                        0                  0       0       0       0   \n",
       "6615                        0                  0       0       0       0   \n",
       "5007                        0                  1       0       0       0   \n",
       "9992                        0                  0       0       0       1   \n",
       "9651                        1                  1       0       0       0   \n",
       "8389                        0                  0       0       0       1   \n",
       "\n",
       "      Luxembourg  ...  Korean  Pizza  African  Austrian  Spanish  Healthy  \\\n",
       "9355           0  ...       0      0        0         0        0        0   \n",
       "6186           0  ...       0      1        0         0        0        0   \n",
       "2528           0  ...       0      0        0         0        0        0   \n",
       "4302           0  ...       0      0        0         0        0        0   \n",
       "2882           0  ...       0      0        0         0        0        0   \n",
       "6615           0  ...       0      0        0         0        0        0   \n",
       "5007           0  ...       0      0        0         0        0        0   \n",
       "9992           0  ...       0      0        0         0        0        0   \n",
       "9651           0  ...       0      0        0         0        0        0   \n",
       "8389           0  ...       0      0        0         0        0        0   \n",
       "\n",
       "      Restaurants in City  Rest Rank in City  Min/Max Rank in City  \\\n",
       "9355                 7193               0.70                  0.69   \n",
       "6186                 2589               1.87                  0.19   \n",
       "2528                 6108               0.63                  0.72   \n",
       "4302                 6108               1.53                  0.33   \n",
       "2882                  590               1.37                  0.43   \n",
       "6615                 6108               0.75                  0.67   \n",
       "5007                 1033               2.00                  0.16   \n",
       "9992                 7193               0.62                  0.73   \n",
       "9651                 1186               1.73                  0.25   \n",
       "8389                 7193               0.72                  0.69   \n",
       "\n",
       "      date_btw_reviews  \n",
       "9355              11.0  \n",
       "6186               8.0  \n",
       "2528             334.0  \n",
       "4302           14145.0  \n",
       "2882             124.0  \n",
       "6615             252.0  \n",
       "5007             223.0  \n",
       "9992               5.0  \n",
       "9651               0.0  \n",
       "8389             165.0  \n",
       "\n",
       "[10 rows x 115 columns]"
      ]
     },
     "execution_count": 18,
     "metadata": {},
     "output_type": "execute_result"
    }
   ],
   "source": [
    "test_data.sample(10)"
   ]
  },
  {
   "cell_type": "code",
   "execution_count": 19,
   "id": "lyric-chuck",
   "metadata": {
    "execution": {
     "iopub.execute_input": "2021-04-11T15:17:27.549251Z",
     "iopub.status.busy": "2021-04-11T15:17:27.548569Z",
     "iopub.status.idle": "2021-04-11T15:17:27.552334Z",
     "shell.execute_reply": "2021-04-11T15:17:27.551682Z"
    },
    "papermill": {
     "duration": 0.045453,
     "end_time": "2021-04-11T15:17:27.552484",
     "exception": false,
     "start_time": "2021-04-11T15:17:27.507031",
     "status": "completed"
    },
    "tags": []
   },
   "outputs": [],
   "source": [
    "test_data = test_data.drop(['Rating'], axis=1)"
   ]
  },
  {
   "cell_type": "code",
   "execution_count": 20,
   "id": "opposite-rouge",
   "metadata": {
    "execution": {
     "iopub.execute_input": "2021-04-11T15:17:27.631321Z",
     "iopub.status.busy": "2021-04-11T15:17:27.630508Z",
     "iopub.status.idle": "2021-04-11T15:17:27.634432Z",
     "shell.execute_reply": "2021-04-11T15:17:27.634997Z"
    },
    "papermill": {
     "duration": 0.050211,
     "end_time": "2021-04-11T15:17:27.635174",
     "exception": false,
     "start_time": "2021-04-11T15:17:27.584963",
     "status": "completed"
    },
    "tags": []
   },
   "outputs": [
    {
     "data": {
      "text/html": [
       "<div>\n",
       "<style scoped>\n",
       "    .dataframe tbody tr th:only-of-type {\n",
       "        vertical-align: middle;\n",
       "    }\n",
       "\n",
       "    .dataframe tbody tr th {\n",
       "        vertical-align: top;\n",
       "    }\n",
       "\n",
       "    .dataframe thead th {\n",
       "        text-align: right;\n",
       "    }\n",
       "</style>\n",
       "<table border=\"1\" class=\"dataframe\">\n",
       "  <thead>\n",
       "    <tr style=\"text-align: right;\">\n",
       "      <th></th>\n",
       "      <th>Restaurant_id</th>\n",
       "      <th>Rating</th>\n",
       "    </tr>\n",
       "  </thead>\n",
       "  <tbody>\n",
       "    <tr>\n",
       "      <th>0</th>\n",
       "      <td>id_0</td>\n",
       "      <td>2.0</td>\n",
       "    </tr>\n",
       "    <tr>\n",
       "      <th>1</th>\n",
       "      <td>id_1</td>\n",
       "      <td>2.5</td>\n",
       "    </tr>\n",
       "    <tr>\n",
       "      <th>2</th>\n",
       "      <td>id_2</td>\n",
       "      <td>4.0</td>\n",
       "    </tr>\n",
       "    <tr>\n",
       "      <th>3</th>\n",
       "      <td>id_3</td>\n",
       "      <td>1.0</td>\n",
       "    </tr>\n",
       "    <tr>\n",
       "      <th>4</th>\n",
       "      <td>id_4</td>\n",
       "      <td>4.0</td>\n",
       "    </tr>\n",
       "    <tr>\n",
       "      <th>...</th>\n",
       "      <td>...</td>\n",
       "      <td>...</td>\n",
       "    </tr>\n",
       "    <tr>\n",
       "      <th>9995</th>\n",
       "      <td>id_9995</td>\n",
       "      <td>3.0</td>\n",
       "    </tr>\n",
       "    <tr>\n",
       "      <th>9996</th>\n",
       "      <td>id_9996</td>\n",
       "      <td>1.5</td>\n",
       "    </tr>\n",
       "    <tr>\n",
       "      <th>9997</th>\n",
       "      <td>id_9997</td>\n",
       "      <td>4.5</td>\n",
       "    </tr>\n",
       "    <tr>\n",
       "      <th>9998</th>\n",
       "      <td>id_9998</td>\n",
       "      <td>1.0</td>\n",
       "    </tr>\n",
       "    <tr>\n",
       "      <th>9999</th>\n",
       "      <td>id_9999</td>\n",
       "      <td>2.5</td>\n",
       "    </tr>\n",
       "  </tbody>\n",
       "</table>\n",
       "<p>10000 rows × 2 columns</p>\n",
       "</div>"
      ],
      "text/plain": [
       "     Restaurant_id  Rating\n",
       "0             id_0     2.0\n",
       "1             id_1     2.5\n",
       "2             id_2     4.0\n",
       "3             id_3     1.0\n",
       "4             id_4     4.0\n",
       "...            ...     ...\n",
       "9995       id_9995     3.0\n",
       "9996       id_9996     1.5\n",
       "9997       id_9997     4.5\n",
       "9998       id_9998     1.0\n",
       "9999       id_9999     2.5\n",
       "\n",
       "[10000 rows x 2 columns]"
      ]
     },
     "execution_count": 20,
     "metadata": {},
     "output_type": "execute_result"
    }
   ],
   "source": [
    "sample_submission"
   ]
  },
  {
   "cell_type": "code",
   "execution_count": 21,
   "id": "julian-freeware",
   "metadata": {
    "execution": {
     "iopub.execute_input": "2021-04-11T15:17:27.709718Z",
     "iopub.status.busy": "2021-04-11T15:17:27.709044Z",
     "iopub.status.idle": "2021-04-11T15:17:27.926003Z",
     "shell.execute_reply": "2021-04-11T15:17:27.925032Z"
    },
    "papermill": {
     "duration": 0.257691,
     "end_time": "2021-04-11T15:17:27.926212",
     "exception": false,
     "start_time": "2021-04-11T15:17:27.668521",
     "status": "completed"
    },
    "tags": []
   },
   "outputs": [
    {
     "name": "stderr",
     "output_type": "stream",
     "text": [
      "[Parallel(n_jobs=4)]: Using backend ThreadingBackend with 4 concurrent workers.\n",
      "[Parallel(n_jobs=4)]: Done  42 tasks      | elapsed:    0.0s\n",
      "[Parallel(n_jobs=4)]: Done 100 out of 100 | elapsed:    0.1s finished\n"
     ]
    }
   ],
   "source": [
    "predict_submission = model.predict(test_data)"
   ]
  },
  {
   "cell_type": "code",
   "execution_count": 22,
   "id": "secondary-checklist",
   "metadata": {
    "execution": {
     "iopub.execute_input": "2021-04-11T15:17:27.999716Z",
     "iopub.status.busy": "2021-04-11T15:17:27.999044Z",
     "iopub.status.idle": "2021-04-11T15:17:28.001953Z",
     "shell.execute_reply": "2021-04-11T15:17:28.002413Z"
    },
    "papermill": {
     "duration": 0.042184,
     "end_time": "2021-04-11T15:17:28.002595",
     "exception": false,
     "start_time": "2021-04-11T15:17:27.960411",
     "status": "completed"
    },
    "tags": []
   },
   "outputs": [
    {
     "data": {
      "text/plain": [
       "array([3.045, 4.225, 4.47 , ..., 3.16 , 4.495, 4.3  ])"
      ]
     },
     "execution_count": 22,
     "metadata": {},
     "output_type": "execute_result"
    }
   ],
   "source": [
    "predict_submission"
   ]
  },
  {
   "cell_type": "code",
   "execution_count": 23,
   "id": "seventh-uruguay",
   "metadata": {
    "execution": {
     "iopub.execute_input": "2021-04-11T15:17:28.077170Z",
     "iopub.status.busy": "2021-04-11T15:17:28.076458Z",
     "iopub.status.idle": "2021-04-11T15:17:28.119745Z",
     "shell.execute_reply": "2021-04-11T15:17:28.118734Z"
    },
    "papermill": {
     "duration": 0.082919,
     "end_time": "2021-04-11T15:17:28.119944",
     "exception": false,
     "start_time": "2021-04-11T15:17:28.037025",
     "status": "completed"
    },
    "tags": []
   },
   "outputs": [
    {
     "data": {
      "text/html": [
       "<div>\n",
       "<style scoped>\n",
       "    .dataframe tbody tr th:only-of-type {\n",
       "        vertical-align: middle;\n",
       "    }\n",
       "\n",
       "    .dataframe tbody tr th {\n",
       "        vertical-align: top;\n",
       "    }\n",
       "\n",
       "    .dataframe thead th {\n",
       "        text-align: right;\n",
       "    }\n",
       "</style>\n",
       "<table border=\"1\" class=\"dataframe\">\n",
       "  <thead>\n",
       "    <tr style=\"text-align: right;\">\n",
       "      <th></th>\n",
       "      <th>Restaurant_id</th>\n",
       "      <th>Rating</th>\n",
       "    </tr>\n",
       "  </thead>\n",
       "  <tbody>\n",
       "    <tr>\n",
       "      <th>0</th>\n",
       "      <td>id_0</td>\n",
       "      <td>3.045</td>\n",
       "    </tr>\n",
       "    <tr>\n",
       "      <th>1</th>\n",
       "      <td>id_1</td>\n",
       "      <td>4.225</td>\n",
       "    </tr>\n",
       "    <tr>\n",
       "      <th>2</th>\n",
       "      <td>id_2</td>\n",
       "      <td>4.470</td>\n",
       "    </tr>\n",
       "    <tr>\n",
       "      <th>3</th>\n",
       "      <td>id_3</td>\n",
       "      <td>4.320</td>\n",
       "    </tr>\n",
       "    <tr>\n",
       "      <th>4</th>\n",
       "      <td>id_4</td>\n",
       "      <td>4.505</td>\n",
       "    </tr>\n",
       "    <tr>\n",
       "      <th>5</th>\n",
       "      <td>id_5</td>\n",
       "      <td>4.485</td>\n",
       "    </tr>\n",
       "    <tr>\n",
       "      <th>6</th>\n",
       "      <td>id_6</td>\n",
       "      <td>2.080</td>\n",
       "    </tr>\n",
       "    <tr>\n",
       "      <th>7</th>\n",
       "      <td>id_7</td>\n",
       "      <td>3.575</td>\n",
       "    </tr>\n",
       "    <tr>\n",
       "      <th>8</th>\n",
       "      <td>id_8</td>\n",
       "      <td>4.225</td>\n",
       "    </tr>\n",
       "    <tr>\n",
       "      <th>9</th>\n",
       "      <td>id_9</td>\n",
       "      <td>4.615</td>\n",
       "    </tr>\n",
       "  </tbody>\n",
       "</table>\n",
       "</div>"
      ],
      "text/plain": [
       "  Restaurant_id  Rating\n",
       "0          id_0   3.045\n",
       "1          id_1   4.225\n",
       "2          id_2   4.470\n",
       "3          id_3   4.320\n",
       "4          id_4   4.505\n",
       "5          id_5   4.485\n",
       "6          id_6   2.080\n",
       "7          id_7   3.575\n",
       "8          id_8   4.225\n",
       "9          id_9   4.615"
      ]
     },
     "execution_count": 23,
     "metadata": {},
     "output_type": "execute_result"
    }
   ],
   "source": [
    "sample_submission['Rating'] = predict_submission\n",
    "sample_submission.to_csv('submission.csv', index=False)\n",
    "sample_submission.head(10)"
   ]
  }
 ],
 "metadata": {
  "kernelspec": {
   "display_name": "Python 3",
   "language": "python",
   "name": "python3"
  },
  "language_info": {
   "codemirror_mode": {
    "name": "ipython",
    "version": 3
   },
   "file_extension": ".py",
   "mimetype": "text/x-python",
   "name": "python",
   "nbconvert_exporter": "python",
   "pygments_lexer": "ipython3",
   "version": "3.7.9"
  },
  "papermill": {
   "default_parameters": {},
   "duration": 95.57826,
   "end_time": "2021-04-11T15:17:28.965122",
   "environment_variables": {},
   "exception": null,
   "input_path": "__notebook__.ipynb",
   "output_path": "__notebook__.ipynb",
   "parameters": {},
   "start_time": "2021-04-11T15:15:53.386862",
   "version": "2.3.2"
  }
 },
 "nbformat": 4,
 "nbformat_minor": 5
}
