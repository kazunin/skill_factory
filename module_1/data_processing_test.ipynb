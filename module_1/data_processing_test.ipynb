{
 "cells": [
  {
   "cell_type": "code",
   "execution_count": 65,
   "metadata": {},
   "outputs": [
    {
     "data": {
      "text/plain": [
       "723    Pirates of the Caribbean: On Stranger Tides\n",
       "Name: original_title, dtype: object"
      ]
     },
     "metadata": {},
     "output_type": "display_data"
    },
    {
     "data": {
      "text/plain": [
       "1157    Gods and Generals\n",
       "Name: original_title, dtype: object"
      ]
     },
     "metadata": {},
     "output_type": "display_data"
    },
    {
     "data": {
      "text/plain": [
       "768    Winnie the Pooh\n",
       "Name: original_title, dtype: object"
      ]
     },
     "metadata": {},
     "output_type": "display_data"
    },
    {
     "data": {
      "text/plain": [
       "109.6585494970884"
      ]
     },
     "metadata": {},
     "output_type": "display_data"
    },
    {
     "data": {
      "text/plain": [
       "107.0"
      ]
     },
     "metadata": {},
     "output_type": "display_data"
    },
    {
     "data": {
      "text/plain": [
       "239    Avatar\n",
       "Name: original_title, dtype: object"
      ]
     },
     "metadata": {},
     "output_type": "display_data"
    },
    {
     "data": {
      "text/plain": [
       "1245    The Lone Ranger\n",
       "Name: original_title, dtype: object"
      ]
     },
     "metadata": {},
     "output_type": "display_data"
    },
    {
     "data": {
      "text/plain": [
       "1478"
      ]
     },
     "metadata": {},
     "output_type": "display_data"
    },
    {
     "data": {
      "text/plain": [
       "599    The Dark Knight\n",
       "Name: original_title, dtype: object"
      ]
     },
     "metadata": {},
     "output_type": "display_data"
    },
    {
     "data": {
      "text/plain": [
       "1245    The Lone Ranger\n",
       "Name: original_title, dtype: object"
      ]
     },
     "metadata": {},
     "output_type": "display_data"
    },
    {
     "name": "stdout",
     "output_type": "stream",
     "text": [
      "Drama 782\n",
      "Drama 560\n"
     ]
    },
    {
     "data": {
      "text/plain": [
       "director\n",
       "Peter Jackson    6490593685\n",
       "Name: revenue, dtype: int64"
      ]
     },
     "metadata": {},
     "output_type": "display_data"
    },
    {
     "data": {
      "text/plain": [
       "'Robert Rodriguez'"
      ]
     },
     "metadata": {},
     "output_type": "display_data"
    },
    {
     "data": {
      "text/plain": [
       "'Chris Hemsworth'"
      ]
     },
     "metadata": {},
     "output_type": "display_data"
    },
    {
     "data": {
      "text/plain": [
       "'Matt Damon'"
      ]
     },
     "metadata": {},
     "output_type": "display_data"
    },
    {
     "data": {
      "text/plain": [
       "'Action'"
      ]
     },
     "metadata": {},
     "output_type": "display_data"
    },
    {
     "name": "stdout",
     "output_type": "stream",
     "text": [
      "K-19: The Widowmaker (tt0267626)\n"
     ]
    },
    {
     "data": {
      "text/plain": [
       "2015"
      ]
     },
     "metadata": {},
     "output_type": "display_data"
    },
    {
     "data": {
      "text/plain": [
       "2014"
      ]
     },
     "metadata": {},
     "output_type": "display_data"
    },
    {
     "data": {
      "text/plain": [
       "9"
      ]
     },
     "metadata": {},
     "output_type": "display_data"
    },
    {
     "data": {
      "text/plain": [
       "450"
      ]
     },
     "metadata": {},
     "output_type": "display_data"
    },
    {
     "data": {
      "text/plain": [
       "'Peter Jackson'"
      ]
     },
     "metadata": {},
     "output_type": "display_data"
    },
    {
     "data": {
      "text/plain": [
       "'Four By Two Productions'"
      ]
     },
     "metadata": {},
     "output_type": "display_data"
    },
    {
     "data": {
      "text/plain": [
       "'Midnight Picture Show'"
      ]
     },
     "metadata": {},
     "output_type": "display_data"
    },
    {
     "data": {
      "text/plain": [
       "599                                   The Dark Knight\n",
       "118                                      Interstellar\n",
       "125                                The Imitation Game\n",
       "9                                          Inside Out\n",
       "34                                               Room\n",
       "1183                          The Wolf of Wall Street\n",
       "128                                         Gone Girl\n",
       "1191                                 12 Years a Slave\n",
       "119                           Guardians of the Galaxy\n",
       "1081    The Lord of the Rings: The Return of the King\n",
       "1800                                          Memento\n",
       "370                                         Inception\n",
       "872                                       The Pianist\n",
       "138                          The Grand Budapest Hotel\n",
       "1188                                              Her\n",
       "28                                          Spotlight\n",
       "124                                        Big Hero 6\n",
       "177                            The Fault in Our Stars\n",
       "Name: original_title, dtype: object"
      ]
     },
     "metadata": {},
     "output_type": "display_data"
    },
    {
     "name": "stdout",
     "output_type": "stream",
     "text": [
      "('Daniel Radcliffe', 'Rupert Grint') 8\n"
     ]
    },
    {
     "data": {
      "text/plain": [
       "[(('Daniel Radcliffe', 'Rupert Grint'), 8)]"
      ]
     },
     "metadata": {},
     "output_type": "display_data"
    },
    {
     "name": "stdout",
     "output_type": "stream",
     "text": [
      "Ответы: \n",
      "\n",
      "1 5. Pirates of the Caribbean: On Stranger Tides (tt1298650) \n",
      "\n",
      "2 2. Gods and Generals (tt0279111) \n",
      "\n",
      "3 3. Winnie the Pooh (tt1449283) \n",
      "\n",
      "4 2. 110 \n",
      "\n",
      "5 1. 107 \n",
      "\n",
      "6 5. Avatar (tt0499549) \n",
      "\n",
      "7 5. The Lone Ranger (tt1210819) \n",
      "\n",
      "8 1. 1478 \n",
      "\n",
      "9 4. The Dark Knight (tt0468569) \n",
      "\n",
      "10 5. The Lone Ranger (tt1210819) \n",
      "\n",
      "11 3. Drama \n",
      "\n",
      "12 1. Drama \n",
      "\n",
      "13 5. Peter Jackson \n",
      "\n",
      "14 3. Robert Rodriguez \n",
      "\n",
      "15 3. Chris Hemsworth \n",
      "\n",
      "16 3. Matt Damon \n",
      "\n",
      "17 3. Action \n",
      "\n",
      "18 1. K-19: The Widowmaker (tt0267626) \n",
      "\n",
      "19 5. 2015 \n",
      "\n",
      "20 1. 2014 \n",
      "\n",
      "21 4. Сентябрь \n",
      "\n",
      "22 2. 450 \n",
      "\n",
      "23 5. Peter Jackson \n",
      "\n",
      "24 5. Four By Two Productions \n",
      "\n",
      "25 3. Midnight Picture Show \n",
      "\n",
      "26 1. Inside Out, The Dark Knight, 12 Years a Slave \n",
      "\n",
      "27 5. Daniel Radcliffe & Rupert Grint \n",
      "\n",
      "Всего ответов:  27 \n",
      "\n"
     ]
    }
   ],
   "source": [
    "import numpy as np\n",
    "import pandas as pd\n",
    "import seaborn as sns\n",
    "import matplotlib.pyplot as plt\n",
    "from collections import Counter\n",
    "from itertools import combinations\n",
    "\n",
    "data = pd.read_csv('movie_bd_v5.csv')\n",
    "# создадим словарь для ответов\n",
    "answers = {}\n",
    "# наши функции\n",
    "def select_season(date):\n",
    "    date = pd.to_datetime(date)\n",
    "    if(date.month in [12,1,2]):\n",
    "        return 'winter'\n",
    "    elif(date.month in [3,4,5]):\n",
    "        return 'spring'\n",
    "    elif(date.month in [6,7,8]):\n",
    "        return 'summer'\n",
    "    else:\n",
    "        return 'autumn'\n",
    "\n",
    "def select_month(date):\n",
    "    date = pd.to_datetime(date)\n",
    "    return date.month\n",
    "\n",
    "def words_count(string):\n",
    "    string = string.split(' ')\n",
    "    return len(string)\n",
    "\n",
    "# 1. У какого фильма из списка самый большой бюджет?\n",
    "answers['1'] = '5. Pirates of the Caribbean: On Stranger Tides (tt1298650)'\n",
    "display(data.loc[data.budget == data.budget.max()].original_title)\n",
    "\n",
    "#2. Какой из фильмов самый длительный (в минутах)?\n",
    "answers['2'] = '2. Gods and Generals (tt0279111)'\n",
    "display(data.loc[data.runtime == data.runtime.max()].original_title)\n",
    "\n",
    "#3. Какой из фильмов самый короткий (в минутах)?\n",
    "answers['3'] = '3. Winnie the Pooh (tt1449283)'\n",
    "display(data.loc[data.runtime == data.runtime.min()].original_title)\n",
    "\n",
    "#4. Какова средняя длительность фильмов?\n",
    "answers['4'] = '2. 110'\n",
    "display(data.runtime.mean())\n",
    "\n",
    "#5. Каково медианное значение длительности фильмов?\n",
    "answers['5'] = '1. 107'\n",
    "display(data.runtime.median())\n",
    "\n",
    "#6. Какой самый прибыльный фильм?\n",
    "# определим столбец прибыль(убытки) как прибыль = сборы - бюджет\n",
    "data['profit'] =  data['revenue'] - data['budget']\n",
    "answers['6'] = '5. Avatar (tt0499549)'\n",
    "display(data.loc[data.profit == data.profit.max()].original_title)\n",
    "\n",
    "#7. Какой фильм самый убыточный?\n",
    "answers['7'] = '5. The Lone Ranger (tt1210819)'\n",
    "display(data.loc[data.profit == data.profit.min()].original_title)\n",
    "\n",
    "#8. У скольких фильмов из датасета объем сборов оказался выше бюджета?\n",
    "answers['8'] = '1. 1478'\n",
    "display(len(data.loc[data.profit > 0]))\n",
    "\n",
    "#9. Какой фильм оказался самым кассовым в 2008 году?\n",
    "answers['9'] = '4. The Dark Knight (tt0468569)'\n",
    "year_2008 = data.loc[(data.release_year == 2008)]\n",
    "display(year_2008.loc[year_2008.profit == year_2008.profit.max()].original_title)\n",
    "\n",
    "#10. Самый убыточный фильм за период с 2012 по 2014 г. (включительно)?\n",
    "answers['10'] = '5. The Lone Ranger (tt1210819)'\n",
    "years_2012_2014 = data.loc[(data.release_year >= 2012) & (data.release_year <= 2014) ]\n",
    "display(years_2012_2014.loc[years_2012_2014.profit == years_2012_2014.profit.min()].original_title)\n",
    "\n",
    "#11. Какого жанра фильмов больше всего?\n",
    "answers['11'] = '3. Drama'\n",
    "genres_dict = {}\n",
    "for film_genres in data['genres']: \n",
    "    genres = film_genres.split('|') \n",
    "    for genre in genres:\n",
    "        if (genres_dict.get(genre) == None):\n",
    "            genres_dict.setdefault(genre)\n",
    "            genres_dict[genre] = 1\n",
    "        else:\n",
    "            genres_dict[genre] += 1\n",
    "max_genre_val = 0\n",
    "max_genre = \"\"\n",
    "for item in genres_dict.items():\n",
    "    if item[1] > max_genre_val:\n",
    "        max_genre_val = item[1]\n",
    "        max_genre = item[0]\n",
    "print(max_genre, max_genre_val, sep=' ', end='\\n',)\n",
    "\n",
    "#12. Фильмы какого жанра чаще всего становятся прибыльными?\n",
    "answers['12'] = '1. Drama'\n",
    "profit_df = data.loc[data.profit > 0]\n",
    "genres_dict = {}\n",
    "for film_genres in profit_df['genres']:\n",
    "    genres = film_genres.split('|')\n",
    "    for genre in genres:\n",
    "        if (genres_dict.get(genre) == None):\n",
    "            genres_dict.setdefault(genre)\n",
    "            genres_dict[genre] = 1\n",
    "        else:\n",
    "            genres_dict[genre] += 1\n",
    "max_genre_val = 0\n",
    "max_genre = \"\"\n",
    "for item in genres_dict.items():\n",
    "    if item[1] > max_genre_val:\n",
    "        max_genre_val = item[1]\n",
    "        max_genre = item[0]\n",
    "print(max_genre, max_genre_val, sep=' ', end='\\n',)\n",
    "\n",
    "#13. У какого режиссера самые большие суммарные кассовые сборы?\n",
    "answers['13'] = '5. Peter Jackson'\n",
    "tmp_df = data.copy()\n",
    "tmp_df.director =  tmp_df.director.str.split('|')\n",
    "tmp_df = tmp_df.explode('director')\n",
    "director_df = tmp_df.groupby(by = ['director']).revenue.sum()\n",
    "display(director_df.loc[director_df == director_df.max()])\n",
    "\n",
    "\n",
    "#14. Какой режисер снял больше всего фильмов в стиле Action?\n",
    "answers['14'] = '3. Robert Rodriguez'\n",
    "tmp_df.genres = tmp_df.genres.str.split('|')\n",
    "tmp_df = tmp_df.explode('genres')\n",
    "display(tmp_df.loc[tmp_df.genres == 'Action']['director'].value_counts().index[0])\n",
    "del tmp_df\n",
    "\n",
    "#15. Фильмы с каким актером принесли самые высокие кассовые сборы в 2012 году?\n",
    "answers['15'] = '3. Chris Hemsworth'\n",
    "tmp_df = data.copy()\n",
    "tmp_df.cast = tmp_df.cast.str.split('|')\n",
    "tmp_df = tmp_df.explode('cast')\n",
    "display(tmp_df.loc[tmp_df.release_year == 2012].groupby(by = 'cast').revenue.sum().sort_values(ascending = False).index[0])\n",
    "\n",
    "#16. Какой актер снялся в большем количестве высокобюджетных фильмов?\n",
    "answers['16'] = '3. Matt Damon'\n",
    "tmp_df = tmp_df.loc[tmp_df.budget > tmp_df.budget.mean()]\n",
    "display(tmp_df.cast.value_counts().index[0])\n",
    "\n",
    "#17. В фильмах какого жанра больше всего снимался Nicolas Cage?\n",
    "answers['17'] = '3. Action'\n",
    "tmp_df.genres = tmp_df.genres.str.split('|')\n",
    "tmp_df = tmp_df.explode('genres')\n",
    "NC_films = tmp_df.loc[tmp_df.cast == 'Nicolas Cage']\n",
    "display(NC_films.genres.value_counts().index[0])\n",
    "del tmp_df\n",
    "\n",
    "#18. Самый убыточный фильм от Paramount Pictures\n",
    "answers['18'] = '1. K-19: The Widowmaker (tt0267626)'\n",
    "tmp_df = data.copy()\n",
    "tmp_df.production_companies = tmp_df.production_companies.str.split('|')\n",
    "tmp_df = tmp_df.explode('production_companies')\n",
    "film = tmp_df.loc[tmp_df.production_companies == 'Paramount Pictures'].sort_values('profit')['original_title'].values[0]\n",
    "film_id = tmp_df.loc[tmp_df.original_title == film]['imdb_id'].values[0]\n",
    "print(film, end=' ')\n",
    "print('(',film_id,')',end='\\n', sep='')\n",
    "\n",
    "#19. Какой год стал самым успешным по суммарным кассовым сборам?\n",
    "answers['19'] = '5. 2015'\n",
    "display(data.groupby(by = 'release_year').revenue.sum().sort_values(ascending = False).index[0])\n",
    "\n",
    "#20. Какой самый прибыльный год для студии Warner Bros?\n",
    "answers['20'] = '1. 2014'\n",
    "display(tmp_df.loc[tmp_df.production_companies.str.contains('Warner Bros')].groupby(by = 'release_year')\\\n",
    "        .profit.sum().sort_values(ascending = False).index[0])\n",
    "del tmp_df\n",
    "\n",
    "#21. В каком месяце за все годы суммарно вышло больше всего фильмов?\n",
    "answers['21'] = '4. Сентябрь'\n",
    "data['month'] = data['release_date'].apply(select_month)\n",
    "display(data.groupby('month').imdb_id.count().sort_values(ascending = False).index[0])\n",
    "\n",
    "#22. Сколько суммарно вышло фильмов летом? (за июнь, июль, август)\n",
    "answers['22'] = '2. 450'\n",
    "data['season'] = data['release_date'].apply(select_season)\n",
    "display(data.loc[data.season == 'summer'].imdb_id.count())\n",
    "\n",
    "#23. Для какого режиссера зима – самое продуктивное время года?\n",
    "answers['23'] = '5. Peter Jackson'\n",
    "tmp_df = data.copy()\n",
    "tmp_df.director = tmp_df.director.str.split('|')\n",
    "tmp_df = tmp_df.explode('director')\n",
    "display(tmp_df.loc[tmp_df.season == 'winter'].groupby('director').imdb_id.count().sort_values(ascending = False).index[0])\n",
    "del tmp_df\n",
    "\n",
    "#24. Какая студия дает самые длинные названия своим фильмам по количеству символов?\n",
    "answers['24'] = '5. Four By Two Productions'\n",
    "tmp_df = data.copy()\n",
    "tmp_df.production_companies = tmp_df.production_companies.str.split('|')\n",
    "tmp_df = tmp_df.explode('production_companies')\n",
    "tmp_df['title_len'] = tmp_df.original_title.map(lambda x:len(x))\n",
    "display(tmp_df.groupby('production_companies').title_len.mean().sort_values(ascending = False).index[0])\n",
    "\n",
    "#25. Описание фильмов какой студии в среднем самые длинные по количеству слов?\n",
    "answers['25'] = '3. Midnight Picture Show'\n",
    "tmp_df['overview_words_count'] = tmp_df['overview'].apply(words_count)\n",
    "display(tmp_df.groupby('production_companies').overview_words_count.mean().sort_values(ascending = False).index[0])\n",
    "\n",
    "#26. Какие фильмы входят в 1 процент лучших по рейтингу?\n",
    "answers['26'] = '1. Inside Out, The Dark Knight, 12 Years a Slave'\n",
    "display(data.sort_values(by = 'vote_average', ascending = False)[0:int(len(data)/100)].original_title)\n",
    "\n",
    "#27. Какие актеры чаще всего снимаются в одном фильме вместе?\n",
    "answers['27'] = '5. Daniel Radcliffe & Rupert Grint'\n",
    "data.cast = data.cast.str.split('|')\n",
    "# Вариант 1\n",
    "cast_combin_dict = {}\n",
    "for cast in data.cast:\n",
    "    for combination in list(combinations(cast,2)):\n",
    "        if combination in cast_combin_dict:\n",
    "            cast_combin_dict[combination] += 1\n",
    "        else:\n",
    "            cast_combin_dict.setdefault(combination, 1)\n",
    "cast_combin_num = cast_combin_dict.get(sorted(cast_combin_dict, key=cast_combin_dict.get)[-1])\n",
    "print(max(cast_combin_dict, key=cast_combin_dict.get), cast_combin_num, end = '\\n')\n",
    "\n",
    "# Вариант 2\n",
    "cast_counter = Counter()\n",
    "for cast in data.cast:\n",
    "    for combination in list(combinations(cast,2)):\n",
    "        if combination in cast_counter:\n",
    "            cast_counter[combination] += 1\n",
    "        else:\n",
    "            cast_counter[combination] = 1\n",
    "display(cast_counter.most_common(1))\n",
    "\n",
    "print(\"Ответы:\", \"\\n\")\n",
    "for answer in answers: print(answer, answers[answer], \"\\n\")\n",
    "print(\"Всего ответов: \", len(answers), \"\\n\")\n",
    "\n"
   ]
  },
  {
   "cell_type": "code",
   "execution_count": null,
   "metadata": {},
   "outputs": [],
   "source": []
  }
 ],
 "metadata": {
  "kernelspec": {
   "display_name": "Python 3",
   "language": "python",
   "name": "python3"
  },
  "language_info": {
   "codemirror_mode": {
    "name": "ipython",
    "version": 3
   },
   "file_extension": ".py",
   "mimetype": "text/x-python",
   "name": "python",
   "nbconvert_exporter": "python",
   "pygments_lexer": "ipython3",
   "version": "3.7.9"
  }
 },
 "nbformat": 4,
 "nbformat_minor": 4
}
