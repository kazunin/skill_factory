{
 "cells": [
  {
   "cell_type": "markdown",
   "metadata": {
    "papermill": {
     "duration": 0.063584,
     "end_time": "2021-08-31T15:29:53.211079",
     "exception": false,
     "start_time": "2021-08-31T15:29:53.147495",
     "status": "completed"
    },
    "tags": []
   },
   "source": [
    "<img src=\"https://whatcar.vn/media/2018/09/car-lot-940x470.jpg\"/>\n",
    "\n",
    "## Прогнозирование стоимости автомобиля по характеристикам\n",
    "*Этот Ноутбук является Примером/Шаблоном (Baseline) к этому соревнованию и не служит готовым решением!*   \n",
    "Вы можете использовать его как основу для построения своего решения.\n",
    "\n",
    "\n",
    "> **baseline** создается больше как шаблон, где можно посмотреть как происходит обращение с входящими данными и что нужно получить на выходе. При этом МЛ начинка может быть достаточно простой. Это помогает быстрее приступить к самому МЛ, а не тратить ценное время на чисто инженерные задачи. \n",
    "Также baseline является хорошей опорной точкой по метрике. Если твое решение хуже baseline - ты явно делаешь что-то не то и стоит попробовать другой путь) "
   ]
  },
  {
   "cell_type": "markdown",
   "metadata": {
    "papermill": {
     "duration": 0.061367,
     "end_time": "2021-08-31T15:29:53.335042",
     "exception": false,
     "start_time": "2021-08-31T15:29:53.273675",
     "status": "completed"
    },
    "tags": []
   },
   "source": [
    "Помним, что по условию соревнования, нам нужно самостоятельно собрать обучающий датасет. В этом ноутбуке мы не будем рассматривать сбор данных. Предположим, что мы уже все собрали и просто подключили свой датасет через \"Add Data\", чтобы приступить к самому ML."
   ]
  },
  {
   "cell_type": "code",
   "execution_count": 1,
   "metadata": {
    "_cell_guid": "b1076dfc-b9ad-4769-8c92-a6c4dae69d19",
    "_uuid": "8f2839f25d086af736a60e9eeb907d3b93b6e0e5",
    "execution": {
     "iopub.execute_input": "2021-08-31T15:29:53.467005Z",
     "iopub.status.busy": "2021-08-31T15:29:53.466251Z",
     "iopub.status.idle": "2021-08-31T15:29:56.040807Z",
     "shell.execute_reply": "2021-08-31T15:29:56.041389Z",
     "shell.execute_reply.started": "2021-08-31T14:06:34.969367Z"
    },
    "papermill": {
     "duration": 2.645099,
     "end_time": "2021-08-31T15:29:56.041631",
     "exception": false,
     "start_time": "2021-08-31T15:29:53.396532",
     "status": "completed"
    },
    "tags": []
   },
   "outputs": [],
   "source": [
    "import numpy as np # linear algebra\n",
    "import pandas as pd # data processing, CSV file I/O (e.g. pd.read_csv)\n",
    "import sys\n",
    "import requests\n",
    "import json\n",
    "import time\n",
    "import pickle\n",
    "import pprint\n",
    "import pandas_profiling\n",
    "import matplotlib.pyplot as plt\n",
    "from bs4 import BeautifulSoup\n",
    "from sklearn.model_selection import train_test_split\n",
    "from sklearn.model_selection import KFold\n",
    "from tqdm.notebook import tqdm\n",
    "from catboost import CatBoostRegressor\n",
    "from sklearn.preprocessing import LabelEncoder"
   ]
  },
  {
   "cell_type": "code",
   "execution_count": 2,
   "metadata": {
    "_kg_hide-input": true,
    "execution": {
     "iopub.execute_input": "2021-08-31T15:29:56.170875Z",
     "iopub.status.busy": "2021-08-31T15:29:56.170143Z",
     "iopub.status.idle": "2021-08-31T15:29:56.183590Z",
     "shell.execute_reply": "2021-08-31T15:29:56.184373Z",
     "shell.execute_reply.started": "2021-08-31T14:06:37.437444Z"
    },
    "papermill": {
     "duration": 0.079747,
     "end_time": "2021-08-31T15:29:56.184626",
     "exception": false,
     "start_time": "2021-08-31T15:29:56.104879",
     "status": "completed"
    },
    "tags": []
   },
   "outputs": [
    {
     "name": "stdout",
     "output_type": "stream",
     "text": [
      "Python       : 3.7.6 | packaged by conda-forge | (default, Mar 23 2020, 23:03:20) \n",
      "Numpy        : 1.18.5\n"
     ]
    }
   ],
   "source": [
    "print('Python       :', sys.version.split('\\n')[0])\n",
    "print('Numpy        :', np.__version__)"
   ]
  },
  {
   "cell_type": "code",
   "execution_count": 3,
   "metadata": {
    "_kg_hide-input": true,
    "execution": {
     "iopub.execute_input": "2021-08-31T15:29:56.323353Z",
     "iopub.status.busy": "2021-08-31T15:29:56.322348Z",
     "iopub.status.idle": "2021-08-31T15:29:59.125453Z",
     "shell.execute_reply": "2021-08-31T15:29:59.124436Z",
     "shell.execute_reply.started": "2021-08-31T14:06:40.872680Z"
    },
    "papermill": {
     "duration": 2.874272,
     "end_time": "2021-08-31T15:29:59.125639",
     "exception": false,
     "start_time": "2021-08-31T15:29:56.251367",
     "status": "completed"
    },
    "tags": []
   },
   "outputs": [],
   "source": [
    "# зафиксируем версию пакетов, чтобы эксперименты были воспроизводимы:\n",
    "!pip freeze > requirements.txt"
   ]
  },
  {
   "cell_type": "code",
   "execution_count": 4,
   "metadata": {
    "execution": {
     "iopub.execute_input": "2021-08-31T15:29:59.260657Z",
     "iopub.status.busy": "2021-08-31T15:29:59.259778Z",
     "iopub.status.idle": "2021-08-31T15:29:59.263173Z",
     "shell.execute_reply": "2021-08-31T15:29:59.262611Z",
     "shell.execute_reply.started": "2021-08-31T14:06:48.706576Z"
    },
    "papermill": {
     "duration": 0.073972,
     "end_time": "2021-08-31T15:29:59.263315",
     "exception": false,
     "start_time": "2021-08-31T15:29:59.189343",
     "status": "completed"
    },
    "tags": []
   },
   "outputs": [],
   "source": [
    "# всегда фиксируйте RANDOM_SEED, чтобы ваши эксперименты были воспроизводимы!\n",
    "RANDOM_SEED = 42"
   ]
  },
  {
   "cell_type": "code",
   "execution_count": 5,
   "metadata": {
    "_kg_hide-input": true,
    "execution": {
     "iopub.execute_input": "2021-08-31T15:29:59.405645Z",
     "iopub.status.busy": "2021-08-31T15:29:59.404634Z",
     "iopub.status.idle": "2021-08-31T15:29:59.407960Z",
     "shell.execute_reply": "2021-08-31T15:29:59.407173Z",
     "shell.execute_reply.started": "2021-08-31T14:06:52.673888Z"
    },
    "papermill": {
     "duration": 0.07799,
     "end_time": "2021-08-31T15:29:59.408109",
     "exception": false,
     "start_time": "2021-08-31T15:29:59.330119",
     "status": "completed"
    },
    "tags": []
   },
   "outputs": [],
   "source": [
    "def mape(y_true, y_pred):\n",
    "    return np.mean(np.abs((y_pred-y_true)/y_true))"
   ]
  },
  {
   "cell_type": "markdown",
   "metadata": {
    "papermill": {
     "duration": 0.062422,
     "end_time": "2021-08-31T15:29:59.534439",
     "exception": false,
     "start_time": "2021-08-31T15:29:59.472017",
     "status": "completed"
    },
    "tags": []
   },
   "source": [
    "Cобираем обучающий датасет"
   ]
  },
  {
   "cell_type": "code",
   "execution_count": 6,
   "metadata": {
    "execution": {
     "iopub.execute_input": "2021-08-31T15:29:59.669291Z",
     "iopub.status.busy": "2021-08-31T15:29:59.668377Z",
     "iopub.status.idle": "2021-08-31T15:29:59.672615Z",
     "shell.execute_reply": "2021-08-31T15:29:59.671950Z",
     "shell.execute_reply.started": "2021-08-31T14:06:57.794877Z"
    },
    "papermill": {
     "duration": 0.07424,
     "end_time": "2021-08-31T15:29:59.672752",
     "exception": false,
     "start_time": "2021-08-31T15:29:59.598512",
     "status": "completed"
    },
    "tags": []
   },
   "outputs": [
    {
     "name": "stdout",
     "output_type": "stream",
     "text": [
      "Собрали все линки\n"
     ]
    }
   ],
   "source": [
    "\"\"\"\n",
    "## собираем все названия марок автомобилей\n",
    "f = open('../input/brand-script/data.txt')\n",
    "data = json.load(f)\n",
    "brands = []\n",
    "for i in data['entities']:\n",
    "    if(i['count'] > 0):\n",
    "        brands.append(i['id'])\n",
    "links = []\n",
    "time_to_sleep_when_captcha = 5\n",
    "# по каждой марки авто смотрим страницы с объявлениями и собираем ссылки на эти объявления\n",
    "for brand in brands:\n",
    "    print(brand)\n",
    "    count = 0\n",
    "    for i in range(1,100):\n",
    "        url = 'https://auto.ru/moskva/cars/'+brand+'/used/?page='+str(i)\n",
    "        print(url)\n",
    "        try:\n",
    "            response = requests.get(url)\n",
    "            page = BeautifulSoup(response.text, 'html.parser')\n",
    "            test_for_link = page.find('a', class_ = 'Link OfferThumb')\n",
    "            if(test_for_link is None):\n",
    "                print(\"No more pages\")\n",
    "                break\n",
    "            else:\n",
    "                page_links = page.find_all('a', class_ = 'Link OfferThumb')\n",
    "                for link in page_links:\n",
    "                    links.append(link['href'])\n",
    "        except:\n",
    "            print(\"Something wrong\")\n",
    "            time_to_sleep_when_captcha += 1\n",
    "        time.sleep(time_to_sleep_when_captcha)\n",
    "# сохраним ссылки в файле\n",
    "with open('../input/auto-links/links.txt', 'wb') as fp:\n",
    "    pickle.dump(links, fp)\n",
    "    \"\"\"\n",
    "print('Собрали все линки')"
   ]
  },
  {
   "cell_type": "markdown",
   "metadata": {
    "papermill": {
     "duration": 0.063242,
     "end_time": "2021-08-31T15:29:59.798993",
     "exception": false,
     "start_time": "2021-08-31T15:29:59.735751",
     "status": "completed"
    },
    "tags": []
   },
   "source": [
    "В файле \"links.txt\" сохранили ссылки на объявления. Из за плохой связи приходится задачу разбивать на этапы и сохранять промежуточные результыты."
   ]
  },
  {
   "cell_type": "code",
   "execution_count": 7,
   "metadata": {
    "execution": {
     "iopub.execute_input": "2021-08-31T15:29:59.931978Z",
     "iopub.status.busy": "2021-08-31T15:29:59.931040Z",
     "iopub.status.idle": "2021-08-31T15:29:59.935140Z",
     "shell.execute_reply": "2021-08-31T15:29:59.934457Z",
     "shell.execute_reply.started": "2021-08-31T14:07:00.627027Z"
    },
    "papermill": {
     "duration": 0.072939,
     "end_time": "2021-08-31T15:29:59.935270",
     "exception": false,
     "start_time": "2021-08-31T15:29:59.862331",
     "status": "completed"
    },
    "tags": []
   },
   "outputs": [
    {
     "name": "stdout",
     "output_type": "stream",
     "text": [
      "Загрузили ссылки на объявления\n"
     ]
    }
   ],
   "source": [
    "\"\"\"\n",
    "with open ('../input/auto-links/links.txt', 'rb') as fp:\n",
    "    links = pickle.load(fp)\n",
    "print(\"Всего объявлений: \",len(links))\n",
    "\"\"\"\n",
    "print(\"Загрузили ссылки на объявления\")"
   ]
  },
  {
   "cell_type": "code",
   "execution_count": 8,
   "metadata": {
    "execution": {
     "iopub.execute_input": "2021-08-31T15:30:00.073691Z",
     "iopub.status.busy": "2021-08-31T15:30:00.072816Z",
     "iopub.status.idle": "2021-08-31T15:30:00.076156Z",
     "shell.execute_reply": "2021-08-31T15:30:00.077138Z",
     "shell.execute_reply.started": "2021-08-31T14:07:06.526226Z"
    },
    "papermill": {
     "duration": 0.076944,
     "end_time": "2021-08-31T15:30:00.077375",
     "exception": false,
     "start_time": "2021-08-31T15:30:00.000431",
     "status": "completed"
    },
    "tags": []
   },
   "outputs": [
    {
     "name": "stdout",
     "output_type": "stream",
     "text": [
      "Собрали датасет для обучения\n"
     ]
    }
   ],
   "source": [
    "\"\"\"\n",
    "# обработаем каждое объявление и соберем датасет для обучения модели\n",
    "# определим функцию для обработки одного объявления:\n",
    "def get_auto_data(json_data, page):\n",
    "    item = []\n",
    "    item = {\n",
    "            'bodyType': json_data['bodyType'],\n",
    "            'brand': json_data['brand'],\n",
    "            'car_url': json_data['offers']['url'],\n",
    "            'color': json_data['color'],\n",
    "            'description': json_data['description'],\n",
    "            'engineDisplacement': json_data['vehicleEngine']['engineDisplacement'],\n",
    "            'enginePower': json_data['vehicleEngine']['enginePower'],\n",
    "            'fuelType': json_data['fuelType'],\n",
    "            'image': json_data['image'],\n",
    "            'mileage': page.find('li', class_= 'CardInfoRow_kmAge').find_all('span')[1].text,\n",
    "            'modelDate': json_data['modelDate'],\n",
    "            'model_name': json_data['name'],\n",
    "            'name': json_data['vehicleEngine']['name'],\n",
    "            'numberOfDoors': json_data['numberOfDoors'],\n",
    "            'parsing_unixtime': int(time.time()),\n",
    "            'priceCurrency': json_data['offers']['priceCurrency'],\n",
    "            'productionDate': json_data['productionDate'],\n",
    "            'sell_id': page.find('div', title='Идентификатор объявления').text,\n",
    "            'vehicleConfiguration': json_data['vehicleConfiguration'],\n",
    "            'vehicleTransmission': json_data['vehicleTransmission'],\n",
    "            'Владельцы': page.find('li', class_='CardInfoRow_ownersCount').find_all('span')[1].text,\n",
    "            'ПТС': page.find('li', class_='CardInfoRow_pts').find_all('span')[1].text,\n",
    "            'Привод': page.find('li', class_='CardInfoRow_drive').find_all('span')[1].text,\n",
    "            'Руль': page.find('li', class_='CardInfoRow_wheel').find_all('span')[1].text,\n",
    "            'Состояние': page.find('li', class_='CardInfoRow_state').find_all('span')[1].text,\n",
    "            'Таможня': page.find('li', class_='CardInfoRow_customs').find_all('span')[1].text,\n",
    "            'price': page.find('span', class_='OfferPriceCaption__price').text\n",
    "            }\n",
    "    return item\n",
    "\n",
    "time_to_sleep_when_captcha = 0.1\n",
    "cars_data = []\n",
    "# для каждой ссылки загрузим страницу, проверим не продана ли машина и обработаем ее функцией get_auto_data\n",
    "for url in links:\n",
    "    try:\n",
    "        response = requests.get(url)\n",
    "        response.encoding = 'utf-8'\n",
    "        page = BeautifulSoup(response.text, 'html.parser')\n",
    "        sold_check = page.find('div', class_ = \"CardSold\")\n",
    "        if(sold_check is None):\n",
    "            json_data = json.loads(page.find('script', type = \"application/ld+json\").string)\n",
    "            cars_data.append(get_auto_data(json_data, page))\n",
    "            print(url, len(cars_data))\n",
    "        else:\n",
    "            print(\"Sold\")\n",
    "    except:\n",
    "        print('Something is wrong')\n",
    "        time_to_sleep_when_captcha += 0.1\n",
    "    time.sleep(time_to_sleep_when_captcha)\n",
    "# создадим итоговый датафрейм и сохраним его в файле\n",
    "df = pd.DataFrame(cars_data)\n",
    "df.to_csv('auto.ru_data.csv', index = False)\n",
    "\"\"\"\n",
    "print(\"Собрали датасет для обучения\")"
   ]
  },
  {
   "cell_type": "markdown",
   "metadata": {
    "papermill": {
     "duration": 0.063673,
     "end_time": "2021-08-31T15:30:00.207061",
     "exception": false,
     "start_time": "2021-08-31T15:30:00.143388",
     "status": "completed"
    },
    "tags": []
   },
   "source": [
    "Несколько попыток собрать весь датасет в отпуске успехом не увенчались, мобильная связь давала сбой, на текущий момент датасет собирается уже в Москве, на утро понедельника обработано 21 000 объявлений (старт был вечером в воскресение). По этой причине пока использую имеющийся датасет в kaggle от сентября 2020 года, если удастатся собрать свой и останется время, я его заменю. Еще встает проблема инфляции, новый датасет надо будет как то дисконтировать по цене, по грубой оценки процентов на двадцать по некоторым маркам.    "
   ]
  },
  {
   "cell_type": "markdown",
   "metadata": {
    "papermill": {
     "duration": 0.063127,
     "end_time": "2021-08-31T15:30:00.334801",
     "exception": false,
     "start_time": "2021-08-31T15:30:00.271674",
     "status": "completed"
    },
    "tags": []
   },
   "source": [
    "# Setup"
   ]
  },
  {
   "cell_type": "code",
   "execution_count": 9,
   "metadata": {
    "execution": {
     "iopub.execute_input": "2021-08-31T15:30:00.468389Z",
     "iopub.status.busy": "2021-08-31T15:30:00.467690Z",
     "iopub.status.idle": "2021-08-31T15:30:00.470986Z",
     "shell.execute_reply": "2021-08-31T15:30:00.471460Z",
     "shell.execute_reply.started": "2021-08-31T14:07:50.984591Z"
    },
    "papermill": {
     "duration": 0.073407,
     "end_time": "2021-08-31T15:30:00.471638",
     "exception": false,
     "start_time": "2021-08-31T15:30:00.398231",
     "status": "completed"
    },
    "tags": []
   },
   "outputs": [],
   "source": [
    "VERSION    = 16\n",
    "DIR_TRAIN  = '../input/parsing-all-moscow-auto-ru-09-09-2020/' # подключил к ноутбуку внешний датасет\n",
    "DIR_TEST   = '../input/sf-dst-car-price-prediction/'\n",
    "VAL_SIZE   = 0.20   # 20%"
   ]
  },
  {
   "cell_type": "markdown",
   "metadata": {
    "papermill": {
     "duration": 0.063836,
     "end_time": "2021-08-31T15:30:00.598960",
     "exception": false,
     "start_time": "2021-08-31T15:30:00.535124",
     "status": "completed"
    },
    "tags": []
   },
   "source": [
    "# Data"
   ]
  },
  {
   "cell_type": "code",
   "execution_count": 10,
   "metadata": {
    "execution": {
     "iopub.execute_input": "2021-08-31T15:30:00.734044Z",
     "iopub.status.busy": "2021-08-31T15:30:00.733028Z",
     "iopub.status.idle": "2021-08-31T15:30:01.460266Z",
     "shell.execute_reply": "2021-08-31T15:30:01.459685Z",
     "shell.execute_reply.started": "2021-08-31T14:07:55.820154Z"
    },
    "papermill": {
     "duration": 0.798226,
     "end_time": "2021-08-31T15:30:01.460427",
     "exception": false,
     "start_time": "2021-08-31T15:30:00.662201",
     "status": "completed"
    },
    "tags": []
   },
   "outputs": [
    {
     "name": "stdout",
     "output_type": "stream",
     "text": [
      "auto-links    parsing-all-moscow-auto-ru-09-09-2020\r\n",
      "brand-script  sf-dst-car-price-prediction\r\n"
     ]
    }
   ],
   "source": [
    "!ls '../input'"
   ]
  },
  {
   "cell_type": "code",
   "execution_count": 11,
   "metadata": {
    "_cell_guid": "79c7e3d0-c299-4dcb-8224-4455121ee9b0",
    "_uuid": "d629ff2d2480ee46fbb7e2d37f6b5fab8052498a",
    "execution": {
     "iopub.execute_input": "2021-08-31T15:30:01.600493Z",
     "iopub.status.busy": "2021-08-31T15:30:01.599770Z",
     "iopub.status.idle": "2021-08-31T15:30:10.600896Z",
     "shell.execute_reply": "2021-08-31T15:30:10.599750Z",
     "shell.execute_reply.started": "2021-08-31T14:08:23.294278Z"
    },
    "papermill": {
     "duration": 9.07604,
     "end_time": "2021-08-31T15:30:10.601047",
     "exception": false,
     "start_time": "2021-08-31T15:30:01.525007",
     "status": "completed"
    },
    "tags": []
   },
   "outputs": [],
   "source": [
    "train = pd.read_csv(DIR_TRAIN+'all_auto_ru_09_09_2020.csv') # датасет для обучения модели\n",
    "test = pd.read_csv(DIR_TEST+'test.csv')\n",
    "sample_submission = pd.read_csv(DIR_TEST+'sample_submission.csv')"
   ]
  },
  {
   "cell_type": "code",
   "execution_count": 12,
   "metadata": {
    "execution": {
     "iopub.execute_input": "2021-08-31T15:30:10.731755Z",
     "iopub.status.busy": "2021-08-31T15:30:10.731045Z",
     "iopub.status.idle": "2021-08-31T15:30:10.755759Z",
     "shell.execute_reply": "2021-08-31T15:30:10.754754Z",
     "shell.execute_reply.started": "2021-08-31T14:08:30.938290Z"
    },
    "papermill": {
     "duration": 0.090943,
     "end_time": "2021-08-31T15:30:10.755951",
     "exception": false,
     "start_time": "2021-08-31T15:30:10.665008",
     "status": "completed"
    },
    "tags": []
   },
   "outputs": [
    {
     "name": "stdout",
     "output_type": "stream",
     "text": [
      "<class 'pandas.core.frame.DataFrame'>\n",
      "RangeIndex: 34686 entries, 0 to 34685\n",
      "Data columns (total 2 columns):\n",
      " #   Column   Non-Null Count  Dtype\n",
      "---  ------   --------------  -----\n",
      " 0   sell_id  34686 non-null  int64\n",
      " 1   price    34686 non-null  int64\n",
      "dtypes: int64(2)\n",
      "memory usage: 542.1 KB\n"
     ]
    }
   ],
   "source": [
    "sample_submission.info()"
   ]
  },
  {
   "cell_type": "markdown",
   "metadata": {
    "papermill": {
     "duration": 0.064441,
     "end_time": "2021-08-31T15:30:10.885633",
     "exception": false,
     "start_time": "2021-08-31T15:30:10.821192",
     "status": "completed"
    },
    "tags": []
   },
   "source": [
    "## Data Preprocessing"
   ]
  },
  {
   "cell_type": "code",
   "execution_count": 13,
   "metadata": {
    "execution": {
     "iopub.execute_input": "2021-08-31T15:30:11.041132Z",
     "iopub.status.busy": "2021-08-31T15:30:11.040380Z",
     "iopub.status.idle": "2021-08-31T15:30:11.096952Z",
     "shell.execute_reply": "2021-08-31T15:30:11.096211Z",
     "shell.execute_reply.started": "2021-08-31T14:08:55.630157Z"
    },
    "papermill": {
     "duration": 0.14636,
     "end_time": "2021-08-31T15:30:11.097094",
     "exception": false,
     "start_time": "2021-08-31T15:30:10.950734",
     "status": "completed"
    },
    "tags": []
   },
   "outputs": [
    {
     "name": "stdout",
     "output_type": "stream",
     "text": [
      "Размерность тренировочного датасета:  (89378, 26)\n"
     ]
    },
    {
     "data": {
      "text/html": [
       "<div>\n",
       "<style scoped>\n",
       "    .dataframe tbody tr th:only-of-type {\n",
       "        vertical-align: middle;\n",
       "    }\n",
       "\n",
       "    .dataframe tbody tr th {\n",
       "        vertical-align: top;\n",
       "    }\n",
       "\n",
       "    .dataframe thead th {\n",
       "        text-align: right;\n",
       "    }\n",
       "</style>\n",
       "<table border=\"1\" class=\"dataframe\">\n",
       "  <thead>\n",
       "    <tr style=\"text-align: right;\">\n",
       "      <th></th>\n",
       "      <th>bodyType</th>\n",
       "      <th>brand</th>\n",
       "      <th>color</th>\n",
       "      <th>fuelType</th>\n",
       "      <th>modelDate</th>\n",
       "      <th>name</th>\n",
       "      <th>numberOfDoors</th>\n",
       "      <th>productionDate</th>\n",
       "      <th>vehicleConfiguration</th>\n",
       "      <th>vehicleTransmission</th>\n",
       "      <th>engineDisplacement</th>\n",
       "      <th>enginePower</th>\n",
       "      <th>description</th>\n",
       "      <th>mileage</th>\n",
       "      <th>Комплектация</th>\n",
       "      <th>Привод</th>\n",
       "      <th>Руль</th>\n",
       "      <th>Состояние</th>\n",
       "      <th>Владельцы</th>\n",
       "      <th>ПТС</th>\n",
       "      <th>Таможня</th>\n",
       "      <th>Владение</th>\n",
       "      <th>price</th>\n",
       "      <th>start_date</th>\n",
       "      <th>hidden</th>\n",
       "      <th>model</th>\n",
       "    </tr>\n",
       "  </thead>\n",
       "  <tbody>\n",
       "    <tr>\n",
       "      <th>0</th>\n",
       "      <td>Седан</td>\n",
       "      <td>AUDI</td>\n",
       "      <td>040001</td>\n",
       "      <td>бензин</td>\n",
       "      <td>1990.0</td>\n",
       "      <td>2.8 MT (174 л.с.) 4WD</td>\n",
       "      <td>4.0</td>\n",
       "      <td>1991</td>\n",
       "      <td>SEDAN MECHANICAL 2.8</td>\n",
       "      <td>MECHANICAL</td>\n",
       "      <td>2.8</td>\n",
       "      <td>174.0</td>\n",
       "      <td>Машина  в приличном состоянии ,не гнилая не р...</td>\n",
       "      <td>350000</td>\n",
       "      <td>{'id': '0'}</td>\n",
       "      <td>полный</td>\n",
       "      <td>LEFT</td>\n",
       "      <td>NaN</td>\n",
       "      <td>3.0</td>\n",
       "      <td>ORIGINAL</td>\n",
       "      <td>True</td>\n",
       "      <td>NaN</td>\n",
       "      <td>200000.0</td>\n",
       "      <td>2019-10-03T08:09:11Z</td>\n",
       "      <td>NaN</td>\n",
       "      <td>100</td>\n",
       "    </tr>\n",
       "    <tr>\n",
       "      <th>1</th>\n",
       "      <td>Седан</td>\n",
       "      <td>AUDI</td>\n",
       "      <td>EE1D19</td>\n",
       "      <td>бензин</td>\n",
       "      <td>1982.0</td>\n",
       "      <td>1.8 MT (90 л.с.)</td>\n",
       "      <td>4.0</td>\n",
       "      <td>1986</td>\n",
       "      <td>SEDAN MECHANICAL 1.8</td>\n",
       "      <td>MECHANICAL</td>\n",
       "      <td>1.8</td>\n",
       "      <td>90.0</td>\n",
       "      <td>Машина в оригинале не гнилая все вопросы по те...</td>\n",
       "      <td>173424</td>\n",
       "      <td>{'id': '0'}</td>\n",
       "      <td>передний</td>\n",
       "      <td>LEFT</td>\n",
       "      <td>NaN</td>\n",
       "      <td>3.0</td>\n",
       "      <td>ORIGINAL</td>\n",
       "      <td>True</td>\n",
       "      <td>NaN</td>\n",
       "      <td>60000.0</td>\n",
       "      <td>2020-09-06T06:49:40Z</td>\n",
       "      <td>NaN</td>\n",
       "      <td>100</td>\n",
       "    </tr>\n",
       "    <tr>\n",
       "      <th>2</th>\n",
       "      <td>Универсал 5 дв.</td>\n",
       "      <td>AUDI</td>\n",
       "      <td>0000CC</td>\n",
       "      <td>бензин</td>\n",
       "      <td>1988.0</td>\n",
       "      <td>2.3 MT (136 л.с.) 4WD</td>\n",
       "      <td>5.0</td>\n",
       "      <td>1989</td>\n",
       "      <td>WAGON_5_DOORS MECHANICAL 2.3</td>\n",
       "      <td>MECHANICAL</td>\n",
       "      <td>2.3</td>\n",
       "      <td>136.0</td>\n",
       "      <td>ПТС Оригинал!\\nПолный комплект ключей!\\nПо рез...</td>\n",
       "      <td>230000</td>\n",
       "      <td>{'id': '0'}</td>\n",
       "      <td>полный</td>\n",
       "      <td>LEFT</td>\n",
       "      <td>NaN</td>\n",
       "      <td>3.0</td>\n",
       "      <td>ORIGINAL</td>\n",
       "      <td>True</td>\n",
       "      <td>NaN</td>\n",
       "      <td>99000.0</td>\n",
       "      <td>2020-09-02T14:04:21Z</td>\n",
       "      <td>NaN</td>\n",
       "      <td>100</td>\n",
       "    </tr>\n",
       "    <tr>\n",
       "      <th>3</th>\n",
       "      <td>Седан</td>\n",
       "      <td>AUDI</td>\n",
       "      <td>CACECB</td>\n",
       "      <td>бензин</td>\n",
       "      <td>1988.0</td>\n",
       "      <td>1.8 MT (90 л.с.)</td>\n",
       "      <td>4.0</td>\n",
       "      <td>1989</td>\n",
       "      <td>SEDAN MECHANICAL 1.8</td>\n",
       "      <td>MECHANICAL</td>\n",
       "      <td>1.8</td>\n",
       "      <td>90.0</td>\n",
       "      <td>NaN</td>\n",
       "      <td>240000</td>\n",
       "      <td>{'id': '0'}</td>\n",
       "      <td>передний</td>\n",
       "      <td>LEFT</td>\n",
       "      <td>NaN</td>\n",
       "      <td>3.0</td>\n",
       "      <td>ORIGINAL</td>\n",
       "      <td>True</td>\n",
       "      <td>NaN</td>\n",
       "      <td>65000.0</td>\n",
       "      <td>2020-08-23T17:40:09Z</td>\n",
       "      <td>NaN</td>\n",
       "      <td>100</td>\n",
       "    </tr>\n",
       "    <tr>\n",
       "      <th>4</th>\n",
       "      <td>Седан</td>\n",
       "      <td>AUDI</td>\n",
       "      <td>040001</td>\n",
       "      <td>бензин</td>\n",
       "      <td>1990.0</td>\n",
       "      <td>2.0 MT (101 л.с.)</td>\n",
       "      <td>4.0</td>\n",
       "      <td>1991</td>\n",
       "      <td>SEDAN MECHANICAL 2.0</td>\n",
       "      <td>MECHANICAL</td>\n",
       "      <td>2.0</td>\n",
       "      <td>101.0</td>\n",
       "      <td>Машина не гнилая, дыр нет, днище целое, даже в...</td>\n",
       "      <td>300000</td>\n",
       "      <td>{'id': '0'}</td>\n",
       "      <td>передний</td>\n",
       "      <td>LEFT</td>\n",
       "      <td>NaN</td>\n",
       "      <td>3.0</td>\n",
       "      <td>DUPLICATE</td>\n",
       "      <td>True</td>\n",
       "      <td>NaN</td>\n",
       "      <td>100000.0</td>\n",
       "      <td>2020-09-08T09:22:07Z</td>\n",
       "      <td>NaN</td>\n",
       "      <td>100</td>\n",
       "    </tr>\n",
       "  </tbody>\n",
       "</table>\n",
       "</div>"
      ],
      "text/plain": [
       "          bodyType brand   color fuelType  modelDate                   name  \\\n",
       "0            Седан  AUDI  040001   бензин     1990.0  2.8 MT (174 л.с.) 4WD   \n",
       "1            Седан  AUDI  EE1D19   бензин     1982.0       1.8 MT (90 л.с.)   \n",
       "2  Универсал 5 дв.  AUDI  0000CC   бензин     1988.0  2.3 MT (136 л.с.) 4WD   \n",
       "3            Седан  AUDI  CACECB   бензин     1988.0       1.8 MT (90 л.с.)   \n",
       "4            Седан  AUDI  040001   бензин     1990.0      2.0 MT (101 л.с.)   \n",
       "\n",
       "   numberOfDoors  productionDate          vehicleConfiguration  \\\n",
       "0            4.0            1991          SEDAN MECHANICAL 2.8   \n",
       "1            4.0            1986          SEDAN MECHANICAL 1.8   \n",
       "2            5.0            1989  WAGON_5_DOORS MECHANICAL 2.3   \n",
       "3            4.0            1989          SEDAN MECHANICAL 1.8   \n",
       "4            4.0            1991          SEDAN MECHANICAL 2.0   \n",
       "\n",
       "  vehicleTransmission engineDisplacement  enginePower  \\\n",
       "0          MECHANICAL                2.8        174.0   \n",
       "1          MECHANICAL                1.8         90.0   \n",
       "2          MECHANICAL                2.3        136.0   \n",
       "3          MECHANICAL                1.8         90.0   \n",
       "4          MECHANICAL                2.0        101.0   \n",
       "\n",
       "                                         description  mileage Комплектация  \\\n",
       "0   Машина  в приличном состоянии ,не гнилая не р...   350000  {'id': '0'}   \n",
       "1  Машина в оригинале не гнилая все вопросы по те...   173424  {'id': '0'}   \n",
       "2  ПТС Оригинал!\\nПолный комплект ключей!\\nПо рез...   230000  {'id': '0'}   \n",
       "3                                                NaN   240000  {'id': '0'}   \n",
       "4  Машина не гнилая, дыр нет, днище целое, даже в...   300000  {'id': '0'}   \n",
       "\n",
       "     Привод  Руль  Состояние  Владельцы        ПТС  Таможня Владение  \\\n",
       "0    полный  LEFT        NaN        3.0   ORIGINAL     True      NaN   \n",
       "1  передний  LEFT        NaN        3.0   ORIGINAL     True      NaN   \n",
       "2    полный  LEFT        NaN        3.0   ORIGINAL     True      NaN   \n",
       "3  передний  LEFT        NaN        3.0   ORIGINAL     True      NaN   \n",
       "4  передний  LEFT        NaN        3.0  DUPLICATE     True      NaN   \n",
       "\n",
       "      price            start_date  hidden model  \n",
       "0  200000.0  2019-10-03T08:09:11Z     NaN   100  \n",
       "1   60000.0  2020-09-06T06:49:40Z     NaN   100  \n",
       "2   99000.0  2020-09-02T14:04:21Z     NaN   100  \n",
       "3   65000.0  2020-08-23T17:40:09Z     NaN   100  \n",
       "4  100000.0  2020-09-08T09:22:07Z     NaN   100  "
      ]
     },
     "metadata": {},
     "output_type": "display_data"
    },
    {
     "name": "stdout",
     "output_type": "stream",
     "text": [
      "Размерность тестового датасета:  (34686, 32)\n"
     ]
    },
    {
     "data": {
      "text/html": [
       "<div>\n",
       "<style scoped>\n",
       "    .dataframe tbody tr th:only-of-type {\n",
       "        vertical-align: middle;\n",
       "    }\n",
       "\n",
       "    .dataframe tbody tr th {\n",
       "        vertical-align: top;\n",
       "    }\n",
       "\n",
       "    .dataframe thead th {\n",
       "        text-align: right;\n",
       "    }\n",
       "</style>\n",
       "<table border=\"1\" class=\"dataframe\">\n",
       "  <thead>\n",
       "    <tr style=\"text-align: right;\">\n",
       "      <th></th>\n",
       "      <th>bodyType</th>\n",
       "      <th>brand</th>\n",
       "      <th>car_url</th>\n",
       "      <th>color</th>\n",
       "      <th>complectation_dict</th>\n",
       "      <th>description</th>\n",
       "      <th>engineDisplacement</th>\n",
       "      <th>enginePower</th>\n",
       "      <th>equipment_dict</th>\n",
       "      <th>fuelType</th>\n",
       "      <th>image</th>\n",
       "      <th>mileage</th>\n",
       "      <th>modelDate</th>\n",
       "      <th>model_info</th>\n",
       "      <th>model_name</th>\n",
       "      <th>name</th>\n",
       "      <th>numberOfDoors</th>\n",
       "      <th>parsing_unixtime</th>\n",
       "      <th>priceCurrency</th>\n",
       "      <th>productionDate</th>\n",
       "      <th>sell_id</th>\n",
       "      <th>super_gen</th>\n",
       "      <th>vehicleConfiguration</th>\n",
       "      <th>vehicleTransmission</th>\n",
       "      <th>vendor</th>\n",
       "      <th>Владельцы</th>\n",
       "      <th>Владение</th>\n",
       "      <th>ПТС</th>\n",
       "      <th>Привод</th>\n",
       "      <th>Руль</th>\n",
       "      <th>Состояние</th>\n",
       "      <th>Таможня</th>\n",
       "    </tr>\n",
       "  </thead>\n",
       "  <tbody>\n",
       "    <tr>\n",
       "      <th>0</th>\n",
       "      <td>лифтбек</td>\n",
       "      <td>SKODA</td>\n",
       "      <td>https://auto.ru/cars/used/sale/skoda/octavia/1...</td>\n",
       "      <td>синий</td>\n",
       "      <td>NaN</td>\n",
       "      <td>Все автомобили, представленные в продаже, прох...</td>\n",
       "      <td>1.2 LTR</td>\n",
       "      <td>105 N12</td>\n",
       "      <td>{\"engine-proof\":true,\"tinted-glass\":true,\"airb...</td>\n",
       "      <td>бензин</td>\n",
       "      <td>https://autoru.naydex.net/o9DBXQ270/5ac010hAY0...</td>\n",
       "      <td>74000</td>\n",
       "      <td>2013</td>\n",
       "      <td>{\"code\":\"OCTAVIA\",\"name\":\"Octavia\",\"ru_name\":\"...</td>\n",
       "      <td>OCTAVIA</td>\n",
       "      <td>1.2 AMT (105 л.с.)</td>\n",
       "      <td>5</td>\n",
       "      <td>1603226273</td>\n",
       "      <td>RUB</td>\n",
       "      <td>2014</td>\n",
       "      <td>1100575026</td>\n",
       "      <td>{\"id\":\"10373605\",\"displacement\":1197,\"engine_t...</td>\n",
       "      <td>LIFTBACK ROBOT 1.2</td>\n",
       "      <td>роботизированная</td>\n",
       "      <td>EUROPEAN</td>\n",
       "      <td>3 или более</td>\n",
       "      <td>NaN</td>\n",
       "      <td>Оригинал</td>\n",
       "      <td>передний</td>\n",
       "      <td>Левый</td>\n",
       "      <td>Не требует ремонта</td>\n",
       "      <td>Растаможен</td>\n",
       "    </tr>\n",
       "    <tr>\n",
       "      <th>1</th>\n",
       "      <td>лифтбек</td>\n",
       "      <td>SKODA</td>\n",
       "      <td>https://auto.ru/cars/used/sale/skoda/octavia/1...</td>\n",
       "      <td>чёрный</td>\n",
       "      <td>NaN</td>\n",
       "      <td>ЛОТ: 01217195\\nАвтопрага Север\\nДанный автомоб...</td>\n",
       "      <td>1.6 LTR</td>\n",
       "      <td>110 N12</td>\n",
       "      <td>{\"cruise-control\":true,\"asr\":true,\"esp\":true,\"...</td>\n",
       "      <td>бензин</td>\n",
       "      <td>https://autoru.naydex.net/o9DBXQ270/5ac010hAY0...</td>\n",
       "      <td>60563</td>\n",
       "      <td>2017</td>\n",
       "      <td>{\"code\":\"OCTAVIA\",\"name\":\"Octavia\",\"ru_name\":\"...</td>\n",
       "      <td>OCTAVIA</td>\n",
       "      <td>1.6 MT (110 л.с.)</td>\n",
       "      <td>5</td>\n",
       "      <td>1603226277</td>\n",
       "      <td>RUB</td>\n",
       "      <td>2017</td>\n",
       "      <td>1100549428</td>\n",
       "      <td>{\"id\":\"20913311\",\"displacement\":1598,\"engine_t...</td>\n",
       "      <td>LIFTBACK MECHANICAL 1.6</td>\n",
       "      <td>механическая</td>\n",
       "      <td>EUROPEAN</td>\n",
       "      <td>1 владелец</td>\n",
       "      <td>NaN</td>\n",
       "      <td>Оригинал</td>\n",
       "      <td>передний</td>\n",
       "      <td>Левый</td>\n",
       "      <td>Не требует ремонта</td>\n",
       "      <td>Растаможен</td>\n",
       "    </tr>\n",
       "    <tr>\n",
       "      <th>2</th>\n",
       "      <td>лифтбек</td>\n",
       "      <td>SKODA</td>\n",
       "      <td>https://auto.ru/cars/used/sale/skoda/superb/11...</td>\n",
       "      <td>серый</td>\n",
       "      <td>{\"id\":\"20026336\",\"name\":\"Ambition\",\"available_...</td>\n",
       "      <td>Все автомобили, представленные в продаже, прох...</td>\n",
       "      <td>1.8 LTR</td>\n",
       "      <td>152 N12</td>\n",
       "      <td>{\"cruise-control\":true,\"tinted-glass\":true,\"es...</td>\n",
       "      <td>бензин</td>\n",
       "      <td>https://avatars.mds.yandex.net/get-autoru-vos/...</td>\n",
       "      <td>88000</td>\n",
       "      <td>2013</td>\n",
       "      <td>{\"code\":\"SUPERB\",\"name\":\"Superb\",\"ru_name\":\"Су...</td>\n",
       "      <td>SUPERB</td>\n",
       "      <td>DSG 1.8 AMT (152 л.с.)</td>\n",
       "      <td>5</td>\n",
       "      <td>1603226280</td>\n",
       "      <td>RUB</td>\n",
       "      <td>2014</td>\n",
       "      <td>1100658222</td>\n",
       "      <td>{\"id\":\"20026323\",\"nameplate\":\"DSG\",\"displaceme...</td>\n",
       "      <td>LIFTBACK ROBOT 1.8</td>\n",
       "      <td>роботизированная</td>\n",
       "      <td>EUROPEAN</td>\n",
       "      <td>1 владелец</td>\n",
       "      <td>NaN</td>\n",
       "      <td>Оригинал</td>\n",
       "      <td>передний</td>\n",
       "      <td>Левый</td>\n",
       "      <td>Не требует ремонта</td>\n",
       "      <td>Растаможен</td>\n",
       "    </tr>\n",
       "    <tr>\n",
       "      <th>3</th>\n",
       "      <td>лифтбек</td>\n",
       "      <td>SKODA</td>\n",
       "      <td>https://auto.ru/cars/used/sale/skoda/octavia/1...</td>\n",
       "      <td>коричневый</td>\n",
       "      <td>{\"id\":\"20803582\",\"name\":\"Ambition\",\"available_...</td>\n",
       "      <td>КОМПЛЕКТ ЗИМНЕЙ (ЛЕТНЕЙ) РЕЗИНЫ ПО СЕЗОНУ В ПО...</td>\n",
       "      <td>1.6 LTR</td>\n",
       "      <td>110 N12</td>\n",
       "      <td>{\"cruise-control\":true,\"roller-blind-for-rear-...</td>\n",
       "      <td>бензин</td>\n",
       "      <td>https://autoru.naydex.net/o9DBXQ270/5ac010hAY0...</td>\n",
       "      <td>95000</td>\n",
       "      <td>2013</td>\n",
       "      <td>{\"code\":\"OCTAVIA\",\"name\":\"Octavia\",\"ru_name\":\"...</td>\n",
       "      <td>OCTAVIA</td>\n",
       "      <td>1.6 AT (110 л.с.)</td>\n",
       "      <td>5</td>\n",
       "      <td>1603226284</td>\n",
       "      <td>RUB</td>\n",
       "      <td>2014</td>\n",
       "      <td>1100937408</td>\n",
       "      <td>{\"id\":\"20105521\",\"displacement\":1598,\"engine_t...</td>\n",
       "      <td>LIFTBACK AUTOMATIC 1.6</td>\n",
       "      <td>автоматическая</td>\n",
       "      <td>EUROPEAN</td>\n",
       "      <td>1 владелец</td>\n",
       "      <td>NaN</td>\n",
       "      <td>Оригинал</td>\n",
       "      <td>передний</td>\n",
       "      <td>Левый</td>\n",
       "      <td>Не требует ремонта</td>\n",
       "      <td>Растаможен</td>\n",
       "    </tr>\n",
       "    <tr>\n",
       "      <th>4</th>\n",
       "      <td>лифтбек</td>\n",
       "      <td>SKODA</td>\n",
       "      <td>https://auto.ru/cars/used/sale/skoda/octavia/1...</td>\n",
       "      <td>белый</td>\n",
       "      <td>NaN</td>\n",
       "      <td>ЛОТ: 01220889\\nАвтопрага Север\\n\\nВы можете по...</td>\n",
       "      <td>1.8 LTR</td>\n",
       "      <td>152 N12</td>\n",
       "      <td>{\"cruise-control\":true,\"asr\":true,\"esp\":true,\"...</td>\n",
       "      <td>бензин</td>\n",
       "      <td>https://autoru.naydex.net/o9DBXQ270/5ac010hAY0...</td>\n",
       "      <td>58536</td>\n",
       "      <td>2008</td>\n",
       "      <td>{\"code\":\"OCTAVIA\",\"name\":\"Octavia\",\"ru_name\":\"...</td>\n",
       "      <td>OCTAVIA</td>\n",
       "      <td>1.8 AT (152 л.с.)</td>\n",
       "      <td>5</td>\n",
       "      <td>1603226288</td>\n",
       "      <td>RUB</td>\n",
       "      <td>2012</td>\n",
       "      <td>1101037972</td>\n",
       "      <td>{\"id\":\"4561004\",\"displacement\":1798,\"engine_ty...</td>\n",
       "      <td>LIFTBACK AUTOMATIC 1.8</td>\n",
       "      <td>автоматическая</td>\n",
       "      <td>EUROPEAN</td>\n",
       "      <td>1 владелец</td>\n",
       "      <td>NaN</td>\n",
       "      <td>Оригинал</td>\n",
       "      <td>передний</td>\n",
       "      <td>Левый</td>\n",
       "      <td>Не требует ремонта</td>\n",
       "      <td>Растаможен</td>\n",
       "    </tr>\n",
       "  </tbody>\n",
       "</table>\n",
       "</div>"
      ],
      "text/plain": [
       "  bodyType  brand                                            car_url  \\\n",
       "0  лифтбек  SKODA  https://auto.ru/cars/used/sale/skoda/octavia/1...   \n",
       "1  лифтбек  SKODA  https://auto.ru/cars/used/sale/skoda/octavia/1...   \n",
       "2  лифтбек  SKODA  https://auto.ru/cars/used/sale/skoda/superb/11...   \n",
       "3  лифтбек  SKODA  https://auto.ru/cars/used/sale/skoda/octavia/1...   \n",
       "4  лифтбек  SKODA  https://auto.ru/cars/used/sale/skoda/octavia/1...   \n",
       "\n",
       "        color                                 complectation_dict  \\\n",
       "0       синий                                                NaN   \n",
       "1      чёрный                                                NaN   \n",
       "2       серый  {\"id\":\"20026336\",\"name\":\"Ambition\",\"available_...   \n",
       "3  коричневый  {\"id\":\"20803582\",\"name\":\"Ambition\",\"available_...   \n",
       "4       белый                                                NaN   \n",
       "\n",
       "                                         description engineDisplacement  \\\n",
       "0  Все автомобили, представленные в продаже, прох...            1.2 LTR   \n",
       "1  ЛОТ: 01217195\\nАвтопрага Север\\nДанный автомоб...            1.6 LTR   \n",
       "2  Все автомобили, представленные в продаже, прох...            1.8 LTR   \n",
       "3  КОМПЛЕКТ ЗИМНЕЙ (ЛЕТНЕЙ) РЕЗИНЫ ПО СЕЗОНУ В ПО...            1.6 LTR   \n",
       "4  ЛОТ: 01220889\\nАвтопрага Север\\n\\nВы можете по...            1.8 LTR   \n",
       "\n",
       "  enginePower                                     equipment_dict fuelType  \\\n",
       "0     105 N12  {\"engine-proof\":true,\"tinted-glass\":true,\"airb...   бензин   \n",
       "1     110 N12  {\"cruise-control\":true,\"asr\":true,\"esp\":true,\"...   бензин   \n",
       "2     152 N12  {\"cruise-control\":true,\"tinted-glass\":true,\"es...   бензин   \n",
       "3     110 N12  {\"cruise-control\":true,\"roller-blind-for-rear-...   бензин   \n",
       "4     152 N12  {\"cruise-control\":true,\"asr\":true,\"esp\":true,\"...   бензин   \n",
       "\n",
       "                                               image  mileage  modelDate  \\\n",
       "0  https://autoru.naydex.net/o9DBXQ270/5ac010hAY0...    74000       2013   \n",
       "1  https://autoru.naydex.net/o9DBXQ270/5ac010hAY0...    60563       2017   \n",
       "2  https://avatars.mds.yandex.net/get-autoru-vos/...    88000       2013   \n",
       "3  https://autoru.naydex.net/o9DBXQ270/5ac010hAY0...    95000       2013   \n",
       "4  https://autoru.naydex.net/o9DBXQ270/5ac010hAY0...    58536       2008   \n",
       "\n",
       "                                          model_info model_name  \\\n",
       "0  {\"code\":\"OCTAVIA\",\"name\":\"Octavia\",\"ru_name\":\"...    OCTAVIA   \n",
       "1  {\"code\":\"OCTAVIA\",\"name\":\"Octavia\",\"ru_name\":\"...    OCTAVIA   \n",
       "2  {\"code\":\"SUPERB\",\"name\":\"Superb\",\"ru_name\":\"Су...     SUPERB   \n",
       "3  {\"code\":\"OCTAVIA\",\"name\":\"Octavia\",\"ru_name\":\"...    OCTAVIA   \n",
       "4  {\"code\":\"OCTAVIA\",\"name\":\"Octavia\",\"ru_name\":\"...    OCTAVIA   \n",
       "\n",
       "                     name  numberOfDoors  parsing_unixtime priceCurrency  \\\n",
       "0      1.2 AMT (105 л.с.)              5        1603226273           RUB   \n",
       "1       1.6 MT (110 л.с.)              5        1603226277           RUB   \n",
       "2  DSG 1.8 AMT (152 л.с.)              5        1603226280           RUB   \n",
       "3       1.6 AT (110 л.с.)              5        1603226284           RUB   \n",
       "4       1.8 AT (152 л.с.)              5        1603226288           RUB   \n",
       "\n",
       "   productionDate     sell_id  \\\n",
       "0            2014  1100575026   \n",
       "1            2017  1100549428   \n",
       "2            2014  1100658222   \n",
       "3            2014  1100937408   \n",
       "4            2012  1101037972   \n",
       "\n",
       "                                           super_gen     vehicleConfiguration  \\\n",
       "0  {\"id\":\"10373605\",\"displacement\":1197,\"engine_t...       LIFTBACK ROBOT 1.2   \n",
       "1  {\"id\":\"20913311\",\"displacement\":1598,\"engine_t...  LIFTBACK MECHANICAL 1.6   \n",
       "2  {\"id\":\"20026323\",\"nameplate\":\"DSG\",\"displaceme...       LIFTBACK ROBOT 1.8   \n",
       "3  {\"id\":\"20105521\",\"displacement\":1598,\"engine_t...   LIFTBACK AUTOMATIC 1.6   \n",
       "4  {\"id\":\"4561004\",\"displacement\":1798,\"engine_ty...   LIFTBACK AUTOMATIC 1.8   \n",
       "\n",
       "  vehicleTransmission    vendor    Владельцы Владение       ПТС    Привод  \\\n",
       "0    роботизированная  EUROPEAN  3 или более      NaN  Оригинал  передний   \n",
       "1        механическая  EUROPEAN   1 владелец      NaN  Оригинал  передний   \n",
       "2    роботизированная  EUROPEAN   1 владелец      NaN  Оригинал  передний   \n",
       "3      автоматическая  EUROPEAN   1 владелец      NaN  Оригинал  передний   \n",
       "4      автоматическая  EUROPEAN   1 владелец      NaN  Оригинал  передний   \n",
       "\n",
       "    Руль           Состояние     Таможня  \n",
       "0  Левый  Не требует ремонта  Растаможен  \n",
       "1  Левый  Не требует ремонта  Растаможен  \n",
       "2  Левый  Не требует ремонта  Растаможен  \n",
       "3  Левый  Не требует ремонта  Растаможен  \n",
       "4  Левый  Не требует ремонта  Растаможен  "
      ]
     },
     "metadata": {},
     "output_type": "display_data"
    }
   ],
   "source": [
    "pd.set_option('display.max_columns', 40)\n",
    "print('Размерность тренировочного датасета: ', train.shape)\n",
    "display(train.head(5))\n",
    "print('Размерность тестового датасета: ', test.shape)\n",
    "display(test.head(5))"
   ]
  },
  {
   "cell_type": "code",
   "execution_count": 14,
   "metadata": {
    "execution": {
     "iopub.execute_input": "2021-08-31T15:30:11.248323Z",
     "iopub.status.busy": "2021-08-31T15:30:11.247529Z",
     "iopub.status.idle": "2021-08-31T15:30:11.250765Z",
     "shell.execute_reply": "2021-08-31T15:30:11.250210Z",
     "shell.execute_reply.started": "2021-08-31T14:09:02.002754Z"
    },
    "papermill": {
     "duration": 0.081632,
     "end_time": "2021-08-31T15:30:11.250897",
     "exception": false,
     "start_time": "2021-08-31T15:30:11.169265",
     "status": "completed"
    },
    "tags": []
   },
   "outputs": [
    {
     "name": "stdout",
     "output_type": "stream",
     "text": [
      "Нет в train -  {'vendor', 'priceCurrency', 'car_url', 'equipment_dict', 'sell_id', 'model_info', 'complectation_dict', 'model_name', 'image', 'super_gen', 'parsing_unixtime'}\n",
      "Нет в test -  {'model', 'hidden', 'price', 'start_date', 'Комплектация'}\n"
     ]
    }
   ],
   "source": [
    "# посмотрим на разницу в таблицах по признакам\n",
    "print('Нет в train - ', set(test.columns) - set(train.columns))\n",
    "print('Нет в test - ', set(train.columns) - set(test.columns))"
   ]
  },
  {
   "cell_type": "code",
   "execution_count": 15,
   "metadata": {
    "execution": {
     "iopub.execute_input": "2021-08-31T15:30:11.424178Z",
     "iopub.status.busy": "2021-08-31T15:30:11.396279Z",
     "iopub.status.idle": "2021-08-31T15:30:12.189862Z",
     "shell.execute_reply": "2021-08-31T15:30:12.189307Z",
     "shell.execute_reply.started": "2021-08-31T14:09:06.275752Z"
    },
    "papermill": {
     "duration": 0.870781,
     "end_time": "2021-08-31T15:30:12.189985",
     "exception": false,
     "start_time": "2021-08-31T15:30:11.319204",
     "status": "completed"
    },
    "tags": []
   },
   "outputs": [
    {
     "name": "stdout",
     "output_type": "stream",
     "text": [
      "<class 'pandas.core.frame.DataFrame'>\n",
      "Int64Index: 85391 entries, 0 to 89377\n",
      "Data columns (total 21 columns):\n",
      " #   Column                Non-Null Count  Dtype  \n",
      "---  ------                --------------  -----  \n",
      " 0   bodyType              85390 non-null  object \n",
      " 1   brand                 85391 non-null  object \n",
      " 2   color                 85391 non-null  object \n",
      " 3   fuelType              85391 non-null  object \n",
      " 4   modelDate             85390 non-null  float64\n",
      " 5   numberOfDoors         85390 non-null  float64\n",
      " 6   productionDate        85391 non-null  int64  \n",
      " 7   vehicleConfiguration  85390 non-null  object \n",
      " 8   vehicleTransmission   85390 non-null  object \n",
      " 9   engineDisplacement    85390 non-null  object \n",
      " 10  enginePower           85390 non-null  float64\n",
      " 11  description           82179 non-null  object \n",
      " 12  mileage               85391 non-null  int64  \n",
      " 13  complectation_dict    85391 non-null  object \n",
      " 14  Привод                85390 non-null  object \n",
      " 15  Руль                  85391 non-null  object \n",
      " 16  Владельцы             74856 non-null  float64\n",
      " 17  ПТС                   85043 non-null  object \n",
      " 18  Владение              28838 non-null  object \n",
      " 19  price                 85391 non-null  float64\n",
      " 20  model_name            85391 non-null  object \n",
      "dtypes: float64(5), int64(2), object(14)\n",
      "memory usage: 14.3+ MB\n"
     ]
    }
   ],
   "source": [
    "# есть разница в названиях, приведем к единому виду:\n",
    "train.rename(columns = {'Комплектация': 'complectation_dict'}, inplace=True)\n",
    "train.rename(columns = {'model': 'model_name'}, inplace=True)\n",
    "# подчистим train от лишнего\n",
    "train.drop(['name','Состояние','Таможня', 'start_date','hidden'], inplace=True, axis=1)\n",
    "train = train.drop_duplicates()\n",
    "train = train.dropna(subset=['price'])\n",
    "train.info()"
   ]
  },
  {
   "cell_type": "code",
   "execution_count": 16,
   "metadata": {
    "execution": {
     "iopub.execute_input": "2021-08-31T15:30:12.335101Z",
     "iopub.status.busy": "2021-08-31T15:30:12.334423Z",
     "iopub.status.idle": "2021-08-31T15:30:12.427173Z",
     "shell.execute_reply": "2021-08-31T15:30:12.426476Z",
     "shell.execute_reply.started": "2021-08-31T14:09:10.577677Z"
    },
    "papermill": {
     "duration": 0.170004,
     "end_time": "2021-08-31T15:30:12.427292",
     "exception": false,
     "start_time": "2021-08-31T15:30:12.257288",
     "status": "completed"
    },
    "tags": []
   },
   "outputs": [
    {
     "name": "stdout",
     "output_type": "stream",
     "text": [
      "<class 'pandas.core.frame.DataFrame'>\n",
      "RangeIndex: 34686 entries, 0 to 34685\n",
      "Data columns (total 21 columns):\n",
      " #   Column                Non-Null Count  Dtype  \n",
      "---  ------                --------------  -----  \n",
      " 0   bodyType              34686 non-null  object \n",
      " 1   brand                 34686 non-null  object \n",
      " 2   color                 34686 non-null  object \n",
      " 3   complectation_dict    6418 non-null   object \n",
      " 4   description           34686 non-null  object \n",
      " 5   engineDisplacement    34686 non-null  object \n",
      " 6   enginePower           34686 non-null  object \n",
      " 7   fuelType              34686 non-null  object \n",
      " 8   mileage               34686 non-null  int64  \n",
      " 9   modelDate             34686 non-null  int64  \n",
      " 10  model_name            34686 non-null  object \n",
      " 11  numberOfDoors         34686 non-null  int64  \n",
      " 12  productionDate        34686 non-null  int64  \n",
      " 13  vehicleConfiguration  34686 non-null  object \n",
      " 14  vehicleTransmission   34686 non-null  object \n",
      " 15  Владельцы             34686 non-null  object \n",
      " 16  Владение              11995 non-null  object \n",
      " 17  ПТС                   34685 non-null  object \n",
      " 18  Привод                34686 non-null  object \n",
      " 19  Руль                  34686 non-null  object \n",
      " 20  price                 0 non-null      float64\n",
      "dtypes: float64(1), int64(4), object(16)\n",
      "memory usage: 5.6+ MB\n"
     ]
    }
   ],
   "source": [
    "# аналогично для test удалим все лишнее\n",
    "test.drop(['car_url','equipment_dict','image','name','model_info','parsing_unixtime','priceCurrency','sell_id',\n",
    "           'super_gen','vendor','Состояние','Таможня'], inplace=True, axis=1)\n",
    "test['price'] = np.nan # добавим столбец цены\n",
    "test.info()"
   ]
  },
  {
   "cell_type": "code",
   "execution_count": 17,
   "metadata": {
    "execution": {
     "iopub.execute_input": "2021-08-31T15:30:12.572758Z",
     "iopub.status.busy": "2021-08-31T15:30:12.572084Z",
     "iopub.status.idle": "2021-08-31T15:30:12.576031Z",
     "shell.execute_reply": "2021-08-31T15:30:12.576482Z",
     "shell.execute_reply.started": "2021-08-31T14:09:14.425765Z"
    },
    "papermill": {
     "duration": 0.079802,
     "end_time": "2021-08-31T15:30:12.576657",
     "exception": false,
     "start_time": "2021-08-31T15:30:12.496855",
     "status": "completed"
    },
    "tags": []
   },
   "outputs": [
    {
     "name": "stdout",
     "output_type": "stream",
     "text": [
      "Нет в train -  set()\n",
      "Нет в test -  set()\n"
     ]
    }
   ],
   "source": [
    "print('Нет в train - ', set(test.columns) - set(train.columns))\n",
    "print('Нет в test - ', set(train.columns) - set(test.columns))"
   ]
  },
  {
   "cell_type": "code",
   "execution_count": 18,
   "metadata": {
    "execution": {
     "iopub.execute_input": "2021-08-31T15:30:12.722381Z",
     "iopub.status.busy": "2021-08-31T15:30:12.720942Z",
     "iopub.status.idle": "2021-08-31T15:30:12.822074Z",
     "shell.execute_reply": "2021-08-31T15:30:12.821453Z",
     "shell.execute_reply.started": "2021-08-31T14:09:17.225009Z"
    },
    "papermill": {
     "duration": 0.176979,
     "end_time": "2021-08-31T15:30:12.822191",
     "exception": false,
     "start_time": "2021-08-31T15:30:12.645212",
     "status": "completed"
    },
    "tags": []
   },
   "outputs": [
    {
     "data": {
      "text/plain": [
       "(120077, 22)"
      ]
     },
     "execution_count": 18,
     "metadata": {},
     "output_type": "execute_result"
    }
   ],
   "source": [
    "# можно объединить датасеты, сперва отметив где какой\n",
    "train['sample'] = 1  \n",
    "test['sample'] = 0\n",
    "df = pd.concat([test, train]).reset_index(drop=True)\n",
    "df.shape"
   ]
  },
  {
   "cell_type": "code",
   "execution_count": 19,
   "metadata": {
    "execution": {
     "iopub.execute_input": "2021-08-31T15:30:12.965985Z",
     "iopub.status.busy": "2021-08-31T15:30:12.965290Z",
     "iopub.status.idle": "2021-08-31T15:30:12.968684Z",
     "shell.execute_reply": "2021-08-31T15:30:12.968166Z"
    },
    "papermill": {
     "duration": 0.077079,
     "end_time": "2021-08-31T15:30:12.968809",
     "exception": false,
     "start_time": "2021-08-31T15:30:12.891730",
     "status": "completed"
    },
    "tags": []
   },
   "outputs": [],
   "source": [
    "#pandas_profiling.ProfileReport(df)"
   ]
  },
  {
   "cell_type": "code",
   "execution_count": 20,
   "metadata": {
    "execution": {
     "iopub.execute_input": "2021-08-31T15:30:13.138497Z",
     "iopub.status.busy": "2021-08-31T15:30:13.122677Z",
     "iopub.status.idle": "2021-08-31T15:30:18.773882Z",
     "shell.execute_reply": "2021-08-31T15:30:18.774674Z",
     "shell.execute_reply.started": "2021-08-31T14:09:23.796215Z"
    },
    "papermill": {
     "duration": 5.736875,
     "end_time": "2021-08-31T15:30:18.774873",
     "exception": false,
     "start_time": "2021-08-31T15:30:13.037998",
     "status": "completed"
    },
    "tags": []
   },
   "outputs": [
    {
     "data": {
      "text/plain": [
       "0"
      ]
     },
     "execution_count": 20,
     "metadata": {},
     "output_type": "execute_result"
    },
    {
     "data": {
      "image/png": "[encoded data removed]",
      "text/plain": [
       "<Figure size 576x396 with 1 Axes>"
      ]
     },
     "metadata": {},
     "output_type": "display_data"
    }
   ],
   "source": [
    "# рассмотрим признаки поближе\n",
    "import re\n",
    "num_cols = []\n",
    "bin_cols = []\n",
    "cat_cols = []\n",
    "def to_lower(item):\n",
    "    if pd.isnull(item):\n",
    "        return item\n",
    "    else:\n",
    "        return item.lower()\n",
    "\n",
    "# bodyType - слишком много значений, отличающихся прописанием, попробуем сокраить число их число\n",
    "df['bodyType'] = df['bodyType'].apply(to_lower)\n",
    "df['bodyType'] = df['bodyType'].astype(str).apply(lambda x: None if x.strip()=='' else x)\n",
    "rename_item = {'седан long':'седан',\n",
    "               'пикап двойная кабина':'пикап',\n",
    "               'хэтчбек 3 дв. gtc':'хэтчбек 3 дв.',\n",
    "               'хэтчбек 5 дв. sportback':'хэтчбек 5 дв.',\n",
    "               'хэтчбек 5 дв. stepway':'хэтчбек 5 дв.',\n",
    "               'пикап двойная кабина double cab':'пикап',\n",
    "               'внедорожник 5 дв. prime':'внедорожник 5 дв.',\n",
    "               'минивэн grand':'минивэн',\n",
    "               'внедорожник 5 дв. cooper s':'внедорожник 5 дв.',\n",
    "               'пикап двойная кабина crew cab':'пикап',\n",
    "               'внедорожник 5 дв. cooper s':'внедорожник 5 дв.',\n",
    "               'внедорожник 5 дв. long':'внедорожник 5 дв.',\n",
    "               'минивэн l2':'минивэн',\n",
    "               'хэтчбек 3 дв. cooper s':'хэтчбек 3 дв.'\n",
    "              }\n",
    "df = df.replace({'bodyType': rename_item})\n",
    "def match_type(bodyType, search_type):\n",
    "    if(re.match(search_type, bodyType)):\n",
    "        return search_type\n",
    "    else:\n",
    "        return bodyType\n",
    "\n",
    "df['bodyType'] = df['bodyType'].astype(str).apply(match_type, args=('минивэн',))\n",
    "df['bodyType'] = df['bodyType'].astype(str).apply(match_type, args=('универсал 5 дв.',))\n",
    "df['bodyType'] = df['bodyType'].astype(str).apply(match_type, args=('хэтчбек 5 дв.',))\n",
    "df['bodyType'] = df['bodyType'].astype(str).apply(match_type, args=('седан',))\n",
    "df['bodyType'] = df['bodyType'].astype(str).apply(match_type, args=('пикап',))\n",
    "df['bodyType'] = df['bodyType'].astype(str).apply(match_type, args=('купе',))\n",
    "df['bodyType'] = df['bodyType'].astype(str).apply(match_type, args=('купе',))\n",
    "df['bodyType'] = df['bodyType'].astype(str).apply(match_type, args=('купе',))\n",
    "df['bodyType'] = df['bodyType'].astype(str).apply(match_type, args=('лифтбек',))\n",
    "df['bodyType'] = df['bodyType'].astype(str).apply(match_type, args=('хэтчбек 3 дв.',))\n",
    "df['bodyType'] = df['bodyType'].astype(str).apply(match_type, args=('компактвэн',))\n",
    "df['bodyType'] = df['bodyType'].astype(str).apply(match_type, args=('внедорожник 3 дв.',))\n",
    "df['bodyType'] = df['bodyType'].astype(str).apply(match_type, args=('внедорожник 5 дв.',))\n",
    "df['bodyType'] = df['bodyType'].astype(str).apply(match_type, args=('фургон',))\n",
    "df['bodyType'] = df['bodyType'].astype(str).apply(match_type, args=('тарга',))\n",
    "df['bodyType'] = df['bodyType'].astype(str).apply(match_type, args=('кабриолет',))\n",
    "df['bodyType'] = df['bodyType'].astype(str).apply(match_type, args=('родстер',))\n",
    "df['bodyType'] = df['bodyType'].astype(str).apply(match_type, args=('микровэн',))\n",
    "df['bodyType'] = df['bodyType'].astype(str).apply(lambda x: 'седан' if x == 'nan' else x)\n",
    "\n",
    "df.bodyType.value_counts().plot.barh()\n",
    "cat_cols.append('bodyType')\n",
    "df.bodyType.isna().sum()"
   ]
  },
  {
   "cell_type": "code",
   "execution_count": 21,
   "metadata": {
    "execution": {
     "iopub.execute_input": "2021-08-31T15:30:18.967973Z",
     "iopub.status.busy": "2021-08-31T15:30:18.967244Z",
     "iopub.status.idle": "2021-08-31T15:30:18.976026Z",
     "shell.execute_reply": "2021-08-31T15:30:18.976739Z",
     "shell.execute_reply.started": "2021-08-31T14:09:33.093278Z"
    },
    "papermill": {
     "duration": 0.122781,
     "end_time": "2021-08-31T15:30:18.976977",
     "exception": false,
     "start_time": "2021-08-31T15:30:18.854196",
     "status": "completed"
    },
    "tags": []
   },
   "outputs": [
    {
     "data": {
      "text/plain": [
       "MERCEDES      11791\n",
       "BMW           11429\n",
       "VOLKSWAGEN    11210\n",
       "NISSAN         9709\n",
       "TOYOTA         8476\n",
       "AUDI           7212\n",
       "MITSUBISHI     6042\n",
       "HYUNDAI        5543\n",
       "KIA            5486\n",
       "SKODA          5429\n",
       "FORD           4763\n",
       "CHEVROLET      3588\n",
       "VOLVO          3455\n",
       "OPEL           3092\n",
       "RENAULT        2682\n",
       "HONDA          2313\n",
       "MAZDA          2278\n",
       "INFINITI       1886\n",
       "LEXUS          1860\n",
       "PEUGEOT        1603\n",
       "LAND_ROVER     1565\n",
       "CITROEN        1120\n",
       "DAEWOO         1028\n",
       "SUBARU          927\n",
       "SUZUKI          842\n",
       "SSANG_YONG      707\n",
       "PORSCHE         699\n",
       "CHERY           559\n",
       "JEEP            456\n",
       "GREAT_WALL      416\n",
       "DODGE           412\n",
       "CADILLAC        317\n",
       "CHRYSLER        316\n",
       "MINI            303\n",
       "JAGUAR          294\n",
       "GEELY           269\n",
       "Name: brand, dtype: int64"
      ]
     },
     "execution_count": 21,
     "metadata": {},
     "output_type": "execute_result"
    }
   ],
   "source": [
    "cat_cols.append('brand')\n",
    "df.brand.value_counts()"
   ]
  },
  {
   "cell_type": "code",
   "execution_count": 22,
   "metadata": {
    "execution": {
     "iopub.execute_input": "2021-08-31T15:30:19.131634Z",
     "iopub.status.busy": "2021-08-31T15:30:19.130927Z",
     "iopub.status.idle": "2021-08-31T15:30:19.171450Z",
     "shell.execute_reply": "2021-08-31T15:30:19.170622Z",
     "shell.execute_reply.started": "2021-08-31T14:09:36.446540Z"
    },
    "papermill": {
     "duration": 0.117858,
     "end_time": "2021-08-31T15:30:19.171657",
     "exception": false,
     "start_time": "2021-08-31T15:30:19.053799",
     "status": "completed"
    },
    "tags": []
   },
   "outputs": [
    {
     "data": {
      "text/plain": [
       "040001         23929\n",
       "FAFBFB         14842\n",
       "чёрный         11010\n",
       "CACECB         10997\n",
       "97948F         10332\n",
       "0000CC          8456\n",
       "белый           6133\n",
       "EE1D19          4427\n",
       "серебристый     4113\n",
       "серый           3984\n",
       "200204          3408\n",
       "синий           3289\n",
       "007F00          2522\n",
       "C49648          1813\n",
       "красный         1531\n",
       "коричневый      1501\n",
       "22A0F8          1358\n",
       "зелёный          952\n",
       "DEA522           765\n",
       "660099           738\n",
       "FFD600           692\n",
       "бежевый          639\n",
       "4A2197           596\n",
       "FF8649           491\n",
       "голубой          457\n",
       "золотистый       266\n",
       "пурпурный        254\n",
       "фиолетовый       219\n",
       "жёлтый           194\n",
       "оранжевый        131\n",
       "FFC0CB            25\n",
       "розовый           13\n",
       "Name: color, dtype: int64"
      ]
     },
     "execution_count": 22,
     "metadata": {},
     "output_type": "execute_result"
    }
   ],
   "source": [
    "df.color.value_counts()"
   ]
  },
  {
   "cell_type": "code",
   "execution_count": 23,
   "metadata": {
    "execution": {
     "iopub.execute_input": "2021-08-31T15:30:19.332513Z",
     "iopub.status.busy": "2021-08-31T15:30:19.331680Z",
     "iopub.status.idle": "2021-08-31T15:30:19.850780Z",
     "shell.execute_reply": "2021-08-31T15:30:19.850018Z",
     "shell.execute_reply.started": "2021-08-31T14:09:41.261869Z"
    },
    "papermill": {
     "duration": 0.604674,
     "end_time": "2021-08-31T15:30:19.850920",
     "exception": false,
     "start_time": "2021-08-31T15:30:19.246246",
     "status": "completed"
    },
    "tags": []
   },
   "outputs": [
    {
     "data": {
      "text/plain": [
       "<matplotlib.axes._subplots.AxesSubplot at 0x7f1f9a9d3510>"
      ]
     },
     "execution_count": 23,
     "metadata": {},
     "output_type": "execute_result"
    },
    {
     "data": {
      "image/png": "[encoded data removed]",
      "text/plain": [
       "<Figure size 576x396 with 1 Axes>"
      ]
     },
     "metadata": {},
     "output_type": "display_data"
    }
   ],
   "source": [
    "# надо привести цвета к единым значениям\n",
    "rename_color = {\n",
    "    '0000CC': 'синий',\n",
    "    '200204': 'коричневый',\n",
    "    'EE1D19': 'красный',\n",
    "    '007F00': 'зеленый',\n",
    "    '040001': 'чёрный',\n",
    "    'FAFBFB': 'белый',\n",
    "    'CACECB': 'серебристый',\n",
    "    '97948F': 'серый',\n",
    "    'FFD600': 'желтый',\n",
    "    'FF8649': 'оранжевый',\n",
    "    'FFC0CB': 'розовый',\n",
    "    'C49648': 'бежевый',\n",
    "    '22A0F8': 'голубой',\n",
    "    '660099': 'пурпурный',\n",
    "    'DEA522': 'золотой',\n",
    "    '4A2197': 'фиолетовый',\n",
    "    'FFD600': 'желтый',\n",
    "    'FF8649': 'оранжевый',\n",
    "    'FFC0CB': 'розовый'\n",
    "}\n",
    "df = df.replace({'color': rename_color})\n",
    "cat_cols.append('color')\n",
    "df.color.value_counts().plot.barh()"
   ]
  },
  {
   "cell_type": "code",
   "execution_count": 24,
   "metadata": {
    "execution": {
     "iopub.execute_input": "2021-08-31T15:30:20.023330Z",
     "iopub.status.busy": "2021-08-31T15:30:20.012544Z",
     "iopub.status.idle": "2021-08-31T15:30:20.164183Z",
     "shell.execute_reply": "2021-08-31T15:30:20.163477Z",
     "shell.execute_reply.started": "2021-08-31T14:09:45.140364Z"
    },
    "papermill": {
     "duration": 0.234962,
     "end_time": "2021-08-31T15:30:20.164302",
     "exception": false,
     "start_time": "2021-08-31T15:30:19.929340",
     "status": "completed"
    },
    "tags": []
   },
   "outputs": [],
   "source": [
    "# признак description: можно сделать признак есть/нет или его длинну. Из текста еще можно попробовать понять продает салон или физ. лицо, это если успею  \n",
    "df['description_length'] = df.description.apply(lambda x: len(str(x)))\n",
    "df = df.drop('description',axis=1)\n",
    "num_cols.append('description_length')"
   ]
  },
  {
   "cell_type": "code",
   "execution_count": 25,
   "metadata": {
    "execution": {
     "iopub.execute_input": "2021-08-31T15:30:20.392101Z",
     "iopub.status.busy": "2021-08-31T15:30:20.391037Z",
     "iopub.status.idle": "2021-08-31T15:30:20.400782Z",
     "shell.execute_reply": "2021-08-31T15:30:20.401317Z",
     "shell.execute_reply.started": "2021-08-31T14:09:52.797441Z"
    },
    "papermill": {
     "duration": 0.164969,
     "end_time": "2021-08-31T15:30:20.401479",
     "exception": false,
     "start_time": "2021-08-31T15:30:20.236510",
     "status": "completed"
    },
    "tags": []
   },
   "outputs": [
    {
     "data": {
      "text/plain": [
       "1.6          16517\n",
       "2.0          12115\n",
       "2.0 LTR       7391\n",
       "1.4           5414\n",
       "1.8           5051\n",
       "             ...  \n",
       "Brawny           1\n",
       "3.9d             1\n",
       "N46              1\n",
       "Донинвест        1\n",
       "3.5d             1\n",
       "Name: engineDisplacement, Length: 589, dtype: int64"
      ]
     },
     "execution_count": 25,
     "metadata": {},
     "output_type": "execute_result"
    }
   ],
   "source": [
    "df.engineDisplacement.value_counts()"
   ]
  },
  {
   "cell_type": "code",
   "execution_count": 26,
   "metadata": {
    "execution": {
     "iopub.execute_input": "2021-08-31T15:30:20.607120Z",
     "iopub.status.busy": "2021-08-31T15:30:20.591950Z",
     "iopub.status.idle": "2021-08-31T15:30:21.071603Z",
     "shell.execute_reply": "2021-08-31T15:30:21.072130Z",
     "shell.execute_reply.started": "2021-08-31T14:09:56.863121Z"
    },
    "papermill": {
     "duration": 0.597797,
     "end_time": "2021-08-31T15:30:21.072321",
     "exception": false,
     "start_time": "2021-08-31T15:30:20.474524",
     "status": "completed"
    },
    "tags": []
   },
   "outputs": [],
   "source": [
    "\n",
    "# преобразуем признаки engineDisplacement и enginePower \n",
    "df['engineDisplacement'] = df['engineDisplacement'].astype(str)\n",
    "df['engineDisplacement'] = df['engineDisplacement'].str.extract('(\\d.\\d)', expand = False).str.strip()\n",
    "df['engineDisplacement'] = df['engineDisplacement'].apply(lambda x: None if float(x) > 10 else x)\n",
    "\n",
    "df['enginePower'] = df['enginePower'].astype(str).apply(lambda x: x.split()[0])\n",
    "df['enginePower'] = df['enginePower'].astype(float)\n",
    "df['enginePower'].fillna(df['enginePower'].median(), inplace = True) # изменим одну строку где пустое поле enginePower\n"
   ]
  },
  {
   "cell_type": "code",
   "execution_count": 27,
   "metadata": {
    "execution": {
     "iopub.execute_input": "2021-08-31T15:30:21.271241Z",
     "iopub.status.busy": "2021-08-31T15:30:21.232663Z",
     "iopub.status.idle": "2021-08-31T15:30:21.546645Z",
     "shell.execute_reply": "2021-08-31T15:30:21.545820Z",
     "shell.execute_reply.started": "2021-08-31T14:10:00.166549Z"
    },
    "papermill": {
     "duration": 0.396442,
     "end_time": "2021-08-31T15:30:21.546800",
     "exception": false,
     "start_time": "2021-08-31T15:30:21.150358",
     "status": "completed"
    },
    "tags": []
   },
   "outputs": [
    {
     "name": "stdout",
     "output_type": "stream",
     "text": [
      "<class 'pandas.core.frame.DataFrame'>\n",
      "RangeIndex: 120077 entries, 0 to 120076\n",
      "Data columns (total 22 columns):\n",
      " #   Column                Non-Null Count   Dtype  \n",
      "---  ------                --------------   -----  \n",
      " 0   bodyType              120077 non-null  object \n",
      " 1   brand                 120077 non-null  object \n",
      " 2   color                 120077 non-null  object \n",
      " 3   complectation_dict    91809 non-null   object \n",
      " 4   engineDisplacement    99972 non-null   float64\n",
      " 5   enginePower           120077 non-null  float64\n",
      " 6   fuelType              120077 non-null  object \n",
      " 7   mileage               120077 non-null  int64  \n",
      " 8   modelDate             120076 non-null  float64\n",
      " 9   model_name            120077 non-null  object \n",
      " 10  numberOfDoors         120076 non-null  float64\n",
      " 11  productionDate        120077 non-null  int64  \n",
      " 12  vehicleConfiguration  120076 non-null  object \n",
      " 13  vehicleTransmission   120076 non-null  object \n",
      " 14  Владельцы             109542 non-null  object \n",
      " 15  Владение              40833 non-null   object \n",
      " 16  ПТС                   119728 non-null  object \n",
      " 17  Привод                120076 non-null  object \n",
      " 18  Руль                  120077 non-null  object \n",
      " 19  price                 85391 non-null   float64\n",
      " 20  sample                120077 non-null  int64  \n",
      " 21  description_length    120077 non-null  int64  \n",
      "dtypes: float64(5), int64(4), object(13)\n",
      "memory usage: 20.2+ MB\n"
     ]
    }
   ],
   "source": [
    "df['engineDisplacement'] = df['engineDisplacement'].astype(str)\n",
    "df['engineDisplacement'] = df['engineDisplacement'].apply(lambda x: float(x))\n",
    "df.info()"
   ]
  },
  {
   "cell_type": "code",
   "execution_count": 28,
   "metadata": {
    "execution": {
     "iopub.execute_input": "2021-08-31T15:30:21.707735Z",
     "iopub.status.busy": "2021-08-31T15:30:21.705719Z",
     "iopub.status.idle": "2021-08-31T15:30:27.864180Z",
     "shell.execute_reply": "2021-08-31T15:30:27.865146Z",
     "shell.execute_reply.started": "2021-08-31T14:10:04.464100Z"
    },
    "papermill": {
     "duration": 6.242251,
     "end_time": "2021-08-31T15:30:27.865368",
     "exception": false,
     "start_time": "2021-08-31T15:30:21.623117",
     "status": "completed"
    },
    "tags": []
   },
   "outputs": [
    {
     "name": "stdout",
     "output_type": "stream",
     "text": [
      "engineDisplacement пропусков:  20105\n"
     ]
    },
    {
     "data": {
      "text/plain": [
       "<seaborn.axisgrid.JointGrid at 0x7f1f9ae3b210>"
      ]
     },
     "execution_count": 28,
     "metadata": {},
     "output_type": "execute_result"
    },
    {
     "data": {
      "image/png": "[encoded data removed]",
      "text/plain": [
       "<Figure size 432x432 with 3 Axes>"
      ]
     },
     "metadata": {},
     "output_type": "display_data"
    }
   ],
   "source": [
    "print(\"engineDisplacement пропусков: \",df.engineDisplacement.isna().sum())\n",
    "import seaborn as sns\n",
    "sns.jointplot(x='enginePower', y='engineDisplacement', data=df, kind='reg')\n"
   ]
  },
  {
   "cell_type": "code",
   "execution_count": 29,
   "metadata": {
    "execution": {
     "iopub.execute_input": "2021-08-31T15:30:28.028150Z",
     "iopub.status.busy": "2021-08-31T15:30:28.027161Z",
     "iopub.status.idle": "2021-08-31T15:30:30.575959Z",
     "shell.execute_reply": "2021-08-31T15:30:30.575195Z",
     "shell.execute_reply.started": "2021-08-31T14:10:14.899419Z"
    },
    "papermill": {
     "duration": 2.634056,
     "end_time": "2021-08-31T15:30:30.576100",
     "exception": false,
     "start_time": "2021-08-31T15:30:27.942044",
     "status": "completed"
    },
    "tags": []
   },
   "outputs": [],
   "source": [
    "# имеем хорошую корреляцию между эти двумя признаками, что логично, \n",
    "# можно использовать мощность для заполнения пропущенных значений объема двигателя\n",
    "def fill_engineDisplacement(displacement, power):\n",
    "    if(displacement < 1 and power > 400):\n",
    "        displacement = 5.5\n",
    "    elif(displacement < 1 and power < 100):\n",
    "        displacement = 1.0\n",
    "    else:\n",
    "        pass\n",
    "    return displacement\n",
    "df['engineDisplacement'].fillna(df.groupby(['enginePower'])['engineDisplacement'].transform('median'), inplace=True)\n",
    "df['engineDisplacement'].fillna(0.0, inplace = True)\n",
    "df['engineDisplacement'] = df.apply(lambda x: fill_engineDisplacement(x['engineDisplacement'], x['enginePower']), axis = 1)\n"
   ]
  },
  {
   "cell_type": "code",
   "execution_count": 30,
   "metadata": {
    "execution": {
     "iopub.execute_input": "2021-08-31T15:30:30.737946Z",
     "iopub.status.busy": "2021-08-31T15:30:30.737133Z",
     "iopub.status.idle": "2021-08-31T15:30:30.740295Z",
     "shell.execute_reply": "2021-08-31T15:30:30.739783Z",
     "shell.execute_reply.started": "2021-08-31T14:10:22.351954Z"
    },
    "papermill": {
     "duration": 0.086579,
     "end_time": "2021-08-31T15:30:30.740421",
     "exception": false,
     "start_time": "2021-08-31T15:30:30.653842",
     "status": "completed"
    },
    "tags": []
   },
   "outputs": [],
   "source": [
    "cat_cols.append('engineDisplacement')\n",
    "num_cols.append('enginePower')"
   ]
  },
  {
   "cell_type": "code",
   "execution_count": 31,
   "metadata": {
    "execution": {
     "iopub.execute_input": "2021-08-31T15:30:30.901395Z",
     "iopub.status.busy": "2021-08-31T15:30:30.899641Z",
     "iopub.status.idle": "2021-08-31T15:30:30.981593Z",
     "shell.execute_reply": "2021-08-31T15:30:30.980941Z",
     "shell.execute_reply.started": "2021-08-31T14:10:25.838230Z"
    },
    "papermill": {
     "duration": 0.165683,
     "end_time": "2021-08-31T15:30:30.981758",
     "exception": false,
     "start_time": "2021-08-31T15:30:30.816075",
     "status": "completed"
    },
    "tags": []
   },
   "outputs": [],
   "source": [
    "df = df.replace({'fuelType': {'универсал' : 'бензин'}}) # заменим единственный вброс 'универсал'\n",
    "df.fuelType.value_counts()\n",
    "df.fuelType.isna().sum() # пустых значений нет\n",
    "cat_cols.append('fuelType')"
   ]
  },
  {
   "cell_type": "code",
   "execution_count": 32,
   "metadata": {
    "execution": {
     "iopub.execute_input": "2021-08-31T15:30:31.146260Z",
     "iopub.status.busy": "2021-08-31T15:30:31.145524Z",
     "iopub.status.idle": "2021-08-31T15:30:31.238833Z",
     "shell.execute_reply": "2021-08-31T15:30:31.239374Z",
     "shell.execute_reply.started": "2021-08-31T14:10:29.184715Z"
    },
    "papermill": {
     "duration": 0.180576,
     "end_time": "2021-08-31T15:30:31.239600",
     "exception": false,
     "start_time": "2021-08-31T15:30:31.059024",
     "status": "completed"
    },
    "tags": []
   },
   "outputs": [
    {
     "data": {
      "text/plain": [
       "3.0    51819\n",
       "2.0    30033\n",
       "1.0    27690\n",
       "Name: Владельцы, dtype: int64"
      ]
     },
     "execution_count": 32,
     "metadata": {},
     "output_type": "execute_result"
    }
   ],
   "source": [
    "# приведем значения к одному виду\n",
    "df['Владельцы'] = df['Владельцы'].apply(lambda x: x if type(x) == float else int(x[0]))\n",
    "df['Владельцы'].value_counts()"
   ]
  },
  {
   "cell_type": "code",
   "execution_count": 33,
   "metadata": {
    "execution": {
     "iopub.execute_input": "2021-08-31T15:30:31.397919Z",
     "iopub.status.busy": "2021-08-31T15:30:31.397179Z",
     "iopub.status.idle": "2021-08-31T15:30:31.400909Z",
     "shell.execute_reply": "2021-08-31T15:30:31.401416Z",
     "shell.execute_reply.started": "2021-08-31T14:10:32.168560Z"
    },
    "papermill": {
     "duration": 0.084414,
     "end_time": "2021-08-31T15:30:31.401616",
     "exception": false,
     "start_time": "2021-08-31T15:30:31.317202",
     "status": "completed"
    },
    "tags": []
   },
   "outputs": [],
   "source": [
    "cat_cols.append('Владельцы')"
   ]
  },
  {
   "cell_type": "code",
   "execution_count": 34,
   "metadata": {
    "execution": {
     "iopub.execute_input": "2021-08-31T15:30:31.563983Z",
     "iopub.status.busy": "2021-08-31T15:30:31.563223Z",
     "iopub.status.idle": "2021-08-31T15:30:31.613282Z",
     "shell.execute_reply": "2021-08-31T15:30:31.612702Z",
     "shell.execute_reply.started": "2021-08-31T14:10:34.900992Z"
    },
    "papermill": {
     "duration": 0.132983,
     "end_time": "2021-08-31T15:30:31.613430",
     "exception": false,
     "start_time": "2021-08-31T15:30:31.480447",
     "status": "completed"
    },
    "tags": []
   },
   "outputs": [
    {
     "data": {
      "text/plain": [
       "mileage\n",
       "(0, 50000]          1.0\n",
       "(50000, 100000]     2.0\n",
       "(100000, 150000]    2.0\n",
       "(150000, 200000]    3.0\n",
       "(200000, 250000]    3.0\n",
       "(250000, 300000]    3.0\n",
       "(300000, 350000]    3.0\n",
       "(350000, 400000]    3.0\n",
       "(400000, 450000]    3.0\n",
       "(450000, 500000]    3.0\n",
       "(500000, 550000]    3.0\n",
       "(550000, 600000]    3.0\n",
       "(600000, 650000]    3.0\n",
       "(650000, 700000]    3.0\n",
       "(700000, 750000]    3.0\n",
       "(750000, 800000]    3.0\n",
       "(800000, 850000]    3.0\n",
       "(850000, 900000]    3.0\n",
       "(900000, 950000]    2.5\n",
       "Name: Владельцы, dtype: float64"
      ]
     },
     "execution_count": 34,
     "metadata": {},
     "output_type": "execute_result"
    }
   ],
   "source": [
    "df['mileage'].value_counts()\n",
    "# значений очень много, надо разбить на группы и сделать более наглядный признак\n",
    "df['mileage'].describe()\n",
    "step = np.arange(0, 1000000, 50000)\n",
    "df.groupby(pd.cut(df.mileage, step)).Владельцы.median()"
   ]
  },
  {
   "cell_type": "code",
   "execution_count": 35,
   "metadata": {
    "execution": {
     "iopub.execute_input": "2021-08-31T15:30:31.783457Z",
     "iopub.status.busy": "2021-08-31T15:30:31.779518Z",
     "iopub.status.idle": "2021-08-31T15:30:31.939627Z",
     "shell.execute_reply": "2021-08-31T15:30:31.939032Z",
     "shell.execute_reply.started": "2021-08-31T14:10:40.036272Z"
    },
    "papermill": {
     "duration": 0.249126,
     "end_time": "2021-08-31T15:30:31.939758",
     "exception": false,
     "start_time": "2021-08-31T15:30:31.690632",
     "status": "completed"
    },
    "tags": []
   },
   "outputs": [],
   "source": [
    "# получается с одной стороны разбить пробег на три части, плюс наглядно видна тенденция по числу владельцев в ПТС\n",
    "mileage_points = [0, 75000, 175000, 1000000]\n",
    "df[\"mileage_points\"] = df[\"mileage\"].apply(lambda x: 3 if x>=175000 else(2 if x>=75000 else(1 if x>=5000 else 0)))\n",
    "owners = [1, 2, 3]\n",
    "# заполним пропуски у признака \"Владельцы\"\n",
    "df['temp_'] = pd.cut(df['mileage'], bins = mileage_points, labels = owners, include_lowest = True)\n",
    "df['Владельцы'] = df['Владельцы'].fillna(df['temp_']) \n",
    "df = df.drop('temp_', axis = 1)\n",
    "df['Владельцы'] = df['Владельцы'].apply(lambda x: int(x))\n",
    "num_cols.append('mileage')\n",
    "cat_cols.append('mileage_points')\n",
    "cat_cols.append('Владельцы')\n"
   ]
  },
  {
   "cell_type": "code",
   "execution_count": 36,
   "metadata": {
    "execution": {
     "iopub.execute_input": "2021-08-31T15:30:32.101421Z",
     "iopub.status.busy": "2021-08-31T15:30:32.100375Z",
     "iopub.status.idle": "2021-08-31T15:30:32.116871Z",
     "shell.execute_reply": "2021-08-31T15:30:32.116153Z",
     "shell.execute_reply.started": "2021-08-31T14:10:44.853242Z"
    },
    "papermill": {
     "duration": 0.101355,
     "end_time": "2021-08-31T15:30:32.116996",
     "exception": false,
     "start_time": "2021-08-31T15:30:32.015641",
     "status": "completed"
    },
    "tags": []
   },
   "outputs": [],
   "source": [
    "# следующие признаки это даты выпуска и дата выхода модели, сними легче работать в виде разницы от текущего года\n",
    "df.productionDate.value_counts()\n",
    "df.modelDate.value_counts()\n",
    "df['prod_age'] = 2021 - df.productionDate\n",
    "num_cols.append('productionDate')\n",
    "num_cols.append('prod_age')\n",
    "df['modelDate'] = df['modelDate'].fillna(df['modelDate'].median())\n",
    "df['model_age'] = 2021 - df.modelDate\n",
    "num_cols.append('modelDate')\n",
    "num_cols.append('model_age')\n"
   ]
  },
  {
   "cell_type": "code",
   "execution_count": 37,
   "metadata": {
    "execution": {
     "iopub.execute_input": "2021-08-31T15:30:32.276325Z",
     "iopub.status.busy": "2021-08-31T15:30:32.275496Z",
     "iopub.status.idle": "2021-08-31T15:30:32.279977Z",
     "shell.execute_reply": "2021-08-31T15:30:32.280516Z",
     "shell.execute_reply.started": "2021-08-31T14:10:47.836699Z"
    },
    "papermill": {
     "duration": 0.087446,
     "end_time": "2021-08-31T15:30:32.280695",
     "exception": false,
     "start_time": "2021-08-31T15:30:32.193249",
     "status": "completed"
    },
    "tags": []
   },
   "outputs": [
    {
     "data": {
      "text/plain": [
       "0"
      ]
     },
     "execution_count": 37,
     "metadata": {},
     "output_type": "execute_result"
    }
   ],
   "source": [
    "df.modelDate.isna().sum()"
   ]
  },
  {
   "cell_type": "code",
   "execution_count": 38,
   "metadata": {
    "execution": {
     "iopub.execute_input": "2021-08-31T15:30:32.439984Z",
     "iopub.status.busy": "2021-08-31T15:30:32.439234Z",
     "iopub.status.idle": "2021-08-31T15:30:32.494004Z",
     "shell.execute_reply": "2021-08-31T15:30:32.494570Z",
     "shell.execute_reply.started": "2021-08-31T14:10:50.572239Z"
    },
    "papermill": {
     "duration": 0.135735,
     "end_time": "2021-08-31T15:30:32.494719",
     "exception": false,
     "start_time": "2021-08-31T15:30:32.358984",
     "status": "completed"
    },
    "tags": []
   },
   "outputs": [
    {
     "data": {
      "text/plain": [
       "AUTOMATIC           47243\n",
       "MECHANICAL          24898\n",
       "автоматическая      19596\n",
       "ROBOT                7348\n",
       "механическая         7209\n",
       "VARIATOR             5901\n",
       "вариатор             3999\n",
       "роботизированная     3882\n",
       "Name: vehicleTransmission, dtype: int64"
      ]
     },
     "execution_count": 38,
     "metadata": {},
     "output_type": "execute_result"
    }
   ],
   "source": [
    "# тут все ок, пустых нет\n",
    "df['model_name'].isna().sum()\n",
    "cat_cols.append('model_name')\n",
    "df.numberOfDoors.value_counts()\n",
    "cat_cols.append('numberOfDoors')\n",
    "df.vehicleTransmission.value_counts()"
   ]
  },
  {
   "cell_type": "code",
   "execution_count": 39,
   "metadata": {
    "execution": {
     "iopub.execute_input": "2021-08-31T15:30:32.652432Z",
     "iopub.status.busy": "2021-08-31T15:30:32.651734Z",
     "iopub.status.idle": "2021-08-31T15:30:32.932827Z",
     "shell.execute_reply": "2021-08-31T15:30:32.933476Z",
     "shell.execute_reply.started": "2021-08-31T14:10:54.109702Z"
    },
    "papermill": {
     "duration": 0.362363,
     "end_time": "2021-08-31T15:30:32.933704",
     "exception": false,
     "start_time": "2021-08-31T15:30:32.571341",
     "status": "completed"
    },
    "tags": []
   },
   "outputs": [
    {
     "data": {
      "text/plain": [
       "<matplotlib.axes._subplots.AxesSubplot at 0x7f1f989879d0>"
      ]
     },
     "execution_count": 39,
     "metadata": {},
     "output_type": "execute_result"
    },
    {
     "data": {
      "image/png": "[encoded data removed]",
      "text/plain": [
       "<Figure size 576x396 with 1 Axes>"
      ]
     },
     "metadata": {},
     "output_type": "display_data"
    }
   ],
   "source": [
    "# приведем признак vehicleTransmission к единым значениям\n",
    "change_transmission = {\n",
    "               'автоматическая': 'AUTOMATIC',\n",
    "               'механическая': 'MECHANICAL',\n",
    "               'вариатор': 'VARIATOR',\n",
    "               'роботизированная': 'ROBOT'\n",
    "                }\n",
    "df = df.replace({'vehicleTransmission': change_transmission})\n",
    "df.vehicleTransmission = df.vehicleTransmission.fillna('AUTOMATIC')\n",
    "cat_cols.append('vehicleTransmission')\n",
    "sns.countplot(x = 'vehicleTransmission', data = df)"
   ]
  },
  {
   "cell_type": "code",
   "execution_count": 40,
   "metadata": {
    "execution": {
     "iopub.execute_input": "2021-08-31T15:30:33.102030Z",
     "iopub.status.busy": "2021-08-31T15:30:33.101242Z",
     "iopub.status.idle": "2021-08-31T15:30:33.319533Z",
     "shell.execute_reply": "2021-08-31T15:30:33.320067Z",
     "shell.execute_reply.started": "2021-08-31T14:10:57.740067Z"
    },
    "papermill": {
     "duration": 0.305599,
     "end_time": "2021-08-31T15:30:33.320263",
     "exception": false,
     "start_time": "2021-08-31T15:30:33.014664",
     "status": "completed"
    },
    "tags": []
   },
   "outputs": [
    {
     "data": {
      "text/plain": [
       "<matplotlib.axes._subplots.AxesSubplot at 0x7f1f9b12f290>"
      ]
     },
     "execution_count": 40,
     "metadata": {},
     "output_type": "execute_result"
    },
    {
     "data": {
      "image/png": "[encoded data removed]",
      "text/plain": [
       "<Figure size 576x396 with 1 Axes>"
      ]
     },
     "metadata": {},
     "output_type": "display_data"
    }
   ],
   "source": [
    "# аналогично с признаком ПТС\n",
    "change_passport = {\n",
    "               'Оригинал': 'ORIGINAL',\n",
    "               'Дубликат': 'DUPLICATE'\n",
    "                }\n",
    "df = df.replace({'ПТС': change_passport})\n",
    "df.ПТС = df.ПТС.fillna('DUPLICATE') # в случае если оригинал, то его скорее укажут, чем пропустят\n",
    "cat_cols.append('ПТС')\n",
    "sns.countplot(x = 'ПТС', data = df)"
   ]
  },
  {
   "cell_type": "code",
   "execution_count": 41,
   "metadata": {
    "execution": {
     "iopub.execute_input": "2021-08-31T15:30:33.488230Z",
     "iopub.status.busy": "2021-08-31T15:30:33.487406Z",
     "iopub.status.idle": "2021-08-31T15:30:33.711117Z",
     "shell.execute_reply": "2021-08-31T15:30:33.711641Z",
     "shell.execute_reply.started": "2021-08-31T14:11:01.540603Z"
    },
    "papermill": {
     "duration": 0.309811,
     "end_time": "2021-08-31T15:30:33.711852",
     "exception": false,
     "start_time": "2021-08-31T15:30:33.402041",
     "status": "completed"
    },
    "tags": []
   },
   "outputs": [
    {
     "data": {
      "image/png": "[encoded data removed]",
      "text/plain": [
       "<Figure size 576x396 with 1 Axes>"
      ]
     },
     "metadata": {},
     "output_type": "display_data"
    }
   ],
   "source": [
    "df.Привод.value_counts()\n",
    "df.Привод = df.Привод.fillna('передний')\n",
    "sns.countplot(x = 'Привод', data = df)\n",
    "cat_cols.append('Привод')"
   ]
  },
  {
   "cell_type": "code",
   "execution_count": 42,
   "metadata": {
    "execution": {
     "iopub.execute_input": "2021-08-31T15:30:33.880585Z",
     "iopub.status.busy": "2021-08-31T15:30:33.879772Z",
     "iopub.status.idle": "2021-08-31T15:30:34.108941Z",
     "shell.execute_reply": "2021-08-31T15:30:34.108262Z",
     "shell.execute_reply.started": "2021-08-31T14:11:05.005758Z"
    },
    "papermill": {
     "duration": 0.315921,
     "end_time": "2021-08-31T15:30:34.109079",
     "exception": false,
     "start_time": "2021-08-31T15:30:33.793158",
     "status": "completed"
    },
    "tags": []
   },
   "outputs": [
    {
     "data": {
      "text/plain": [
       "<matplotlib.axes._subplots.AxesSubplot at 0x7f1f94410ad0>"
      ]
     },
     "execution_count": 42,
     "metadata": {},
     "output_type": "execute_result"
    },
    {
     "data": {
      "image/png": "[encoded data removed]",
      "text/plain": [
       "<Figure size 576x396 with 1 Axes>"
      ]
     },
     "metadata": {},
     "output_type": "display_data"
    }
   ],
   "source": [
    "change_wheel = {\n",
    "               'Левый': 'LEFT',\n",
    "               'Правый': 'RIGHT'\n",
    "                }\n",
    "df = df.replace({'Руль': change_wheel})\n",
    "cat_cols.append('Руль')\n",
    "sns.countplot(x = 'Руль', data = df)"
   ]
  },
  {
   "cell_type": "code",
   "execution_count": 43,
   "metadata": {
    "execution": {
     "iopub.execute_input": "2021-08-31T15:30:34.280333Z",
     "iopub.status.busy": "2021-08-31T15:30:34.279535Z",
     "iopub.status.idle": "2021-08-31T15:30:34.451186Z",
     "shell.execute_reply": "2021-08-31T15:30:34.451736Z",
     "shell.execute_reply.started": "2021-08-31T14:11:10.213574Z"
    },
    "papermill": {
     "duration": 0.260458,
     "end_time": "2021-08-31T15:30:34.451917",
     "exception": false,
     "start_time": "2021-08-31T15:30:34.191459",
     "status": "completed"
    },
    "tags": []
   },
   "outputs": [
    {
     "data": {
      "image/png": "[encoded data removed]",
      "text/plain": [
       "<Figure size 576x396 with 1 Axes>"
      ]
     },
     "metadata": {},
     "output_type": "display_data"
    }
   ],
   "source": [
    "df.numberOfDoors.isna().sum() # одно пустое значение, заменим его на 5, как наиболее частое\n",
    "df.numberOfDoors = df.numberOfDoors.fillna(5)\n",
    "sns.countplot(x = 'numberOfDoors', data = df)\n",
    "cat_cols.append('numberOfDoors')"
   ]
  },
  {
   "cell_type": "code",
   "execution_count": 44,
   "metadata": {
    "execution": {
     "iopub.execute_input": "2021-08-31T15:30:34.625081Z",
     "iopub.status.busy": "2021-08-31T15:30:34.624287Z",
     "iopub.status.idle": "2021-08-31T15:30:34.634320Z",
     "shell.execute_reply": "2021-08-31T15:30:34.633608Z",
     "shell.execute_reply.started": "2021-08-31T14:11:15.141366Z"
    },
    "papermill": {
     "duration": 0.097429,
     "end_time": "2021-08-31T15:30:34.634461",
     "exception": false,
     "start_time": "2021-08-31T15:30:34.537032",
     "status": "completed"
    },
    "tags": []
   },
   "outputs": [
    {
     "data": {
      "text/plain": [
       "0"
      ]
     },
     "execution_count": 44,
     "metadata": {},
     "output_type": "execute_result"
    }
   ],
   "source": [
    "df.numberOfDoors.isna().sum()"
   ]
  },
  {
   "cell_type": "code",
   "execution_count": 45,
   "metadata": {
    "execution": {
     "iopub.execute_input": "2021-08-31T15:30:34.826999Z",
     "iopub.status.busy": "2021-08-31T15:30:34.826138Z",
     "iopub.status.idle": "2021-08-31T15:30:34.831649Z",
     "shell.execute_reply": "2021-08-31T15:30:34.830972Z",
     "shell.execute_reply.started": "2021-08-31T14:11:24.299634Z"
    },
    "papermill": {
     "duration": 0.114154,
     "end_time": "2021-08-31T15:30:34.831774",
     "exception": false,
     "start_time": "2021-08-31T15:30:34.717620",
     "status": "completed"
    },
    "tags": []
   },
   "outputs": [
    {
     "data": {
      "text/plain": [
       "{'year': 2018, 'month': 10}    492\n",
       "{'year': 2019, 'month': 8}     491\n",
       "{'year': 2018, 'month': 8}     486\n",
       "{'year': 2018, 'month': 9}     470\n",
       "{'year': 2018, 'month': 11}    470\n",
       "                              ... \n",
       "20 лет и 5 месяцев               1\n",
       "{'year': 1977, 'month': 12}      1\n",
       "19 лет и 7 месяцев               1\n",
       "42 года и 10 месяцев             1\n",
       "16 лет и 5 месяцев               1\n",
       "Name: Владение, Length: 565, dtype: int64"
      ]
     },
     "execution_count": 45,
     "metadata": {},
     "output_type": "execute_result"
    }
   ],
   "source": [
    "df.Владение.value_counts()"
   ]
  },
  {
   "cell_type": "code",
   "execution_count": 46,
   "metadata": {
    "execution": {
     "iopub.execute_input": "2021-08-31T15:30:35.004284Z",
     "iopub.status.busy": "2021-08-31T15:30:35.003476Z",
     "iopub.status.idle": "2021-08-31T15:30:35.019267Z",
     "shell.execute_reply": "2021-08-31T15:30:35.018507Z",
     "shell.execute_reply.started": "2021-08-31T14:11:30.930337Z"
    },
    "papermill": {
     "duration": 0.104421,
     "end_time": "2021-08-31T15:30:35.019408",
     "exception": false,
     "start_time": "2021-08-31T15:30:34.914987",
     "status": "completed"
    },
    "tags": []
   },
   "outputs": [],
   "source": [
    "# complectation_dict - хороший признак, влияет на цену, но его надо как то распарсить, \n",
    "# чтобы он заработал, удаляем пока, также как и признак vehicleConfiguration\n",
    "# из-за больших пропусков в признаке Владение его удаляем\n",
    "df.drop(['complectation_dict', 'vehicleConfiguration', 'Владение'], axis=1, inplace=True)\n"
   ]
  },
  {
   "cell_type": "code",
   "execution_count": 47,
   "metadata": {
    "execution": {
     "iopub.execute_input": "2021-08-31T15:30:35.307463Z",
     "iopub.status.busy": "2021-08-31T15:30:35.306798Z",
     "iopub.status.idle": "2021-08-31T15:30:35.324059Z",
     "shell.execute_reply": "2021-08-31T15:30:35.324614Z",
     "shell.execute_reply.started": "2021-08-31T14:11:34.110064Z"
    },
    "papermill": {
     "duration": 0.218728,
     "end_time": "2021-08-31T15:30:35.324806",
     "exception": false,
     "start_time": "2021-08-31T15:30:35.106078",
     "status": "completed"
    },
    "tags": []
   },
   "outputs": [
    {
     "name": "stdout",
     "output_type": "stream",
     "text": [
      "<class 'pandas.core.frame.DataFrame'>\n",
      "RangeIndex: 120077 entries, 0 to 120076\n",
      "Data columns (total 22 columns):\n",
      " #   Column               Non-Null Count   Dtype   \n",
      "---  ------               --------------   -----   \n",
      " 0   bodyType             120077 non-null  object  \n",
      " 1   brand                120077 non-null  object  \n",
      " 2   color                120077 non-null  object  \n",
      " 3   engineDisplacement   120077 non-null  float64 \n",
      " 4   enginePower          120077 non-null  float64 \n",
      " 5   fuelType             120077 non-null  object  \n",
      " 6   mileage              120077 non-null  int64   \n",
      " 7   modelDate            120077 non-null  float64 \n",
      " 8   model_name           120077 non-null  object  \n",
      " 9   numberOfDoors        120077 non-null  float64 \n",
      " 10  productionDate       120077 non-null  int64   \n",
      " 11  vehicleTransmission  120077 non-null  object  \n",
      " 12  Владельцы            120077 non-null  category\n",
      " 13  ПТС                  120077 non-null  object  \n",
      " 14  Привод               120077 non-null  object  \n",
      " 15  Руль                 120077 non-null  object  \n",
      " 16  price                85391 non-null   float64 \n",
      " 17  sample               120077 non-null  int64   \n",
      " 18  description_length   120077 non-null  int64   \n",
      " 19  mileage_points       120077 non-null  int64   \n",
      " 20  prod_age             120077 non-null  int64   \n",
      " 21  model_age            120077 non-null  float64 \n",
      "dtypes: category(1), float64(6), int64(6), object(9)\n",
      "memory usage: 19.4+ MB\n"
     ]
    }
   ],
   "source": [
    "df.info()"
   ]
  },
  {
   "cell_type": "code",
   "execution_count": 48,
   "metadata": {
    "execution": {
     "iopub.execute_input": "2021-08-31T15:30:35.506334Z",
     "iopub.status.busy": "2021-08-31T15:30:35.501773Z",
     "iopub.status.idle": "2021-08-31T15:30:36.031686Z",
     "shell.execute_reply": "2021-08-31T15:30:36.030974Z",
     "shell.execute_reply.started": "2021-08-31T14:11:38.162296Z"
    },
    "papermill": {
     "duration": 0.622911,
     "end_time": "2021-08-31T15:30:36.031822",
     "exception": false,
     "start_time": "2021-08-31T15:30:35.408911",
     "status": "completed"
    },
    "tags": []
   },
   "outputs": [
    {
     "name": "stdout",
     "output_type": "stream",
     "text": [
      "['description_length', 'enginePower', 'mileage', 'productionDate', 'prod_age', 'modelDate', 'model_age']\n"
     ]
    },
    {
     "data": {
      "text/plain": [
       "<matplotlib.axes._subplots.AxesSubplot at 0x7f1f9b145910>"
      ]
     },
     "execution_count": 48,
     "metadata": {},
     "output_type": "execute_result"
    },
    {
     "data": {
      "image/png": "[encoded data removed]",
      "text/plain": [
       "<Figure size 720x360 with 2 Axes>"
      ]
     },
     "metadata": {},
     "output_type": "display_data"
    }
   ],
   "source": [
    "# посмотрим на корреляцию числовых признаков и цены\n",
    "print(num_cols)\n",
    "plt.figure(figsize=(10,5))\n",
    "sns.heatmap(df[num_cols + ['price']].corr(), annot = True)"
   ]
  },
  {
   "cell_type": "code",
   "execution_count": 49,
   "metadata": {
    "execution": {
     "iopub.execute_input": "2021-08-31T15:30:36.219824Z",
     "iopub.status.busy": "2021-08-31T15:30:36.214264Z",
     "iopub.status.idle": "2021-08-31T15:30:36.362078Z",
     "shell.execute_reply": "2021-08-31T15:30:36.361479Z",
     "shell.execute_reply.started": "2021-08-31T14:11:45.587312Z"
    },
    "papermill": {
     "duration": 0.244023,
     "end_time": "2021-08-31T15:30:36.362200",
     "exception": false,
     "start_time": "2021-08-31T15:30:36.118177",
     "status": "completed"
    },
    "tags": []
   },
   "outputs": [],
   "source": [
    "for colum in ['bodyType',\n",
    " 'brand',\n",
    " 'color',\n",
    " 'mileage_points',\n",
    " 'Владельцы',\n",
    " 'model_name',\n",
    " 'numberOfDoors',\n",
    " 'vehicleTransmission',\n",
    " 'ПТС',\n",
    " 'Привод',\n",
    " 'Руль',\n",
    " 'numberOfDoors',\n",
    " 'engineDisplacement',\n",
    " 'fuelType',\n",
    " 'Владельцы']:\n",
    "    df[colum] = df[colum].astype('category').cat.codes"
   ]
  },
  {
   "cell_type": "code",
   "execution_count": 50,
   "metadata": {
    "execution": {
     "iopub.execute_input": "2021-08-31T15:30:36.540365Z",
     "iopub.status.busy": "2021-08-31T15:30:36.539419Z",
     "iopub.status.idle": "2021-08-31T15:30:37.492478Z",
     "shell.execute_reply": "2021-08-31T15:30:37.491811Z",
     "shell.execute_reply.started": "2021-08-31T14:11:50.312007Z"
    },
    "papermill": {
     "duration": 1.045464,
     "end_time": "2021-08-31T15:30:37.492624",
     "exception": false,
     "start_time": "2021-08-31T15:30:36.447160",
     "status": "completed"
    },
    "tags": []
   },
   "outputs": [
    {
     "data": {
      "text/plain": [
       "<matplotlib.axes._subplots.AxesSubplot at 0x7f1f985d1550>"
      ]
     },
     "execution_count": 50,
     "metadata": {},
     "output_type": "execute_result"
    },
    {
     "data": {
      "image/png": "[encoded data removed]",
      "text/plain": [
       "<Figure size 576x396 with 1 Axes>"
      ]
     },
     "metadata": {},
     "output_type": "display_data"
    }
   ],
   "source": [
    "from pandas import Series\n",
    "from sklearn.feature_selection import f_classif, mutual_info_classif\n",
    "temp_df = df[df['sample'] == 1]\n",
    "imp_cat = Series(mutual_info_classif(temp_df[cat_cols], temp_df['price'], discrete_features=True), index=cat_cols)\n",
    "imp_cat.sort_values(inplace = True)\n",
    "imp_cat.plot(kind='barh')\n",
    "# проанализируем значимость категориальных признаков"
   ]
  },
  {
   "cell_type": "code",
   "execution_count": 51,
   "metadata": {
    "execution": {
     "iopub.execute_input": "2021-08-31T15:30:37.677026Z",
     "iopub.status.busy": "2021-08-31T15:30:37.676359Z",
     "iopub.status.idle": "2021-08-31T15:30:40.300794Z",
     "shell.execute_reply": "2021-08-31T15:30:40.300118Z",
     "shell.execute_reply.started": "2021-08-31T14:11:55.658141Z"
    },
    "papermill": {
     "duration": 2.721662,
     "end_time": "2021-08-31T15:30:40.300917",
     "exception": false,
     "start_time": "2021-08-31T15:30:37.579255",
     "status": "completed"
    },
    "tags": []
   },
   "outputs": [
    {
     "data": {
      "text/plain": [
       "<matplotlib.axes._subplots.AxesSubplot at 0x7f1f98c93710>"
      ]
     },
     "execution_count": 51,
     "metadata": {},
     "output_type": "execute_result"
    },
    {
     "data": {
      "image/png": "[encoded data removed]",
      "text/plain": [
       "<Figure size 576x396 with 1 Axes>"
      ]
     },
     "metadata": {},
     "output_type": "display_data"
    }
   ],
   "source": [
    "imp_num = Series(f_classif(temp_df[num_cols], temp_df['price'])[0], index = num_cols)\n",
    "imp_num.sort_values(inplace = True)\n",
    "imp_num.plot(kind = 'barh')\n",
    "# проанализируем числовые признаки"
   ]
  },
  {
   "cell_type": "code",
   "execution_count": 52,
   "metadata": {
    "execution": {
     "iopub.execute_input": "2021-08-31T15:30:40.488401Z",
     "iopub.status.busy": "2021-08-31T15:30:40.487206Z",
     "iopub.status.idle": "2021-08-31T15:30:40.505173Z",
     "shell.execute_reply": "2021-08-31T15:30:40.505655Z",
     "shell.execute_reply.started": "2021-08-31T14:12:03.601412Z"
    },
    "papermill": {
     "duration": 0.115102,
     "end_time": "2021-08-31T15:30:40.505813",
     "exception": false,
     "start_time": "2021-08-31T15:30:40.390711",
     "status": "completed"
    },
    "tags": []
   },
   "outputs": [
    {
     "name": "stdout",
     "output_type": "stream",
     "text": [
      "<class 'pandas.core.frame.DataFrame'>\n",
      "RangeIndex: 120077 entries, 0 to 120076\n",
      "Data columns (total 22 columns):\n",
      " #   Column                Non-Null Count   Dtype  \n",
      "---  ------                --------------   -----  \n",
      " 0   body_type             120077 non-null  int8   \n",
      " 1   brand                 120077 non-null  int8   \n",
      " 2   color                 120077 non-null  int8   \n",
      " 3   engine_displacement   120077 non-null  int8   \n",
      " 4   engine_power          120077 non-null  float64\n",
      " 5   fuel_type             120077 non-null  int8   \n",
      " 6   mileage               120077 non-null  int64  \n",
      " 7   model_date            120077 non-null  float64\n",
      " 8   model_name            120077 non-null  int16  \n",
      " 9   number_of_doors       120077 non-null  int8   \n",
      " 10  production_date       120077 non-null  int64  \n",
      " 11  vehicle_transmission  120077 non-null  int8   \n",
      " 12  owners                120077 non-null  int8   \n",
      " 13  passport              120077 non-null  int8   \n",
      " 14  drive                 120077 non-null  int8   \n",
      " 15  wheel                 120077 non-null  int8   \n",
      " 16  price                 85391 non-null   float64\n",
      " 17  sample                120077 non-null  int64  \n",
      " 18  description_length    120077 non-null  int64  \n",
      " 19  mileage_points        120077 non-null  int8   \n",
      " 20  prod_age              120077 non-null  int64  \n",
      " 21  model_age             120077 non-null  float64\n",
      "dtypes: float64(4), int16(1), int64(5), int8(12)\n",
      "memory usage: 9.8 MB\n"
     ]
    }
   ],
   "source": [
    "# по ходу модели ругаются на русские символы, приведем названия столбцов в нормальный вид\n",
    "df.rename(columns={'bodyType': 'body_type',\n",
    "                   'engineDisplacement': 'engine_displacement',\n",
    "                   'enginePower': 'engine_power',\n",
    "                   'fuelType': 'fuel_type',\n",
    "                   'modelDate': 'model_date',\n",
    "                   'numberOfDoors': 'number_of_doors',\n",
    "                   'productionDate': 'production_date',\n",
    "                   'vehicleTransmission': 'vehicle_transmission',\n",
    "                   'Владельцы': 'owners',\n",
    "                   'ПТС': 'passport',\n",
    "                   'Привод': 'drive',\n",
    "                   'Руль': 'wheel'\n",
    "                   }, inplace=True)\n",
    "df.info()"
   ]
  },
  {
   "cell_type": "markdown",
   "metadata": {
    "papermill": {
     "duration": 0.087821,
     "end_time": "2021-08-31T15:30:40.681318",
     "exception": false,
     "start_time": "2021-08-31T15:30:40.593497",
     "status": "completed"
    },
    "tags": []
   },
   "source": [
    "## Train Split"
   ]
  },
  {
   "cell_type": "code",
   "execution_count": 53,
   "metadata": {
    "execution": {
     "iopub.execute_input": "2021-08-31T15:30:40.869195Z",
     "iopub.status.busy": "2021-08-31T15:30:40.863529Z",
     "iopub.status.idle": "2021-08-31T15:30:40.919617Z",
     "shell.execute_reply": "2021-08-31T15:30:40.919055Z",
     "shell.execute_reply.started": "2021-08-31T14:12:09.648644Z"
    },
    "papermill": {
     "duration": 0.150742,
     "end_time": "2021-08-31T15:30:40.919744",
     "exception": false,
     "start_time": "2021-08-31T15:30:40.769002",
     "status": "completed"
    },
    "tags": []
   },
   "outputs": [],
   "source": [
    "train_df = df.query('sample == 1').drop(['sample'], axis=1)\n",
    "test_df = df.query('sample == 0').drop(['sample','price'], axis=1)\n",
    "X = train_df.drop(['price'], axis=1)\n",
    "y = train_df['price']\n",
    "X_train, X_test, y_train, y_test = train_test_split(X, y, test_size=0.2, shuffle=True, random_state=RANDOM_SEED)\n"
   ]
  },
  {
   "cell_type": "code",
   "execution_count": 54,
   "metadata": {
    "execution": {
     "iopub.execute_input": "2021-08-31T15:30:41.115516Z",
     "iopub.status.busy": "2021-08-31T15:30:41.114861Z",
     "iopub.status.idle": "2021-08-31T15:30:41.131455Z",
     "shell.execute_reply": "2021-08-31T15:30:41.130496Z",
     "shell.execute_reply.started": "2021-08-31T14:12:14.366719Z"
    },
    "papermill": {
     "duration": 0.116337,
     "end_time": "2021-08-31T15:30:41.131643",
     "exception": false,
     "start_time": "2021-08-31T15:30:41.015306",
     "status": "completed"
    },
    "tags": []
   },
   "outputs": [
    {
     "name": "stdout",
     "output_type": "stream",
     "text": [
      "<class 'pandas.core.frame.DataFrame'>\n",
      "Int64Index: 34686 entries, 0 to 34685\n",
      "Data columns (total 20 columns):\n",
      " #   Column                Non-Null Count  Dtype  \n",
      "---  ------                --------------  -----  \n",
      " 0   body_type             34686 non-null  int8   \n",
      " 1   brand                 34686 non-null  int8   \n",
      " 2   color                 34686 non-null  int8   \n",
      " 3   engine_displacement   34686 non-null  int8   \n",
      " 4   engine_power          34686 non-null  float64\n",
      " 5   fuel_type             34686 non-null  int8   \n",
      " 6   mileage               34686 non-null  int64  \n",
      " 7   model_date            34686 non-null  float64\n",
      " 8   model_name            34686 non-null  int16  \n",
      " 9   number_of_doors       34686 non-null  int8   \n",
      " 10  production_date       34686 non-null  int64  \n",
      " 11  vehicle_transmission  34686 non-null  int8   \n",
      " 12  owners                34686 non-null  int8   \n",
      " 13  passport              34686 non-null  int8   \n",
      " 14  drive                 34686 non-null  int8   \n",
      " 15  wheel                 34686 non-null  int8   \n",
      " 16  description_length    34686 non-null  int64  \n",
      " 17  mileage_points        34686 non-null  int8   \n",
      " 18  prod_age              34686 non-null  int64  \n",
      " 19  model_age             34686 non-null  float64\n",
      "dtypes: float64(3), int16(1), int64(4), int8(12)\n",
      "memory usage: 2.6 MB\n"
     ]
    }
   ],
   "source": [
    "test_df.info()"
   ]
  },
  {
   "cell_type": "markdown",
   "metadata": {
    "papermill": {
     "duration": 0.088298,
     "end_time": "2021-08-31T15:30:41.309906",
     "exception": false,
     "start_time": "2021-08-31T15:30:41.221608",
     "status": "completed"
    },
    "tags": []
   },
   "source": [
    "# Model 1: Создадим \"наивную\" модель \n",
    "Эта модель будет предсказывать среднюю цену по модели двигателя (engineDisplacement). \n",
    "C ней будем сравнивать другие модели.\n",
    "\n",
    "\n"
   ]
  },
  {
   "cell_type": "code",
   "execution_count": 55,
   "metadata": {
    "execution": {
     "iopub.execute_input": "2021-08-31T15:30:41.497839Z",
     "iopub.status.busy": "2021-08-31T15:30:41.497164Z",
     "iopub.status.idle": "2021-08-31T15:30:41.506675Z",
     "shell.execute_reply": "2021-08-31T15:30:41.506092Z",
     "shell.execute_reply.started": "2021-08-31T14:12:30.111062Z"
    },
    "papermill": {
     "duration": 0.106754,
     "end_time": "2021-08-31T15:30:41.506797",
     "exception": false,
     "start_time": "2021-08-31T15:30:41.400043",
     "status": "completed"
    },
    "tags": []
   },
   "outputs": [],
   "source": [
    "tmp_train = X_train.copy()\n",
    "tmp_train['price'] = y_train"
   ]
  },
  {
   "cell_type": "code",
   "execution_count": 56,
   "metadata": {
    "execution": {
     "iopub.execute_input": "2021-08-31T15:30:41.691952Z",
     "iopub.status.busy": "2021-08-31T15:30:41.691177Z",
     "iopub.status.idle": "2021-08-31T15:30:41.705022Z",
     "shell.execute_reply": "2021-08-31T15:30:41.704404Z",
     "shell.execute_reply.started": "2021-08-31T14:12:32.936147Z"
    },
    "papermill": {
     "duration": 0.110103,
     "end_time": "2021-08-31T15:30:41.705147",
     "exception": false,
     "start_time": "2021-08-31T15:30:41.595044",
     "status": "completed"
    },
    "tags": []
   },
   "outputs": [
    {
     "name": "stdout",
     "output_type": "stream",
     "text": [
      "Точность наивной модели по метрике MAPE: 82.87%\n"
     ]
    }
   ],
   "source": [
    "# Находим median по экземплярам engineDisplacement в трейне и размечаем тест\n",
    "predict = X_test['engine_displacement'].map(tmp_train.groupby('engine_displacement')['price'].median())\n",
    "\n",
    "#оцениваем точность\n",
    "print(f\"Точность наивной модели по метрике MAPE: {(mape(y_test, predict.values))*100:0.2f}%\")\n",
    "\n",
    "# Точность наивной модели по метрике MAPE: 82.87%"
   ]
  },
  {
   "cell_type": "markdown",
   "metadata": {
    "papermill": {
     "duration": 0.088833,
     "end_time": "2021-08-31T15:30:41.883917",
     "exception": false,
     "start_time": "2021-08-31T15:30:41.795084",
     "status": "completed"
    },
    "tags": []
   },
   "source": [
    "Модель №1"
   ]
  },
  {
   "cell_type": "code",
   "execution_count": 57,
   "metadata": {
    "execution": {
     "iopub.execute_input": "2021-08-31T15:30:42.065288Z",
     "iopub.status.busy": "2021-08-31T15:30:42.064603Z",
     "iopub.status.idle": "2021-08-31T15:30:42.138913Z",
     "shell.execute_reply": "2021-08-31T15:30:42.138309Z",
     "shell.execute_reply.started": "2021-08-31T14:12:38.462517Z"
    },
    "papermill": {
     "duration": 0.166094,
     "end_time": "2021-08-31T15:30:42.139060",
     "exception": false,
     "start_time": "2021-08-31T15:30:41.972966",
     "status": "completed"
    },
    "tags": []
   },
   "outputs": [
    {
     "name": "stdout",
     "output_type": "stream",
     "text": [
      "Точность модели по метрике MAPE: 29.76%\n"
     ]
    }
   ],
   "source": [
    "# можно посмотреть простую модель линейной регрессии\n",
    "from sklearn.linear_model import LinearRegression\n",
    "linear_regr = LinearRegression().fit(X_train, np.log(y_train+1))\n",
    "predict_test = np.exp(linear_regr.predict(X_test))\n",
    "print(f\"Точность модели по метрике MAPE: {(mape(y_test, predict_test))*100:0.2f}%\")\n",
    "\n",
    "# уже лучше - Точность модели по метрике MAPE: 29.76%"
   ]
  },
  {
   "cell_type": "markdown",
   "metadata": {
    "papermill": {
     "duration": 0.089991,
     "end_time": "2021-08-31T15:30:42.320261",
     "exception": false,
     "start_time": "2021-08-31T15:30:42.230270",
     "status": "completed"
    },
    "tags": []
   },
   "source": [
    "Модель №2"
   ]
  },
  {
   "cell_type": "code",
   "execution_count": 58,
   "metadata": {
    "execution": {
     "iopub.execute_input": "2021-08-31T15:30:42.534043Z",
     "iopub.status.busy": "2021-08-31T15:30:42.532888Z",
     "iopub.status.idle": "2021-08-31T15:31:44.735010Z",
     "shell.execute_reply": "2021-08-31T15:31:44.735576Z",
     "shell.execute_reply.started": "2021-08-31T14:12:43.453291Z"
    },
    "papermill": {
     "duration": 62.323851,
     "end_time": "2021-08-31T15:31:44.735788",
     "exception": false,
     "start_time": "2021-08-31T15:30:42.411937",
     "status": "completed"
    },
    "tags": []
   },
   "outputs": [
    {
     "name": "stdout",
     "output_type": "stream",
     "text": [
      "Точность модели по метрике MAPE: 14.93%\n"
     ]
    }
   ],
   "source": [
    "model = CatBoostRegressor(iterations = 5000,\n",
    "                          random_seed = RANDOM_SEED,\n",
    "                          eval_metric='MAPE',\n",
    "                          custom_metric=['R2', 'MAE'],\n",
    "                          silent=True,\n",
    "                         )\n",
    "model.fit(X_train, y_train,\n",
    "         eval_set=(X_test, y_test),\n",
    "         verbose_eval=0,\n",
    "         use_best_model=True\n",
    "         )\n",
    "\n",
    "model.save_model('catboost_single_model_baseline.model')\n",
    "predict = model.predict(X_test)\n",
    "print(f\"Точность модели по метрике MAPE: {(mape(y_test, predict))*100:0.2f}%\")\n",
    "\n",
    "# Точность модели по метрике MAPE: 14.93%"
   ]
  },
  {
   "cell_type": "code",
   "execution_count": 59,
   "metadata": {
    "execution": {
     "iopub.execute_input": "2021-08-31T15:31:44.942492Z",
     "iopub.status.busy": "2021-08-31T15:31:44.941389Z",
     "iopub.status.idle": "2021-08-31T15:32:47.037123Z",
     "shell.execute_reply": "2021-08-31T15:32:47.037670Z"
    },
    "papermill": {
     "duration": 62.201542,
     "end_time": "2021-08-31T15:32:47.037849",
     "exception": false,
     "start_time": "2021-08-31T15:31:44.836307",
     "status": "completed"
    },
    "tags": []
   },
   "outputs": [
    {
     "name": "stdout",
     "output_type": "stream",
     "text": [
      "Точность модели по метрике MAPE: 14.93%\n"
     ]
    }
   ],
   "source": [
    "# попробуем подобрать параметры \n",
    "cb = CatBoostRegressor(iterations = 20000,\n",
    "                       learning_rate = 0.15,\n",
    "                       depth = 9,\n",
    "                       random_seed = RANDOM_SEED,\n",
    "                       eval_metric = 'MAPE',\n",
    "                       custom_metric = ['R2', 'MAE'],\n",
    "                       silent=True\n",
    "                       )\n",
    "model.fit(X_train, y_train,\n",
    "         eval_set = (X_test, y_test),\n",
    "         verbose_eval = 0,\n",
    "         use_best_model = True\n",
    "         )\n",
    "\n",
    "model.save_model('catboost_single_model_baseline.model')\n",
    "predict = model.predict(X_test)\n",
    "print(f\"Точность модели по метрике MAPE: {(mape(y_test, predict))*100:0.2f}%\")\n",
    "\n",
    "# Точность модели по метрике MAPE: 14.93%"
   ]
  },
  {
   "cell_type": "markdown",
   "metadata": {
    "papermill": {
     "duration": 0.08968,
     "end_time": "2021-08-31T15:32:47.217432",
     "exception": false,
     "start_time": "2021-08-31T15:32:47.127752",
     "status": "completed"
    },
    "tags": []
   },
   "source": [
    "Модель 3 - попробуем уменьшить влияние выбросов с помощью логарифма"
   ]
  },
  {
   "cell_type": "code",
   "execution_count": 60,
   "metadata": {
    "execution": {
     "iopub.execute_input": "2021-08-31T15:32:47.417826Z",
     "iopub.status.busy": "2021-08-31T15:32:47.416854Z",
     "iopub.status.idle": "2021-08-31T15:33:50.214362Z",
     "shell.execute_reply": "2021-08-31T15:33:50.214959Z"
    },
    "papermill": {
     "duration": 62.907978,
     "end_time": "2021-08-31T15:33:50.215145",
     "exception": false,
     "start_time": "2021-08-31T15:32:47.307167",
     "status": "completed"
    },
    "tags": []
   },
   "outputs": [
    {
     "name": "stdout",
     "output_type": "stream",
     "text": [
      "Точность модели по метрике MAPE: 12.52%\n"
     ]
    }
   ],
   "source": [
    "model = CatBoostRegressor(iterations = 5000,\n",
    "                          random_seed = RANDOM_SEED,\n",
    "                          eval_metric='MAPE',\n",
    "                          custom_metric=['R2', 'MAE'],\n",
    "                          silent=True,\n",
    "                         )\n",
    "model.fit(X_train, np.log(y_train),\n",
    "         #cat_features=cat_features_ids,\n",
    "         eval_set=(X_test, np.log(y_test)),\n",
    "         verbose_eval=0,\n",
    "         use_best_model=True,\n",
    "         #plot=True\n",
    "         )\n",
    "\n",
    "model.save_model('catboost_single_model_2_baseline.model')\n",
    "predict_test = np.exp(model.predict(X_test))\n",
    "print(f\"Точность модели по метрике MAPE: {(mape(y_test, predict_test))*100:0.2f}%\")\n",
    "# Точность модели по метрике MAPE: 12.52%\n",
    "# predict_submission = np.exp(model.predict(test_df)) # kaggle v.9 13.2382"
   ]
  },
  {
   "cell_type": "markdown",
   "metadata": {
    "papermill": {
     "duration": 0.091595,
     "end_time": "2021-08-31T15:33:50.402692",
     "exception": false,
     "start_time": "2021-08-31T15:33:50.311097",
     "status": "completed"
    },
    "tags": []
   },
   "source": [
    "Модель №4"
   ]
  },
  {
   "cell_type": "code",
   "execution_count": 61,
   "metadata": {
    "execution": {
     "iopub.execute_input": "2021-08-31T15:33:50.591260Z",
     "iopub.status.busy": "2021-08-31T15:33:50.590586Z",
     "iopub.status.idle": "2021-08-31T15:41:01.652684Z",
     "shell.execute_reply": "2021-08-31T15:41:01.653501Z"
    },
    "papermill": {
     "duration": 431.160136,
     "end_time": "2021-08-31T15:41:01.653940",
     "exception": false,
     "start_time": "2021-08-31T15:33:50.493804",
     "status": "completed"
    },
    "tags": []
   },
   "outputs": [
    {
     "name": "stdout",
     "output_type": "stream",
     "text": [
      "Точность модели по метрике MAPE: 13.44%\n"
     ]
    }
   ],
   "source": [
    "from sklearn.ensemble import GradientBoostingRegressor\n",
    "gb = GradientBoostingRegressor(min_samples_split = 2,\n",
    "                               learning_rate = 0.03,\n",
    "                               max_depth = 10,\n",
    "                               n_estimators = 1000)\n",
    "gb.fit(X_train, y_train)\n",
    "predict = gb.predict(X_test)\n",
    "print(f\"Точность модели по метрике MAPE: {(mape(y_test, predict))*100:0.2f}%\")\n",
    "\n",
    "# Точность модели по метрике MAPE: 13.42%"
   ]
  },
  {
   "cell_type": "markdown",
   "metadata": {
    "papermill": {
     "duration": 0.094243,
     "end_time": "2021-08-31T15:41:01.841534",
     "exception": false,
     "start_time": "2021-08-31T15:41:01.747291",
     "status": "completed"
    },
    "tags": []
   },
   "source": [
    "Модель №4 с подбором параметров"
   ]
  },
  {
   "cell_type": "code",
   "execution_count": 62,
   "metadata": {
    "execution": {
     "iopub.execute_input": "2021-08-31T15:41:02.034929Z",
     "iopub.status.busy": "2021-08-31T15:41:02.034083Z",
     "iopub.status.idle": "2021-08-31T15:41:02.037506Z",
     "shell.execute_reply": "2021-08-31T15:41:02.036964Z"
    },
    "papermill": {
     "duration": 0.104323,
     "end_time": "2021-08-31T15:41:02.037659",
     "exception": false,
     "start_time": "2021-08-31T15:41:01.933336",
     "status": "completed"
    },
    "tags": []
   },
   "outputs": [],
   "source": [
    "# очень долго работает, каждый раз не запускаем\n",
    "from sklearn.model_selection import GridSearchCV\n",
    "max_depth = [5,10,15]\n",
    "n_estimators = [100, 200, 1000]\n",
    "hyperparameters = dict(max_depth = max_depth, n_estimators = n_estimators)\n",
    "#model = GradientBoostingRegressor()\n",
    "#model.fit(X_train, y_train)\n",
    "#clf = GridSearchCV(model, hyperparameters)\n",
    "#best_model = clf.fit(X_train, y_train)\n",
    "#print('max_depth: ', best_model.best_estimator_.get_params()['max_depth'])\n",
    "#print('n_estimators: ', best_model.best_estimator_.get_params()['n_estimators'])\n"
   ]
  },
  {
   "cell_type": "markdown",
   "metadata": {
    "papermill": {
     "duration": 0.096335,
     "end_time": "2021-08-31T15:41:02.228162",
     "exception": false,
     "start_time": "2021-08-31T15:41:02.131827",
     "status": "completed"
    },
    "tags": []
   },
   "source": [
    "Модель №5"
   ]
  },
  {
   "cell_type": "code",
   "execution_count": 63,
   "metadata": {
    "execution": {
     "iopub.execute_input": "2021-08-31T15:41:02.425531Z",
     "iopub.status.busy": "2021-08-31T15:41:02.424011Z",
     "iopub.status.idle": "2021-08-31T15:41:48.776355Z",
     "shell.execute_reply": "2021-08-31T15:41:48.777210Z"
    },
    "papermill": {
     "duration": 46.456055,
     "end_time": "2021-08-31T15:41:48.777438",
     "exception": false,
     "start_time": "2021-08-31T15:41:02.321383",
     "status": "completed"
    },
    "tags": []
   },
   "outputs": [
    {
     "name": "stdout",
     "output_type": "stream",
     "text": [
      "Точность модели по метрике MAPE: 16.22%\n"
     ]
    }
   ],
   "source": [
    "from sklearn.ensemble import RandomForestRegressor\n",
    "rfr = RandomForestRegressor(n_estimators = 1000,\n",
    "                           n_jobs = -1,\n",
    "                           max_depth = 15,\n",
    "                           max_features = 'log2',\n",
    "                           random_state = RANDOM_SEED,\n",
    "                           oob_score = True)\n",
    "rfr.fit(X_train, y_train)\n",
    "predict = rfr.predict(X_test)\n",
    "print(f\"Точность модели по метрике MAPE: {(mape(y_test, predict))*100:0.2f}%\")\n",
    "\n",
    "# Точность модели по метрике MAPE: 16.22%"
   ]
  },
  {
   "cell_type": "markdown",
   "metadata": {
    "papermill": {
     "duration": 0.091472,
     "end_time": "2021-08-31T15:41:48.961905",
     "exception": false,
     "start_time": "2021-08-31T15:41:48.870433",
     "status": "completed"
    },
    "tags": []
   },
   "source": [
    "Модель №6"
   ]
  },
  {
   "cell_type": "code",
   "execution_count": 64,
   "metadata": {
    "execution": {
     "iopub.execute_input": "2021-08-31T15:41:49.153318Z",
     "iopub.status.busy": "2021-08-31T15:41:49.152653Z",
     "iopub.status.idle": "2021-08-31T15:43:01.463755Z",
     "shell.execute_reply": "2021-08-31T15:43:01.464335Z"
    },
    "papermill": {
     "duration": 72.411123,
     "end_time": "2021-08-31T15:43:01.464527",
     "exception": false,
     "start_time": "2021-08-31T15:41:49.053404",
     "status": "completed"
    },
    "tags": []
   },
   "outputs": [
    {
     "name": "stdout",
     "output_type": "stream",
     "text": [
      "Точность модели по метрике MAPE: 16.30%\n"
     ]
    }
   ],
   "source": [
    "from lightgbm import LGBMRegressor\n",
    "lgbmr = LGBMRegressor(objective = 'regression', \n",
    "                      max_depth = 10,\n",
    "                      num_leaves = 500,\n",
    "                      learning_rate = 0.05,\n",
    "                      n_estimators = 10000,\n",
    "                      metric = 'mape',\n",
    "                      feature_fraction = 0.6\n",
    "                      )\n",
    "lgbmr.fit(X_train, y_train)\n",
    "predict = lgbmr.predict(X_test)\n",
    "print(f\"Точность модели по метрике MAPE: {(mape(y_test, predict))*100:0.2f}%\")\n",
    "\n",
    "# Точность модели по метрике MAPE: 16.30%"
   ]
  },
  {
   "cell_type": "markdown",
   "metadata": {
    "papermill": {
     "duration": 0.096903,
     "end_time": "2021-08-31T15:43:01.657394",
     "exception": false,
     "start_time": "2021-08-31T15:43:01.560491",
     "status": "completed"
    },
    "tags": []
   },
   "source": [
    "Модель №7"
   ]
  },
  {
   "cell_type": "code",
   "execution_count": 65,
   "metadata": {
    "execution": {
     "iopub.execute_input": "2021-08-31T15:43:01.856743Z",
     "iopub.status.busy": "2021-08-31T15:43:01.855997Z",
     "iopub.status.idle": "2021-08-31T15:46:42.439081Z",
     "shell.execute_reply": "2021-08-31T15:46:42.439658Z"
    },
    "papermill": {
     "duration": 220.688168,
     "end_time": "2021-08-31T15:46:42.439856",
     "exception": false,
     "start_time": "2021-08-31T15:43:01.751688",
     "status": "completed"
    },
    "tags": []
   },
   "outputs": [
    {
     "name": "stdout",
     "output_type": "stream",
     "text": [
      "Точность модели по метрике MAPE: 13.66%\n"
     ]
    }
   ],
   "source": [
    "from sklearn.ensemble import StackingRegressor\n",
    "estimators = [('lgbmr', LGBMRegressor(objective = 'regression', \n",
    "                                      max_depth = 10, \n",
    "                                      num_leaves = 500,\n",
    "                                      learning_rate = 0.02, \n",
    "                                      n_estimators = 100, \n",
    "                                      metric = 'mape',\n",
    "                                      feature_fraction = 0.6\n",
    "                                     )\n",
    "              ),\n",
    "              ('gbr', GradientBoostingRegressor(min_samples_split = 2,\n",
    "                                                learning_rate = 0.03,\n",
    "                                                max_depth = 10,\n",
    "                                                n_estimators = 100\n",
    "                                               )\n",
    "              )]\n",
    "\n",
    "stack = StackingRegressor(estimators = estimators, final_estimator = LinearRegression())\n",
    "stack.fit(X_train, np.log(y_train))\n",
    "predict_e = np.exp(stack.predict(X_test))\n",
    "print(f\"Точность модели по метрике MAPE: {(mape(y_test, predict_e))*100:0.2f}%\")\n",
    "\n",
    "# Точность модели по метрике MAPE: 13.66%\n",
    "# predict_submission = np.round(np.exp(stack.predict(test_df)),-3).astype('int') # Your submission scored 14.50850 \n"
   ]
  },
  {
   "cell_type": "markdown",
   "metadata": {
    "papermill": {
     "duration": 0.09291,
     "end_time": "2021-08-31T15:46:42.628620",
     "exception": false,
     "start_time": "2021-08-31T15:46:42.535710",
     "status": "completed"
    },
    "tags": []
   },
   "source": [
    "Модель №8"
   ]
  },
  {
   "cell_type": "code",
   "execution_count": 66,
   "metadata": {
    "execution": {
     "iopub.execute_input": "2021-08-31T15:46:42.825200Z",
     "iopub.status.busy": "2021-08-31T15:46:42.823692Z",
     "iopub.status.idle": "2021-08-31T15:48:14.846703Z",
     "shell.execute_reply": "2021-08-31T15:48:14.847227Z",
     "shell.execute_reply.started": "2021-08-31T14:17:17.620788Z"
    },
    "papermill": {
     "duration": 92.124115,
     "end_time": "2021-08-31T15:48:14.847379",
     "exception": false,
     "start_time": "2021-08-31T15:46:42.723264",
     "status": "completed"
    },
    "tags": []
   },
   "outputs": [
    {
     "name": "stdout",
     "output_type": "stream",
     "text": [
      "Точность модели по метрике MAPE: 12.27%\n"
     ]
    }
   ],
   "source": [
    "import xgboost as xgb\n",
    "xgbr = xgb.XGBRegressor(objective = 'reg:squarederror',\n",
    "                        colsample_bytree = 0.5,\n",
    "                        learning_rate = 0.02,\n",
    "                        max_depth = 10,\n",
    "                        alpha = 1,\n",
    "                        n_jobs = -1,\n",
    "                        n_estimators = 1000\n",
    "                       )\n",
    "xgbr.fit(X_train, np.log(y_train + 1))\n",
    "print(f\"Точность модели по метрике MAPE: {(mape(y_test, np.exp(xgbr.predict(X_test))))*100:0.2f}%\")\n",
    "\n",
    "# Точность модели по метрике MAPE: 12.27%"
   ]
  },
  {
   "cell_type": "code",
   "execution_count": 67,
   "metadata": {
    "execution": {
     "iopub.execute_input": "2021-08-31T15:48:15.041865Z",
     "iopub.status.busy": "2021-08-31T15:48:15.040826Z",
     "iopub.status.idle": "2021-08-31T15:48:22.714509Z",
     "shell.execute_reply": "2021-08-31T15:48:22.713913Z",
     "shell.execute_reply.started": "2021-08-31T15:28:39.605467Z"
    },
    "papermill": {
     "duration": 7.774367,
     "end_time": "2021-08-31T15:48:22.714669",
     "exception": false,
     "start_time": "2021-08-31T15:48:14.940302",
     "status": "completed"
    },
    "tags": []
   },
   "outputs": [],
   "source": [
    "predict_submission = np.exp(xgbr.predict(test_df))\n",
    "# Your submission scored 12.68488, which is an improvement of your previous score of 13.23820."
   ]
  },
  {
   "cell_type": "markdown",
   "metadata": {
    "papermill": {
     "duration": 0.096576,
     "end_time": "2021-08-31T15:48:22.907515",
     "exception": false,
     "start_time": "2021-08-31T15:48:22.810939",
     "status": "completed"
    },
    "tags": []
   },
   "source": [
    "# Submission"
   ]
  },
  {
   "cell_type": "code",
   "execution_count": 68,
   "metadata": {
    "execution": {
     "iopub.execute_input": "2021-08-31T15:48:23.109586Z",
     "iopub.status.busy": "2021-08-31T15:48:23.108684Z",
     "iopub.status.idle": "2021-08-31T15:48:23.468799Z",
     "shell.execute_reply": "2021-08-31T15:48:23.469346Z"
    },
    "papermill": {
     "duration": 0.465425,
     "end_time": "2021-08-31T15:48:23.469522",
     "exception": false,
     "start_time": "2021-08-31T15:48:23.004097",
     "status": "completed"
    },
    "tags": []
   },
   "outputs": [
    {
     "data": {
      "text/html": [
       "<div>\n",
       "<style scoped>\n",
       "    .dataframe tbody tr th:only-of-type {\n",
       "        vertical-align: middle;\n",
       "    }\n",
       "\n",
       "    .dataframe tbody tr th {\n",
       "        vertical-align: top;\n",
       "    }\n",
       "\n",
       "    .dataframe thead th {\n",
       "        text-align: right;\n",
       "    }\n",
       "</style>\n",
       "<table border=\"1\" class=\"dataframe\">\n",
       "  <thead>\n",
       "    <tr style=\"text-align: right;\">\n",
       "      <th></th>\n",
       "      <th>sell_id</th>\n",
       "      <th>price</th>\n",
       "    </tr>\n",
       "  </thead>\n",
       "  <tbody>\n",
       "    <tr>\n",
       "      <th>0</th>\n",
       "      <td>1100575026</td>\n",
       "      <td>6.140439e+05</td>\n",
       "    </tr>\n",
       "    <tr>\n",
       "      <th>1</th>\n",
       "      <td>1100549428</td>\n",
       "      <td>9.052058e+05</td>\n",
       "    </tr>\n",
       "    <tr>\n",
       "      <th>2</th>\n",
       "      <td>1100658222</td>\n",
       "      <td>8.767750e+05</td>\n",
       "    </tr>\n",
       "    <tr>\n",
       "      <th>3</th>\n",
       "      <td>1100937408</td>\n",
       "      <td>6.961381e+05</td>\n",
       "    </tr>\n",
       "    <tr>\n",
       "      <th>4</th>\n",
       "      <td>1101037972</td>\n",
       "      <td>6.872599e+05</td>\n",
       "    </tr>\n",
       "    <tr>\n",
       "      <th>5</th>\n",
       "      <td>1100912634</td>\n",
       "      <td>7.599797e+05</td>\n",
       "    </tr>\n",
       "    <tr>\n",
       "      <th>6</th>\n",
       "      <td>1101228730</td>\n",
       "      <td>6.314958e+05</td>\n",
       "    </tr>\n",
       "    <tr>\n",
       "      <th>7</th>\n",
       "      <td>1100165896</td>\n",
       "      <td>4.097266e+05</td>\n",
       "    </tr>\n",
       "    <tr>\n",
       "      <th>8</th>\n",
       "      <td>1100768262</td>\n",
       "      <td>1.644924e+06</td>\n",
       "    </tr>\n",
       "    <tr>\n",
       "      <th>9</th>\n",
       "      <td>1101218501</td>\n",
       "      <td>7.917218e+05</td>\n",
       "    </tr>\n",
       "  </tbody>\n",
       "</table>\n",
       "</div>"
      ],
      "text/plain": [
       "      sell_id         price\n",
       "0  1100575026  6.140439e+05\n",
       "1  1100549428  9.052058e+05\n",
       "2  1100658222  8.767750e+05\n",
       "3  1100937408  6.961381e+05\n",
       "4  1101037972  6.872599e+05\n",
       "5  1100912634  7.599797e+05\n",
       "6  1101228730  6.314958e+05\n",
       "7  1100165896  4.097266e+05\n",
       "8  1100768262  1.644924e+06\n",
       "9  1101218501  7.917218e+05"
      ]
     },
     "execution_count": 68,
     "metadata": {},
     "output_type": "execute_result"
    }
   ],
   "source": [
    "sample_submission['price'] = predict_submission\n",
    "sample_submission.to_csv('submission.csv', index = False)\n",
    "sample_submission.head(10)"
   ]
  },
  {
   "cell_type": "markdown",
   "metadata": {
    "papermill": {
     "duration": 0.095148,
     "end_time": "2021-08-31T15:48:23.660840",
     "exception": false,
     "start_time": "2021-08-31T15:48:23.565692",
     "status": "completed"
    },
    "tags": []
   },
   "source": [
    "Получилось, что из 8 моделей, xgboost дал наилучший результат "
   ]
  },
  {
   "cell_type": "code",
   "execution_count": null,
   "metadata": {
    "papermill": {
     "duration": 0.096822,
     "end_time": "2021-08-31T15:48:23.854745",
     "exception": false,
     "start_time": "2021-08-31T15:48:23.757923",
     "status": "completed"
    },
    "tags": []
   },
   "outputs": [],
   "source": []
  },
  {
   "cell_type": "code",
   "execution_count": null,
   "metadata": {
    "papermill": {
     "duration": 0.094545,
     "end_time": "2021-08-31T15:48:24.047016",
     "exception": false,
     "start_time": "2021-08-31T15:48:23.952471",
     "status": "completed"
    },
    "tags": []
   },
   "outputs": [],
   "source": []
  },
  {
   "cell_type": "code",
   "execution_count": null,
   "metadata": {
    "papermill": {
     "duration": 0.093063,
     "end_time": "2021-08-31T15:48:24.235817",
     "exception": false,
     "start_time": "2021-08-31T15:48:24.142754",
     "status": "completed"
    },
    "tags": []
   },
   "outputs": [],
   "source": []
  }
 ],
 "metadata": {
  "kernelspec": {
   "display_name": "Python 3",
   "language": "python",
   "name": "python3"
  },
  "language_info": {
   "codemirror_mode": {
    "name": "ipython",
    "version": 3
   },
   "file_extension": ".py",
   "mimetype": "text/x-python",
   "name": "python",
   "nbconvert_exporter": "python",
   "pygments_lexer": "ipython3",
   "version": "3.7.6"
  },
  "papermill": {
   "duration": 1116.194,
   "end_time": "2021-08-31T15:48:24.436318",
   "environment_variables": {},
   "exception": null,
   "input_path": "__notebook__.ipynb",
   "output_path": "__notebook__.ipynb",
   "parameters": {},
   "start_time": "2021-08-31T15:29:48.242318",
   "version": "2.1.0"
  }
 },
 "nbformat": 4,
 "nbformat_minor": 4
}
